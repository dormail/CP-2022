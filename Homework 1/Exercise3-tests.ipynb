{
 "cells": [
  {
   "cell_type": "code",
   "execution_count": 13,
   "id": "1aa88a93-232b-41df-9e8b-433742844110",
   "metadata": {},
   "outputs": [
    {
     "data": {
      "image/png": "[encoded data removed]",
      "text/plain": [
       "<Figure size 432x288 with 1 Axes>"
      ]
     },
     "metadata": {
      "needs_background": "light"
     },
     "output_type": "display_data"
    }
   ],
   "source": [
    "# tests for exercise 3\n",
    "\n",
    "import numpy as np\n",
    "from numpy.random import rand\n",
    "import matplotlib.pyplot as plt\n",
    "\n",
    "def f(x, alpha):\n",
    "    res = 2 * np.power(1-x, 1 / (1-alpha))\n",
    "    return res\n",
    "\n",
    "f = np.vectorize(f)\n",
    "\n",
    "x = rand(10000,1)\n",
    "\n",
    "#hist, bin_edges = np.histogram(f(x,2), bins=10, range=(2,12))\n",
    "#plt.hist(hist, bins=bin_edges)\n",
    "\n",
    "alpha_true = 5\n",
    "bin_count = 50\n",
    "n, bins, patches = plt.hist(f(x, alpha_true), bins=bin_count, density=False)\n",
    "#plt.yscale('log')\n",
    "#plt.xscale('log')\n",
    "\n",
    "plt.show()"
   ]
  },
  {
   "cell_type": "code",
   "execution_count": 14,
   "id": "433ce508-2f1f-449a-80bf-7d21f09af92f",
   "metadata": {},
   "outputs": [
    {
     "data": {
      "text/plain": [
       "array([3.974e+03, 2.277e+03, 1.299e+03, 7.530e+02, 5.030e+02, 3.230e+02,\n",
       "       2.180e+02, 1.790e+02, 1.120e+02, 8.200e+01, 6.800e+01, 4.200e+01,\n",
       "       2.800e+01, 3.500e+01, 2.200e+01, 1.200e+01, 1.100e+01, 1.200e+01,\n",
       "       7.000e+00, 5.000e+00, 2.000e+00, 3.000e+00, 6.000e+00, 3.000e+00,\n",
       "       2.000e+00, 2.000e+00, 6.000e+00, 3.000e+00, 0.000e+00, 2.000e+00,\n",
       "       0.000e+00, 1.000e+00, 1.000e+00, 0.000e+00, 1.000e+00, 2.000e+00,\n",
       "       0.000e+00, 0.000e+00, 0.000e+00, 1.000e+00, 0.000e+00, 1.000e+00,\n",
       "       0.000e+00, 1.000e+00, 0.000e+00, 0.000e+00, 0.000e+00, 0.000e+00,\n",
       "       0.000e+00, 1.000e+00])"
      ]
     },
     "execution_count": 14,
     "metadata": {},
     "output_type": "execute_result"
    }
   ],
   "source": [
    "n"
   ]
  },
  {
   "cell_type": "code",
   "execution_count": 15,
   "id": "5e8fe910-c3e7-4666-935f-348926f3b1c7",
   "metadata": {},
   "outputs": [
    {
     "data": {
      "text/plain": [
       "array([ 2.00001994,  2.27461381,  2.54920768,  2.82380156,  3.09839543,\n",
       "        3.37298931,  3.64758318,  3.92217706,  4.19677093,  4.47136481,\n",
       "        4.74595868,  5.02055256,  5.29514643,  5.56974031,  5.84433418,\n",
       "        6.11892806,  6.39352193,  6.66811581,  6.94270968,  7.21730356,\n",
       "        7.49189743,  7.7664913 ,  8.04108518,  8.31567905,  8.59027293,\n",
       "        8.8648668 ,  9.13946068,  9.41405455,  9.68864843,  9.9632423 ,\n",
       "       10.23783618, 10.51243005, 10.78702393, 11.0616178 , 11.33621168,\n",
       "       11.61080555, 11.88539943, 12.1599933 , 12.43458718, 12.70918105,\n",
       "       12.98377492, 13.2583688 , 13.53296267, 13.80755655, 14.08215042,\n",
       "       14.3567443 , 14.63133817, 14.90593205, 15.18052592, 15.4551198 ,\n",
       "       15.72971367])"
      ]
     },
     "execution_count": 15,
     "metadata": {},
     "output_type": "execute_result"
    }
   ],
   "source": [
    "bins"
   ]
  },
  {
   "cell_type": "code",
   "execution_count": 17,
   "id": "85daf251-2d88-402d-8316-fc5cb67a623d",
   "metadata": {},
   "outputs": [
    {
     "data": {
      "text/plain": [
       "51"
      ]
     },
     "execution_count": 17,
     "metadata": {},
     "output_type": "execute_result"
    }
   ],
   "source": [
    "len(bins)"
   ]
  },
  {
   "cell_type": "code",
   "execution_count": 26,
   "id": "45ee9282-1866-4598-b15b-10b756b02baa",
   "metadata": {},
   "outputs": [],
   "source": [
    "midpoints = np.zeros(bin_count)\n",
    "\n",
    "for i in range(0, bin_count):\n",
    "    midpoints[i] = (bins[i] + bins[i+1]) / 2"
   ]
  },
  {
   "cell_type": "code",
   "execution_count": 27,
   "id": "87ac3904-5468-43e1-a3d4-238ff27ed610",
   "metadata": {},
   "outputs": [
    {
     "name": "stdout",
     "output_type": "stream",
     "text": [
      "[ 2.13731687  2.41191075  2.68650462  2.9610985   3.23569237  3.51028625\n",
      "  3.78488012  4.059474    4.33406787  4.60866175  4.88325562  5.15784949\n",
      "  5.43244337  5.70703724  5.98163112  6.25622499  6.53081887  6.80541274\n",
      "  7.08000662  7.35460049  7.62919437  7.90378824  8.17838212  8.45297599\n",
      "  8.72756987  9.00216374  9.27675762  9.55135149  9.82594537 10.10053924\n",
      " 10.37513311 10.64972699 10.92432086 11.19891474 11.47350861 11.74810249\n",
      " 12.02269636 12.29729024 12.57188411 12.84647799 13.12107186 13.39566574\n",
      " 13.67025961 13.94485349 14.21944736 14.49404124 14.76863511 15.04322899\n",
      " 15.31782286 15.59241673]\n"
     ]
    }
   ],
   "source": [
    "print(midpoints)"
   ]
  },
  {
   "cell_type": "code",
   "execution_count": 28,
   "id": "8510d361-77d9-4b2f-9292-ee90037e88e8",
   "metadata": {},
   "outputs": [],
   "source": [
    "def p(x, A, alpha):\n",
    "    return A * np.power(x, -1 * alpha)"
   ]
  },
  {
   "cell_type": "code",
   "execution_count": 33,
   "id": "c7d62b65-01a2-45db-9e41-4d047df5a594",
   "metadata": {},
   "outputs": [
    {
     "name": "stderr",
     "output_type": "stream",
     "text": [
      "/tmp/ipykernel_94367/2021134204.py:2: RuntimeWarning: overflow encountered in power\n",
      "  return A * np.power(x, -1 * alpha)\n"
     ]
    }
   ],
   "source": [
    "from scipy.optimize import curve_fit\n",
    "\n",
    "popt, pcov = curve_fit(p, midpoints, n, p0=(1,5))"
   ]
  },
  {
   "cell_type": "code",
   "execution_count": 35,
   "id": "69a70d1e-4247-4d8b-afdb-2bb684575a45",
   "metadata": {},
   "outputs": [],
   "source": [
    "A = popt[0]\n",
    "alpha = popt[1]"
   ]
  },
  {
   "cell_type": "code",
   "execution_count": 38,
   "id": "1e397c6c-882c-43d2-9195-43f772619d6b",
   "metadata": {},
   "outputs": [
    {
     "data": {
      "text/plain": [
       "[<matplotlib.lines.Line2D at 0x7f8d26a0e7a0>]"
      ]
     },
     "execution_count": 38,
     "metadata": {},
     "output_type": "execute_result"
    },
    {
     "data": {
      "image/png": "[encoded data removed]",
      "text/plain": [
       "<Figure size 432x288 with 1 Axes>"
      ]
     },
     "metadata": {
      "needs_background": "light"
     },
     "output_type": "display_data"
    }
   ],
   "source": [
    "x = np.linspace(2,10)\n",
    "\n",
    "plt.plot(x, p(x,A,alpha))"
   ]
  },
  {
   "cell_type": "code",
   "execution_count": null,
   "id": "36fd9877-db2f-4537-9770-a5a6a34bb469",
   "metadata": {},
   "outputs": [],
   "source": []
  }
 ],
 "metadata": {
  "kernelspec": {
   "display_name": "Python 3 (ipykernel)",
   "language": "python",
   "name": "python3"
  },
  "language_info": {
   "codemirror_mode": {
    "name": "ipython",
    "version": 3
   },
   "file_extension": ".py",
   "mimetype": "text/x-python",
   "name": "python",
   "nbconvert_exporter": "python",
   "pygments_lexer": "ipython3",
   "version": "3.10.4"
  }
 },
 "nbformat": 4,
 "nbformat_minor": 5
}
