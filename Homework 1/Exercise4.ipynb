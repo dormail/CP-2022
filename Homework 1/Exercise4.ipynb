{
 "cells": [
  {
   "cell_type": "markdown",
   "id": "fa9368f3-11e1-4866-88b5-d51c679e2542",
   "metadata": {},
   "source": [
    "# Exercise 4"
   ]
  },
  {
   "cell_type": "code",
   "execution_count": 1,
   "id": "c13987ad-280c-4c17-835b-b9d5d7c61433",
   "metadata": {},
   "outputs": [],
   "source": [
    "import numpy as np\n",
    "import matplotlib.pyplot as plt\n",
    "from numpy.random import rand"
   ]
  },
  {
   "cell_type": "code",
   "execution_count": 2,
   "id": "b6c10e86-38be-47e0-96c2-e974fa697af8",
   "metadata": {},
   "outputs": [],
   "source": [
    "def random_walk(steps, self_avoiding=False, output=False):\n",
    "    x = np.zeros(steps)\n",
    "    y = np.zeros(steps)\n",
    "    distance = np.zeros(steps)\n",
    "\n",
    "    loop_stationary = 0 # variable counting loop cycles walker has not moved\n",
    "    max_stationary = 10\n",
    "\n",
    "    if self_avoiding:\n",
    "        i = 1\n",
    "        #new_x = 0\n",
    "        #new_y = 0\n",
    "        while i < steps:\n",
    "            # if it is stuck set rest to last location\n",
    "            if loop_stationary >= max_stationary:\n",
    "                x[i:] = x[i-1]\n",
    "                y[i:] = y[i-1]\n",
    "                if output:\n",
    "                    print(f'walker died after {i} steps')\n",
    "                i = steps\n",
    "                break\n",
    "\n",
    "            random_var = rand()\n",
    "            if random_var < .25:\n",
    "                new_x = x[i-1]+1\n",
    "                new_y = y[i-1]\n",
    "            elif random_var < .5:\n",
    "                new_x = x[i-1]\n",
    "                new_y = y[i-1]+1\n",
    "            elif random_var < .75:\n",
    "                new_x = x[i-1]-1\n",
    "                new_y = y[i-1]\n",
    "            else:\n",
    "                new_x = x[i-1]\n",
    "                new_y = y[i-1]-1\n",
    "            # check if walker has been there before\n",
    "            has_been_there = False\n",
    "            for j in range(0, i+1):\n",
    "                if new_x == x[j] and new_y == y[j]:\n",
    "                    has_been_there = True\n",
    "                    break\n",
    "                #endif\n",
    "            #endfor\n",
    "            if has_been_there:\n",
    "                loop_stationary = loop_stationary + 1\n",
    "                continue\n",
    "            else:\n",
    "                x[i] = new_x\n",
    "                y[i] = new_y\n",
    "                loop_stationary = 0\n",
    "\n",
    "            i = i + 1\n",
    "        #endwhile\n",
    "        distance = np.sqrt(np.power(x, 2) + np.power(y,2))\n",
    "        return x,y, distance\n",
    "    #endif\n",
    "\n",
    "\n",
    "    for i in range(1,steps):\n",
    "        random_var = rand()\n",
    "        if random_var < .25:\n",
    "            x[i] = x[i-1]+1\n",
    "            y[i] = y[i-1]\n",
    "            continue\n",
    "        if random_var < .5:\n",
    "            x[i] = x[i-1]\n",
    "            y[i] = y[i-1]+1\n",
    "            continue\n",
    "        if random_var < .75:\n",
    "            x[i] = x[i-1]-1\n",
    "            y[i] = y[i-1]\n",
    "            continue\n",
    "        x[i] = x[i-1]\n",
    "        y[i] = y[i-1]-1\n",
    "        \n",
    "    distance = np.sqrt(np.power(x, 2) + np.power(y,2))\n",
    "    return x,y, distance"
   ]
  },
  {
   "cell_type": "code",
   "execution_count": 3,
   "id": "5b97856a-7821-46f0-84ec-8a78f4505eab",
   "metadata": {},
   "outputs": [
    {
     "data": {
      "image/png": "[encoded data removed]",
      "text/plain": [
       "<Figure size 432x288 with 1 Axes>"
      ]
     },
     "metadata": {
      "needs_background": "light"
     },
     "output_type": "display_data"
    }
   ],
   "source": [
    "# self crossing\n",
    "# plotting many walks\n",
    "def plot_walks(amount_plots, steps, self_avoiding=False, output=False):\n",
    "    for i in range(0, amount_plots):\n",
    "        x, y, distance = random_walk(steps, self_avoiding=self_avoiding, output=output)\n",
    "        plt.plot(x,y, alpha=.5)\n",
    "        \n",
    "walks = 8\n",
    "steps = 1000\n",
    "plot_walks(walks, steps)\n",
    "plt.tight_layout()\n",
    "plt.savefig('build/many_walks.pdf')\n",
    "\n",
    "plt.clf()\n",
    "\n",
    "def distance_average(walks, steps, self_avoiding=False):\n",
    "    data = np.zeros((walks, steps))\n",
    "    for i in range(0, walks):\n",
    "        x,y, data[i, :] = random_walk(steps, self_avoiding=self_avoiding)\n",
    "    average = np.mean(data, axis=0)\n",
    "    return average\n",
    "\n",
    "walks = 1000\n",
    "steps = 1000\n",
    "dist = distance_average(walks, steps)\n",
    "\n",
    "t = np.arange(1,steps,1)\n",
    "plt.plot(t, dist[1:], label='Walk distance')\n",
    "plt.plot(t, np.sqrt(t), label=rf'sqrt(steps)')\n",
    "\n",
    "plt.xscale('log')\n",
    "plt.yscale('log')\n",
    "\n",
    "plt.xlabel('# of steps')\n",
    "plt.ylabel('Distance / length unit')\n",
    "#plt.title(f'Distance averaged over {walks} walks')\n",
    "\n",
    "plt.legend()\n",
    "plt.tight_layout()\n",
    "\n",
    "plt.savefig('build/Steps-Distance.pdf')\n",
    " "
   ]
  },
  {
   "cell_type": "markdown",
   "id": "00aef572-cca1-49ab-95fc-998f20f1ec98",
   "metadata": {},
   "source": [
    "## Self avoiding walker"
   ]
  },
  {
   "cell_type": "code",
   "execution_count": 4,
   "id": "a58ed67f-ca66-4264-befd-1f38ef854ade",
   "metadata": {},
   "outputs": [
    {
     "name": "stdout",
     "output_type": "stream",
     "text": [
      "Now doing it for saw\n",
      "walker died after 40 steps\n",
      "walker died after 144 steps\n",
      "walker died after 26 steps\n",
      "walker died after 26 steps\n",
      "walker died after 52 steps\n"
     ]
    },
    {
     "data": {
      "image/png": "[encoded data removed]",
      "text/plain": [
       "<Figure size 432x288 with 1 Axes>"
      ]
     },
     "metadata": {
      "needs_background": "light"
     },
     "output_type": "display_data"
    }
   ],
   "source": [
    "# self avoiding\n",
    "print('Now doing it for saw')\n",
    "\n",
    "# plotting many walks\n",
    "plt.clf()\n",
    "walks = 5\n",
    "steps = 1000\n",
    "plot_walks(walks, steps, self_avoiding=True, output=True)\n",
    "plt.tight_layout()\n",
    "plt.savefig('build/many_walks-SAW.pdf')"
   ]
  },
  {
   "cell_type": "code",
   "execution_count": 46,
   "id": "8d440279-c3c7-430f-9644-adb25d3aea7f",
   "metadata": {},
   "outputs": [
    {
     "name": "stdout",
     "output_type": "stream",
     "text": [
      "Average over many walks for distance_saw\n",
      "d_saw = 1.6216201480823567 \\pm 0.005316402093760214\n"
     ]
    },
    {
     "data": {
      "image/png": "[encoded data removed]",
      "text/plain": [
       "<Figure size 432x288 with 1 Axes>"
      ]
     },
     "metadata": {
      "needs_background": "light"
     },
     "output_type": "display_data"
    }
   ],
   "source": [
    "# calculating distance\n",
    "plt.clf()\n",
    "\n",
    "print('Average over many walks for distance_saw')\n",
    "walks = 1000\n",
    "dist_saw = distance_average(walks, steps, self_avoiding=True)\n",
    "dist = distance_average(walks, steps, self_avoiding=False)\n",
    "\n",
    "# making a curve fit to guess the 'dimension'\n",
    "def R(t, d):\n",
    "    return np.power(t, 1/d)\n",
    "\n",
    "from scipy.optimize import curve_fit\n",
    "\n",
    "t = np.arange(1,steps,1)\n",
    "\n",
    "limit = 30\n",
    "limited_dist_saw = dist_saw[1:limit+1]\n",
    "t_limited = t[0:limit]\n",
    "\n",
    "popt_saw, pcov_saw = curve_fit(R, t_limited, limited_dist_saw, p0=2)\n",
    "d_saw = popt_saw[0]\n",
    "error = np.sqrt(np.diag(pcov_saw))\n",
    "d_saw_stddev = error[0]\n",
    "print(f'd_saw = {d_saw} \\pm {d_saw_stddev}')\n",
    "\n",
    "plt.plot(t, dist_saw[1:], label='Self avoiding')\n",
    "plt.plot(t, dist[1:], label='Self intersecting')\n",
    "#plt.plot(t, np.sqrt(t), label=rf'sqrt(steps)')\n",
    "plt.plot(t_limited, R(t_limited, d_saw), label=rf'curve_fit SAW $1/t^d$ with $d={d_saw:.4f}$')\n",
    "\n",
    "plt.xscale('log')\n",
    "plt.yscale('log')\n",
    "\n",
    "plt.xlabel('# of steps')\n",
    "plt.ylabel('Distance / length unit')\n",
    "#plt.title(f'Distance averaged over {walks} walks')\n",
    "\n",
    "# anotionas about areas\n",
    "plt.annotate(text='', xy=(1,11), xytext=(30,11), arrowprops=dict(arrowstyle='<->'))\n",
    "plt.text(2,9, 'Fast growth')\n",
    "plt.annotate(text='', xy=(100,1), xytext=(1000,1), arrowprops=dict(arrowstyle='<->'), horizontalalignment=\"center\")\n",
    "plt.text(100, 1.2, 'Limited by termination')\n",
    "\n",
    "plt.legend()\n",
    "plt.tight_layout()\n",
    "\n",
    "plt.savefig('build/Steps-Distance-SAW.pdf')"
   ]
  },
  {
   "cell_type": "code",
   "execution_count": null,
   "id": "997fce29-517f-43d1-90a5-32c45e9371eb",
   "metadata": {},
   "outputs": [],
   "source": []
  }
 ],
 "metadata": {
  "kernelspec": {
   "display_name": "Python 3 (ipykernel)",
   "language": "python",
   "name": "python3"
  },
  "language_info": {
   "codemirror_mode": {
    "name": "ipython",
    "version": 3
   },
   "file_extension": ".py",
   "mimetype": "text/x-python",
   "name": "python",
   "nbconvert_exporter": "python",
   "pygments_lexer": "ipython3",
   "version": "3.10.4"
  }
 },
 "nbformat": 4,
 "nbformat_minor": 5
}
