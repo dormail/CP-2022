{
 "cells": [
  {
   "cell_type": "markdown",
   "metadata": {},
   "source": [
    "# PH413 Computation Physics - Practice [Week 11]"
   ]
  },
  {
   "cell_type": "markdown",
   "metadata": {},
   "source": [
    "**======================== ★ Assignment 1 ★ ========================**\n",
    "* Applying the Metropolis-Hastings algorithm, implemnet the 2D ising model and plot the magnetization with respect to temperature.\n",
    "\n",
    "* The Metropolis-Hastings algorithm follows these steps:\n",
    "    1. Pick a initial spin configuration $x$.\n",
    "    2. Pick a new spin configuration $x'$ (flip the spin of a randomly chosen lattice site).\n",
    "    3. Make a random choice to take the new configuration or keep the old one, weighted by the relative likelihoods of the new configuration vs. the old one $p(x')/p(x)$.\n",
    "    4. Repeat 2 to 3 until the system converges (or until $N$ stpes).\n",
    "  \n",
    "* Note that $p(x) \\propto \\exp{\\left( -E(x)/T \\right)}$ where $E(x) = -J\\sum_{\\langle i, j\\rangle}s_i s_j$ so that $p(x')/p(x) = \\exp{\\left( -\\left[E(x') - E(x)\\right]/ k_B T \\right)}$.\n",
    "\n",
    "* Set $J=1$, $k_B=1$ for simplicity.\n",
    "\n",
    "**==========================================================**\n"
   ]
  },
  {
   "cell_type": "code",
   "execution_count": 1,
   "metadata": {
    "ExecuteTime": {
     "end_time": "2022-05-11T02:27:16.518252Z",
     "start_time": "2022-05-11T02:27:16.504250Z"
    },
    "execution": {
     "iopub.execute_input": "2022-05-13T18:52:04.088464Z",
     "iopub.status.busy": "2022-05-13T18:52:04.088120Z",
     "iopub.status.idle": "2022-05-13T18:52:04.190702Z",
     "shell.execute_reply": "2022-05-13T18:52:04.190062Z",
     "shell.execute_reply.started": "2022-05-13T18:52:04.088362Z"
    },
    "tags": []
   },
   "outputs": [],
   "source": [
    "import numpy as np\n",
    "from numpy.random import randint, rand\n",
    "\n",
    "def initial_config(N):   \n",
    "    ''' \n",
    "    Generates a random spin configuration for initial condition\n",
    "    '''\n",
    "    config = 2*np.random.randint(2, size=(N,N))-1\n",
    "    return config\n",
    "\n",
    "def cal_Energy(config):\n",
    "    Energy = 0\n",
    "    N = config.shape[0]\n",
    "    for i in range(N-1):\n",
    "        for j in range(N-1):\n",
    "            spin_val = config[i,j]\n",
    "            Energy_of_spin = spin_val * (config[i,j+1] + config[i, j-1] + config[i+1,j] + config[i-1,j])\n",
    "            Energy += Energy_of_spin\n",
    "        # on the edge we need to do it by hand\n",
    "        spin_val = config[i,N-1]\n",
    "        Energy_of_spin = spin_val * (config[i,0] + config[i, N-2] + config[i+1,N-1] + config[i-1,N-1])\n",
    "        Energy += Energy_of_spin\n",
    "        \n",
    "    for j in range(N-1):\n",
    "        spin_val = config[N-1,j]\n",
    "        Energy_of_spin = spin_val * (config[N-1,j+1] + config[N-1, j-1] + config[0,j] + config[N-2,j])\n",
    "        Energy += Energy_of_spin\n",
    "    # on the edge we need to do it by hand\n",
    "    spin_val = config[N-1,N-1]\n",
    "    Energy_of_spin = spin_val * (config[N-1,0] + config[N-1, N-2] + config[0,N-1] + config[N-2,N-1])\n",
    "    Energy += Energy_of_spin\n",
    "    return Energy / -2 # divide here because every interaction has been counted twice\n",
    "\n",
    "\n",
    "def cal_Magnetization(config):\n",
    "    '''\n",
    "    Magnetization of a given configuration\n",
    "    '''\n",
    "    mag = np.sum(config)\n",
    "    return mag/config.size\n",
    "\n",
    "\n",
    "def time_step(config, T):\n",
    "    i = randint(0,N)\n",
    "    j = randint(0,N)\n",
    "    \n",
    "    Energy_before = cal_Energy(config)\n",
    "    config[i,j] *= -1 # simulate flip\n",
    "    Energy_after = cal_Energy(config)\n",
    "    config[i,j] *= -1 # flip it back\n",
    "    \n",
    "    beta = 1 / T\n",
    "    delta_E = Energy_after - Energy_before\n",
    "    p = np.exp(-1 * delta_E * beta)\n",
    "    random_number = rand()\n",
    "    if (random_number <= p):\n",
    "        config[i,j] = -1 * config[i,j] # accepted => flip spin\n",
    "\n",
    "\n",
    "# complete sweep so that on average each spin has been offered a flip\n",
    "def sweep(config, T):\n",
    "    N = config.shape[0]\n",
    "    for _ in range(N*N):\n",
    "        time_step(config, T)\n",
    "        \n",
    "def many_sweeps(config, T, N=100):\n",
    "    for _ in range(N):\n",
    "        sweep(config, T)\n",
    "        \n",
    "def measurement_magnetiziation(T,N, single_measurements=5):\n",
    "    config = initial_config(N)\n",
    "    many_sweeps(config,T)\n",
    "    results = []\n",
    "    for _ in range(single_measurements):\n",
    "        results.append(np.abs(cal_Magnetization(config)))\n",
    "        many_sweeps(config,T,N=5)\n",
    "    return np.average(results), np.std(results)\n",
    "\n",
    "def print_grid(config):\n",
    "    N = config.shape[0]\n",
    "    for i in range(N):\n",
    "        for j in range(N):\n",
    "            if (config[i,j] == 1):\n",
    "                print(\"#\", end =\"\")\n",
    "            else:\n",
    "                print(\" \", end=\"\")\n",
    "        print(\"\", end=\"\\n\")"
   ]
  },
  {
   "cell_type": "code",
   "execution_count": 2,
   "metadata": {
    "execution": {
     "iopub.execute_input": "2022-05-13T18:52:04.191769Z",
     "iopub.status.busy": "2022-05-13T18:52:04.191652Z",
     "iopub.status.idle": "2022-05-13T18:53:40.725000Z",
     "shell.execute_reply": "2022-05-13T18:53:40.724504Z",
     "shell.execute_reply.started": "2022-05-13T18:52:04.191757Z"
    },
    "tags": []
   },
   "outputs": [],
   "source": [
    "N = 10\n",
    "T = np.linspace(.05, 10,40)\n",
    "M_ave = []\n",
    "M_std = []\n",
    "for tempe in T:\n",
    "    ave, std = measurement_magnetiziation(tempe,N)\n",
    "    M_ave.append(ave)\n",
    "    M_std.append(std)"
   ]
  },
  {
   "cell_type": "code",
   "execution_count": 3,
   "metadata": {
    "execution": {
     "iopub.execute_input": "2022-05-13T18:53:40.725613Z",
     "iopub.status.busy": "2022-05-13T18:53:40.725525Z",
     "iopub.status.idle": "2022-05-13T18:53:41.262688Z",
     "shell.execute_reply": "2022-05-13T18:53:41.262201Z",
     "shell.execute_reply.started": "2022-05-13T18:53:40.725602Z"
    },
    "tags": []
   },
   "outputs": [
    {
     "data": {
      "text/plain": [
       "Text(0, 0.5, 'M')"
      ]
     },
     "execution_count": 3,
     "metadata": {},
     "output_type": "execute_result"
    },
    {
     "data": {
      "image/png": "[encoded data removed]",
      "text/plain": [
       "<Figure size 432x288 with 1 Axes>"
      ]
     },
     "metadata": {
      "needs_background": "light"
     },
     "output_type": "display_data"
    }
   ],
   "source": [
    "import matplotlib.pyplot as plt\n",
    "plt.errorbar(T, M_ave,xerr=.1, yerr=M_std, ls='')\n",
    "plt.xlabel('T')\n",
    "plt.ylabel('M')"
   ]
  },
  {
   "cell_type": "code",
   "execution_count": null,
   "metadata": {},
   "outputs": [],
   "source": []
  }
 ],
 "metadata": {
  "kernelspec": {
   "display_name": "Python 3 (ipykernel)",
   "language": "python",
   "name": "python3"
  },
  "language_info": {
   "codemirror_mode": {
    "name": "ipython",
    "version": 3
   },
   "file_extension": ".py",
   "mimetype": "text/x-python",
   "name": "python",
   "nbconvert_exporter": "python",
   "pygments_lexer": "ipython3",
   "version": "3.10.4"
  }
 },
 "nbformat": 4,
 "nbformat_minor": 4
}
