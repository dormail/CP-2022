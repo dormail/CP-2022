{
 "cells": [
  {
   "cell_type": "markdown",
   "metadata": {},
   "source": [
    "# PH413 Computation Physics - Practice [Week 5]"
   ]
  },
  {
   "cell_type": "markdown",
   "metadata": {},
   "source": [
    "## 1. Numerical Methods (1) : Errors, Accuracy, Stability"
   ]
  },
  {
   "cell_type": "markdown",
   "metadata": {},
   "source": [
    "## 1.1 Rounding error"
   ]
  },
  {
   "cell_type": "markdown",
   "metadata": {},
   "source": [
    "* Rounding error is a error comes from finite precision, due to limitation of machine memory.\n",
    "    * It is a hardware error, thus there will be no rounding error if we have infinite percision.\n",
    "* This error can be accumulated into somewhat substantial amount."
   ]
  },
  {
   "cell_type": "markdown",
   "metadata": {},
   "source": [
    "* Let us consider a value $\\phi= \\frac{1}{2} \\left( \\sqrt{5}-1\\ \\right)$ satisfying $\\phi^n = \\phi^{n-1} + \\phi^{n-2} $."
   ]
  },
  {
   "cell_type": "code",
   "execution_count": 1,
   "metadata": {
    "ExecuteTime": {
     "end_time": "2022-03-30T04:30:26.304717Z",
     "start_time": "2022-03-30T04:30:26.290694Z"
    }
   },
   "outputs": [
    {
     "name": "stdout",
     "output_type": "stream",
     "text": [
      "True phi = 0.61803398749895\n",
      "Calculated phi = 0.6180339887498949\n",
      "Difference = 1.2509449032194198e-09\n"
     ]
    }
   ],
   "source": [
    "import math as m\n",
    "\n",
    "phi_z1 = 0.61803398749895\n",
    "phi_z2 = 0.5*(m.sqrt(5.0)-1)\n",
    "\n",
    "print('True phi = {}'.format(phi_z1))\n",
    "print('Calculated phi = {}'.format(phi_z2))\n",
    "print('Difference = {}'.format(abs(phi_z1-phi_z2)))"
   ]
  },
  {
   "cell_type": "code",
   "execution_count": 2,
   "metadata": {
    "ExecuteTime": {
     "end_time": "2022-03-30T04:30:27.148337Z",
     "start_time": "2022-03-30T04:30:27.137322Z"
    },
    "scrolled": false
   },
   "outputs": [
    {
     "name": "stdout",
     "output_type": "stream",
     "text": [
      "True phi = 0.61803398749895\n",
      " n   \t        phi^(n-2)-phi^(n-1) \t    phi^n \t |rel. error|\n",
      " n = 2    \t   0.3819660125  \t 0.3819660097 \t 0.0000\n",
      " n = 3    \t   0.2360679750  \t 0.2360679761 \t 0.0000\n",
      " n = 4    \t   0.1458980375  \t 0.1458980326 \t 0.0000\n",
      " n = 5    \t   0.0901699375  \t 0.0901699428 \t 0.0000\n",
      " n = 6    \t   0.0557281000  \t 0.0557280893 \t 0.0000\n",
      " n = 7    \t   0.0344418375  \t 0.0344418533 \t 0.0000\n",
      " n = 8    \t   0.0212862625  \t 0.0212862359 \t 0.0000\n",
      " n = 9    \t   0.0131555750  \t 0.0131556173 \t 0.0000\n",
      " n = 10    \t   0.0081306876  \t 0.0081306186 \t 0.0000\n",
      " n = 11    \t   0.0050248874  \t 0.0050249986 \t 0.0000\n",
      " n = 12    \t   0.0031058002  \t 0.0031056199 \t 0.0001\n",
      " n = 13    \t   0.0019190873  \t 0.0019193787 \t 0.0002\n",
      " n = 14    \t   0.0011867129  \t 0.0011862413 \t 0.0004\n",
      " n = 15    \t   0.0007323744  \t 0.0007331374 \t 0.0010\n",
      " n = 16    \t   0.0004543385  \t 0.0004531038 \t 0.0027\n",
      " n = 17    \t   0.0002780358  \t 0.0002800336 \t 0.0071\n",
      " n = 18    \t   0.0001763027  \t 0.0001730703 \t 0.0187\n",
      " n = 19    \t   0.0001017331  \t 0.0001069633 \t 0.0489\n",
      " n = 20    \t   0.0000745696  \t 0.0000661070 \t 0.1280\n",
      " n = 21    \t   0.0000271635  \t 0.0000408563 \t 0.3351\n",
      " n = 22    \t   0.0000474061  \t 0.0000252506 \t 0.8774\n",
      " n = 23    \t   -0.0000202426  \t 0.0000156057 \t 2.2971\n",
      " n = 24    \t   0.0000676487  \t 0.0000096449 \t 6.0140\n",
      " n = 25    \t   -0.0000878913  \t 0.0000059609 \t 15.7447\n",
      " n = 26    \t   0.0001555400  \t 0.0000036840 \t 41.2202\n",
      " n = 27    \t   -0.0002434312  \t 0.0000022768 \t 107.9160\n",
      " n = 28    \t   0.0003989712  \t 0.0000014072 \t 282.5277\n",
      " n = 29    \t   -0.0006424024  \t 0.0000008697 \t 739.6671\n",
      " n = 30    \t   0.0010413736  \t 0.0000005375 \t 1936.4737\n"
     ]
    }
   ],
   "source": [
    "phi = []\n",
    "phi2 = []\n",
    "phi3 = []\n",
    "phi.append(1)\n",
    "phi.append(phi_z1)\n",
    "print('True phi = {}'.format(phi_z1))\n",
    "print(' n   \\t        phi^(n-2)-phi^(n-1) \\t    phi^n \\t |rel. error|')\n",
    "a = []\n",
    "for i in range(1,30):\n",
    "    phi.append(phi[i-1]-phi[i])\n",
    "    real_phi = m.pow(phi_z1, i+1)\n",
    "    rel_error = (phi[i+1]-real_phi)/real_phi\n",
    "    a.append(phi[i+1]-real_phi)\n",
    "    \n",
    "    print(' n = {0}    \\t   {1:0.10f}  \\t {2:0.10f} \\t {3:0.4f}'.format(i+1, phi[i+1], m.pow(phi_z1, i+1), abs(rel_error)))"
   ]
  },
  {
   "cell_type": "markdown",
   "metadata": {},
   "source": [
    "## 1.2 Truncation error"
   ]
  },
  {
   "cell_type": "markdown",
   "metadata": {},
   "source": [
    "* If we apporximate an infinite sum into sum of finite series, there should be an error corresponds to ignored terms. It is called truncation error.\n",
    "    * Truncation error presents even with infinite precision, because software (algorithm) inself inherently possess truncation error.\n",
    "    * We will study more about these infinite sums (such as numerical integration methods) in Numerical methods (2)."
   ]
  },
  {
   "cell_type": "code",
   "execution_count": 3,
   "metadata": {
    "ExecuteTime": {
     "end_time": "2022-03-30T04:30:28.681842Z",
     "start_time": "2022-03-30T04:30:28.672842Z"
    }
   },
   "outputs": [],
   "source": [
    "def exp2x(x):\n",
    "    return m.exp(2*x)\n",
    "\n",
    "def integrated_exp2x_analytic(x):\n",
    "    return (m.exp(2*x)-1)/2.0"
   ]
  },
  {
   "cell_type": "markdown",
   "metadata": {},
   "source": [
    "* Try the following (naive) numerical integration with different dt value. \n",
    "* You will observe the trade-off between time and abs. error. "
   ]
  },
  {
   "cell_type": "code",
   "execution_count": 4,
   "metadata": {
    "ExecuteTime": {
     "end_time": "2022-03-30T04:30:29.642328Z",
     "start_time": "2022-03-30T04:30:29.625324Z"
    }
   },
   "outputs": [
    {
     "name": "stdout",
     "output_type": "stream",
     "text": [
      "numerical : 3.162689252529098, analytical : 3.194528049465325, abs. error : 0.031838796936227265\n",
      "CPU times: user 327 µs, sys: 0 ns, total: 327 µs\n",
      "Wall time: 281 µs\n"
     ]
    }
   ],
   "source": [
    "%%time\n",
    "result = 0\n",
    "dt = 0.01\n",
    "N = 1/dt\n",
    "for i in range(int(N)):\n",
    "    result += dt*exp2x(i*dt)\n",
    "    \n",
    "print('numerical : {}, analytical : {}, abs. error : {}'.format(result, integrated_exp2x_analytic(1.0), abs(result-integrated_exp2x_analytic(1.0))))"
   ]
  },
  {
   "cell_type": "markdown",
   "metadata": {},
   "source": [
    "**★★ Task 1★★**\n",
    "\n",
    "* Find your machine-epsilon $\\epsilon_m$.\n",
    "\n",
    "\n",
    "* Write down your method. (if possible, your code. If it's too long, you can capture the screenshot of the code and explain it.)"
   ]
  },
  {
   "cell_type": "code",
   "execution_count": 10,
   "metadata": {},
   "outputs": [
    {
     "name": "stdout",
     "output_type": "stream",
     "text": [
      "1.1102230246251565e-16\n"
     ]
    }
   ],
   "source": [
    "eps = 1\n",
    "\n",
    "while(1):\n",
    "    if 1 + eps == 1:\n",
    "        break\n",
    "    eps = eps/2\n",
    "\n",
    "print(eps)"
   ]
  },
  {
   "cell_type": "markdown",
   "metadata": {},
   "source": [
    "## 1.2. Numerical Differentiation"
   ]
  },
  {
   "cell_type": "markdown",
   "metadata": {},
   "source": [
    "* Mainly, your goal is implement a required function nicely.\n",
    "* But, watch out the stiff equations. It has no fixed definition, since it depends on your numerical method."
   ]
  },
  {
   "cell_type": "markdown",
   "metadata": {},
   "source": [
    "**======================== ★ Task 2 ★ ========================**\n",
    "* Generate a noisy sequence $y(t) = (1-e^{-2t})+U[-0,05, 0.05]$ for t= 0, 0.1, 0.2, ... 10.\n",
    "\n",
    "\n",
    "\n",
    "* Numerically differentiate the sequence in following ways, and compare thosewith analytical result.\n",
    "    * Forward difference\n",
    "    * Central difference\n",
    "    \n",
    "**==========================================================**"
   ]
  },
  {
   "cell_type": "code",
   "execution_count": 47,
   "metadata": {},
   "outputs": [
    {
     "data": {
      "text/plain": [
       "<matplotlib.legend.Legend at 0x7f63331e0160>"
      ]
     },
     "execution_count": 47,
     "metadata": {},
     "output_type": "execute_result"
    },
    {
     "data": {
      "image/png": "[encoded data removed]",
      "text/plain": [
       "<Figure size 432x288 with 1 Axes>"
      ]
     },
     "metadata": {
      "needs_background": "light"
     },
     "output_type": "display_data"
    }
   ],
   "source": [
    "import numpy as np\n",
    "import matplotlib.pyplot as plt\n",
    "\n",
    "t = np.arange(0, 10, .1)\n",
    "\n",
    "y = (1 - np.exp(-2 * t)) + np.random.rand(100) * .1 -.05\n",
    "\n",
    "diff_forward = np.empty_like(y)\n",
    "for i in range(99):\n",
    "    diff_forward[i] = (y[i+1] - y[i]) / .1\n",
    "diff_forward[-1] = np.nan\n",
    "\n",
    "diff_central = np.empty_like(y)\n",
    "for i in range(2,99):\n",
    "    diff_central[i] = (y[i+1] - y[i-1]) / .2\n",
    "diff_central[-1] = np.nan\n",
    "diff_central[1] = np.nan\n",
    "\n",
    "diff_analytical = 2 * np.exp(-2 * t)\n",
    "    \n",
    "plt.scatter(t,y, label='y')\n",
    "plt.scatter(t, diff_forward, label='forward')\n",
    "plt.scatter(t, diff_central, label='central')\n",
    "plt.plot(t, diff_analytical, c='r', label='analytical')\n",
    "plt.legend()\n",
    "\n",
    "# the central is closer to the analytical solution wenn y flattens out \n",
    "# this is also expected because there is 2h in the denominator now"
   ]
  },
  {
   "cell_type": "markdown",
   "metadata": {},
   "source": [
    "## 1.3. Numerical Integration"
   ]
  },
  {
   "cell_type": "markdown",
   "metadata": {},
   "source": [
    "**==================== ★★ Assignment1 ★★ ====================**\n",
    "\n",
    "* Generate a sequence $y(x) = {1\\over{1+x^2}}$ for x = 0 ~ 1, with $dt = 0.01$\n",
    "\n",
    "\n",
    "\n",
    "* Compare accumulated errors for following methods\n",
    "    * Rectangular methods\n",
    "    * Trapezoidal rules\n",
    "    * RK4\n",
    "    * Analytic integration\n",
    "    \n",
    "    \n",
    "* From above results, verify the order of each method.\n",
    "    * For other words, plot the accumulated errors by changing step size, and determine the power exponent.\n",
    "    \n",
    "**============================================================**   "
   ]
  },
  {
   "cell_type": "code",
   "execution_count": 93,
   "metadata": {},
   "outputs": [
    {
     "data": {
      "text/plain": [
       "[<matplotlib.lines.Line2D at 0x7f6331bcca60>]"
      ]
     },
     "execution_count": 93,
     "metadata": {},
     "output_type": "execute_result"
    },
    {
     "data": {
      "image/png": "[encoded data removed]",
      "text/plain": [
       "<Figure size 432x288 with 1 Axes>"
      ]
     },
     "metadata": {
      "needs_background": "light"
     },
     "output_type": "display_data"
    }
   ],
   "source": [
    "import numpy as np\n",
    "import matplotlib.pyplot as plt\n",
    "\n",
    "# taken from a direct calculation\n",
    "exact = np.pi / 4\n",
    "\n",
    "\n",
    "def y(x):\n",
    "    return 1 / (1 + x**2)\n",
    "y = np.vectorize(y)\n",
    "\n",
    "# rectengular method using a midpoint\n",
    "def rect(dt):\n",
    "    x = np.arange(0,1,dt)\n",
    "    x = x + .5 * dt\n",
    "    integral = np.sum(y(x))\n",
    "    integral = integral * dt\n",
    "    return integral\n",
    "\n",
    "def trap(dt):\n",
    "    x = np.arange(0 + dt, 1, dt)\n",
    "    integral = y(0) + y(1)\n",
    "    integral = integral + 2 * np.sum(y(x))\n",
    "    integral = integral * dt/2\n",
    "    return integral\n",
    "\n",
    "def rect_err(dt):\n",
    "    return np.abs(rect(dt) - exact)\n",
    "\n",
    "def trap_err(dt):\n",
    "    return np.abs(trap(dt) - exact)\n",
    "\n",
    "rect = np.vectorize(rect)\n",
    "trap = np.vectorize(trap)\n",
    "rect_err = np.vectorize(rect_err)\n",
    "trap_err = np.vectorize(trap_err)\n",
    "\n",
    "\n",
    "\n",
    "x = np.arange(0,1, .01)\n",
    "plt.plot(x,y(x))"
   ]
  },
  {
   "cell_type": "code",
   "execution_count": 113,
   "metadata": {},
   "outputs": [
    {
     "data": {
      "image/png": "[encoded data removed]",
      "text/plain": [
       "<Figure size 432x288 with 1 Axes>"
      ]
     },
     "metadata": {
      "needs_background": "light"
     },
     "output_type": "display_data"
    }
   ],
   "source": [
    "dt = np.arange(.1, 1, .1)\n",
    "dt = 1 * dt\n",
    "dt = np.append(.1 * dt, dt)\n",
    "dt = np.append(.01 * dt, dt)\n",
    "\n",
    "\n",
    "plt.scatter(dt, trap_err(dt), label='trap_err')\n",
    "plt.scatter(dt, rect_err(dt), label='rect_err')\n",
    "\n",
    "plt.legend()\n",
    "plt.yscale('log')\n",
    "plt.xscale('log')"
   ]
  },
  {
   "cell_type": "code",
   "execution_count": 111,
   "metadata": {},
   "outputs": [
    {
     "data": {
      "text/plain": [
       "array([1.e-04, 2.e-04, 3.e-04, 4.e-04, 5.e-04, 6.e-04, 7.e-04, 8.e-04,\n",
       "       9.e-04, 1.e-03, 2.e-03, 3.e-03, 4.e-03, 5.e-03, 6.e-03, 7.e-03,\n",
       "       8.e-03, 9.e-03, 1.e-02, 2.e-02, 3.e-02, 4.e-02, 5.e-02, 6.e-02,\n",
       "       7.e-02, 8.e-02, 9.e-02, 1.e-01, 2.e-01, 3.e-01, 4.e-01, 5.e-01,\n",
       "       6.e-01, 7.e-01, 8.e-01, 9.e-01])"
      ]
     },
     "execution_count": 111,
     "metadata": {},
     "output_type": "execute_result"
    }
   ],
   "source": [
    "dt"
   ]
  },
  {
   "cell_type": "markdown",
   "metadata": {},
   "source": [
    "## END OF WEEK 5! Have a good day :)"
   ]
  }
 ],
 "metadata": {
  "kernelspec": {
   "display_name": "Python 3 (ipykernel)",
   "language": "python",
   "name": "python3"
  },
  "language_info": {
   "codemirror_mode": {
    "name": "ipython",
    "version": 3
   },
   "file_extension": ".py",
   "mimetype": "text/x-python",
   "name": "python",
   "nbconvert_exporter": "python",
   "pygments_lexer": "ipython3",
   "version": "3.10.3"
  }
 },
 "nbformat": 4,
 "nbformat_minor": 1
}
