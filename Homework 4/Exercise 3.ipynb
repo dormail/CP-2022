{
 "cells": [
  {
   "cell_type": "markdown",
   "id": "7b1a21b0-54ed-4492-87bd-757403a2d501",
   "metadata": {},
   "source": [
    "# Exercise 3\n",
    "Phase transition in 2D Ising model"
   ]
  },
  {
   "cell_type": "code",
   "execution_count": 4,
   "id": "649192fd-06d6-41e1-a161-13b089c6b0a4",
   "metadata": {
    "execution": {
     "iopub.execute_input": "2022-06-02T06:38:37.532055Z",
     "iopub.status.busy": "2022-06-02T06:38:37.531277Z",
     "iopub.status.idle": "2022-06-02T06:38:38.169522Z",
     "shell.execute_reply": "2022-06-02T06:38:38.168976Z",
     "shell.execute_reply.started": "2022-06-02T06:38:37.532009Z"
    },
    "tags": []
   },
   "outputs": [],
   "source": [
    "import numpy as np\n",
    "from numpy.random import randint, rand\n",
    "import matplotlib.pyplot as plt\n"
   ]
  },
  {
   "cell_type": "code",
   "execution_count": 12,
   "id": "aa8a997c-d3fa-470c-8307-ed6e749f7ff8",
   "metadata": {
    "execution": {
     "iopub.execute_input": "2022-06-02T07:08:38.060607Z",
     "iopub.status.busy": "2022-06-02T07:08:38.059331Z",
     "iopub.status.idle": "2022-06-02T07:08:38.095442Z",
     "shell.execute_reply": "2022-06-02T07:08:38.093347Z",
     "shell.execute_reply.started": "2022-06-02T07:08:38.060567Z"
    },
    "tags": []
   },
   "outputs": [],
   "source": [
    "def initial_config(N):   \n",
    "    ''' \n",
    "    Generates a random spin configuration for initial condition\n",
    "    '''\n",
    "    config = 2*np.random.randint(2, size=(N,N))-1\n",
    "    return config\n",
    "\n",
    "def cal_Energy(config):\n",
    "    Energy = 0\n",
    "    N = config.shape[0]\n",
    "    for i in range(N-1):\n",
    "        for j in range(N-1):\n",
    "            spin_val = config[i,j]\n",
    "            Energy_of_spin = spin_val * (config[i,j+1] + config[i, j-1] + config[i+1,j] + config[i-1,j])\n",
    "            Energy += Energy_of_spin\n",
    "        # on the edge we need to do it by hand\n",
    "        spin_val = config[i,N-1]\n",
    "        Energy_of_spin = spin_val * (config[i,0] + config[i, N-2] + config[i+1,N-1] + config[i-1,N-1])\n",
    "        Energy += Energy_of_spin\n",
    "        \n",
    "    for j in range(N-1):\n",
    "        spin_val = config[N-1,j]\n",
    "        Energy_of_spin = spin_val * (config[N-1,j+1] + config[N-1, j-1] + config[0,j] + config[N-2,j])\n",
    "        Energy += Energy_of_spin\n",
    "    # on the edge we need to do it by hand\n",
    "    spin_val = config[N-1,N-1]\n",
    "    Energy_of_spin = spin_val * (config[N-1,0] + config[N-1, N-2] + config[0,N-1] + config[N-2,N-1])\n",
    "    Energy += Energy_of_spin\n",
    "    return Energy / -2 # divide here because every interaction has been counted twice\n",
    "\n",
    "\n",
    "def cal_Magnetization(config):\n",
    "    '''\n",
    "    Magnetization of a given configuration\n",
    "    '''\n",
    "    mag = np.sum(config)\n",
    "    return mag/config.size    \n",
    "\n",
    "def time_step(config, T):\n",
    "    i = randint(0,N)\n",
    "    j = randint(0,N)\n",
    "    \n",
    "    Energy_before = cal_Energy(config)\n",
    "    config[i,j] *= -1 # simulate flip\n",
    "    Energy_after = cal_Energy(config)\n",
    "    config[i,j] *= -1 # flip it back\n",
    "    \n",
    "    beta = 1 / T\n",
    "    delta_E = Energy_after - Energy_before\n",
    "    p = np.exp(-1 * delta_E * beta)\n",
    "    random_number = rand()\n",
    "    if (random_number <= p):\n",
    "        config[i,j] = -1 * config[i,j] # accepted => flip spin\n",
    "\n",
    "\n",
    "# complete sweep so that on average each spin has been offered a flip\n",
    "def sweep(config, T):\n",
    "    N = config.shape[0]\n",
    "    for _ in range(N*N):\n",
    "        time_step(config, T)\n",
    "        \n",
    "def many_sweeps(config, T, N=100):\n",
    "    for _ in range(N):\n",
    "        sweep(config, T)\n",
    "        \n",
    "def measurement_magnetiziation(T,N, single_measurements=5):\n",
    "    config = initial_config(N)\n",
    "    many_sweeps(config,T)\n",
    "    results = []\n",
    "    for _ in range(single_measurements):\n",
    "        results.append(np.abs(cal_Magnetization(config)))\n",
    "        many_sweeps(config,T,N=5)\n",
    "    return np.average(results), np.std(results)\n",
    "\n",
    "def measurement_energy(T,N, single_measurements=5):\n",
    "    config = initial_config(N)\n",
    "    many_sweeps(config,T)\n",
    "    results = []\n",
    "    for _ in range(single_measurements):\n",
    "        results.append(cal_Energy(config))\n",
    "        many_sweeps(config,T,N=5)\n",
    "    return np.average(results), np.std(results)\n",
    "\n",
    "def print_grid(config):\n",
    "    N = config.shape[0]\n",
    "    for i in range(N):\n",
    "        for j in range(N):\n",
    "            if (config[i,j] == 1):\n",
    "                print(\"#\", end =\"\")\n",
    "            else:\n",
    "                print(\" \", end=\"\")\n",
    "        print(\"\", end=\"\\n\")"
   ]
  },
  {
   "cell_type": "code",
   "execution_count": 21,
   "id": "d760b821-8462-46b1-87a9-45a7897a7aad",
   "metadata": {
    "execution": {
     "iopub.execute_input": "2022-06-02T07:32:07.414342Z",
     "iopub.status.busy": "2022-06-02T07:32:07.413700Z",
     "iopub.status.idle": "2022-06-02T07:32:07.423566Z",
     "shell.execute_reply": "2022-06-02T07:32:07.422361Z",
     "shell.execute_reply.started": "2022-06-02T07:32:07.414299Z"
    },
    "tags": []
   },
   "outputs": [],
   "source": [
    "def observables(L,T):\n",
    "    M_ave = []\n",
    "    M_std = []\n",
    "    E_ave = []\n",
    "    E_std = []\n",
    "    for tempe in T:\n",
    "        ave, std = measurement_magnetiziation(tempe,L)\n",
    "        M_ave.append(ave)\n",
    "        M_std.append(std)\n",
    "        ave, std = measurement_energy(tempe,L)\n",
    "        E_ave.append(ave / L**2)\n",
    "        E_std.append(std / L**2)\n",
    "    return M_ave, M_std, E_ave, E_std"
   ]
  },
  {
   "cell_type": "code",
   "execution_count": null,
   "id": "2d101861-ef80-4cf6-95fe-9e9a560fc9d9",
   "metadata": {
    "execution": {
     "iopub.execute_input": "2022-06-02T07:32:07.979200Z",
     "iopub.status.busy": "2022-06-02T07:32:07.978414Z"
    },
    "tags": []
   },
   "outputs": [],
   "source": [
    "N = 10\n",
    "T = np.linspace(.05, 10,40)\n",
    "\n",
    "M_ave_10, M_std_10, E_ave_10, E_std_10 = observables(N, T)\n",
    "M_ave_20, M_std_20, E_ave_20, E_std_20 = observables(2 * N, T)\n",
    "M_ave_30, M_std_30, E_ave_30, E_std_30 = observables(3 * N, T)"
   ]
  },
  {
   "cell_type": "code",
   "execution_count": null,
   "id": "e74a3327-5540-4527-8f4f-96195633ce0d",
   "metadata": {
    "tags": []
   },
   "outputs": [],
   "source": [
    "plt.errorbar(T, M_ave_10,xerr=.1, yerr=M_std_10, ls='',\n",
    "            label='L = 10')\n",
    "plt.errorbar(T, M_ave_20,xerr=.1, yerr=M_std_20, ls='',\n",
    "            label='L = 20')\n",
    "plt.errorbar(T, M_ave_30,xerr=.1, yerr=M_std_30, ls='',\n",
    "            label='L = 30')\n",
    "plt.xlabel('T')\n",
    "plt.ylabel('M')"
   ]
  },
  {
   "cell_type": "code",
   "execution_count": null,
   "id": "d754d4f5-f911-4e29-9a89-1e6c4cfa3ff2",
   "metadata": {
    "tags": []
   },
   "outputs": [],
   "source": [
    "plt.errorbar(T, E_ave_10,xerr=.1, yerr=E_std_10, ls='',\n",
    "            label='L = 10')\n",
    "plt.errorbar(T, E_ave_20,xerr=.1, yerr=E_std_20, ls='',\n",
    "            label='L = 20')\n",
    "plt.errorbar(T, E_ave_30,xerr=.1, yerr=E_std_30, ls='',\n",
    "            label='L = 30')plt.xlabel('T')\n",
    "plt.ylabel('E')\n",
    "plt.xlabel('T')"
   ]
  },
  {
   "cell_type": "code",
   "execution_count": null,
   "id": "cd3de131-447c-46d6-a1be-756ac1bbba0b",
   "metadata": {},
   "outputs": [],
   "source": [
    " "
   ]
  }
 ],
 "metadata": {
  "kernelspec": {
   "display_name": "Python 3 (ipykernel)",
   "language": "python",
   "name": "python3"
  },
  "language_info": {
   "codemirror_mode": {
    "name": "ipython",
    "version": 3
   },
   "file_extension": ".py",
   "mimetype": "text/x-python",
   "name": "python",
   "nbconvert_exporter": "python",
   "pygments_lexer": "ipython3",
   "version": "3.10.4"
  }
 },
 "nbformat": 4,
 "nbformat_minor": 5
}
