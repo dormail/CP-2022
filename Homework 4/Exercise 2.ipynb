{
 "cells": [
  {
   "cell_type": "markdown",
   "id": "feed6918-2df2-43b6-9152-4a9aa7610804",
   "metadata": {},
   "source": [
    "# Exercise 2 - Interacting dynamic spins"
   ]
  },
  {
   "cell_type": "code",
   "execution_count": 1,
   "id": "033756b8-c71e-46d5-98f5-526cc7973daa",
   "metadata": {
    "execution": {
     "iopub.execute_input": "2022-05-30T04:56:30.226378Z",
     "iopub.status.busy": "2022-05-30T04:56:30.225945Z",
     "iopub.status.idle": "2022-05-30T04:56:30.475219Z",
     "shell.execute_reply": "2022-05-30T04:56:30.474350Z",
     "shell.execute_reply.started": "2022-05-30T04:56:30.226266Z"
    }
   },
   "outputs": [],
   "source": [
    "from numpy import sin, cos"
   ]
  },
  {
   "cell_type": "code",
   "execution_count": 4,
   "id": "8c3f0fa6-0e9f-4b97-bfc0-fb120bde000c",
   "metadata": {
    "execution": {
     "iopub.execute_input": "2022-05-30T05:00:31.741481Z",
     "iopub.status.busy": "2022-05-30T05:00:31.740215Z",
     "iopub.status.idle": "2022-05-30T05:00:31.748826Z",
     "shell.execute_reply": "2022-05-30T05:00:31.747844Z",
     "shell.execute_reply.started": "2022-05-30T05:00:31.741411Z"
    },
    "tags": []
   },
   "outputs": [],
   "source": [
    "def Hamiltonian(theta1, phi1, theta2, phi2, p_theta1, p_phi1, p_theta2, p_phi2, J, m1, m2, I):\n",
    "\n",
    "    E_pot = -1 * J * m1 * m2 * (sin(theta1) * sin(theta2) * cos(phi1 - phi2) + cos(theta1) * cos(theta2))\n",
    "    E_kin = (p_theta1**2 + p_theta2**2 + (p_phi1 / sin(theta1))**2 + (p_phi2 / sin(theta2))**2) / (2*I)\n",
    "    \n",
    "    return E_pot + E_kin\n",
    "\n"
   ]
  },
  {
   "cell_type": "code",
   "execution_count": null,
   "id": "41239ad3-c043-4f63-ba0e-1e32871a3e16",
   "metadata": {},
   "outputs": [],
   "source": []
  }
 ],
 "metadata": {
  "kernelspec": {
   "display_name": "Python 3 (ipykernel)",
   "language": "python",
   "name": "python3"
  },
  "language_info": {
   "codemirror_mode": {
    "name": "ipython",
    "version": 3
   },
   "file_extension": ".py",
   "mimetype": "text/x-python",
   "name": "python",
   "nbconvert_exporter": "python",
   "pygments_lexer": "ipython3",
   "version": "3.10.4"
  }
 },
 "nbformat": 4,
 "nbformat_minor": 5
}
