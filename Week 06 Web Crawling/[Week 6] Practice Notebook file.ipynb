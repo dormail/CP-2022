{
 "cells": [
  {
   "cell_type": "markdown",
   "metadata": {},
   "source": [
    "# PH413 Computation Physics - Practice [Week 6]"
   ]
  },
  {
   "cell_type": "markdown",
   "metadata": {
    "ExecuteTime": {
     "end_time": "2022-04-04T06:17:30.342863Z",
     "start_time": "2022-04-04T06:17:30.319627Z"
    }
   },
   "source": [
    "**==================== ★★ Assignment1 ★★ ====================**\n",
    "\n",
    "* Verify whether a set of numbers satisfy Benford's law from the Wikipedia page on physical constants\n",
    "    http://en.wikipedia.org/wiki/Physical_constant\n",
    "        \n",
    "* Benford's law: For the leading digit $d \\in \\{1, 2, \\dots, 9\\}$, $d$ occurs with probability $p(d) = \\log_{10} \\left( 1 + 1/d \\right)$\n",
    "\n",
    "* You don't have to compare the two distributions exactly.\n",
    "    \n",
    "**============================================================**   "
   ]
  },
  {
   "cell_type": "markdown",
   "metadata": {},
   "source": [
    "There is [a list of Physical constants](https://en.wikipedia.org/wiki/List_of_physical_constants) which I will use because the main article about constants has ~10 constants listed with their value"
   ]
  },
  {
   "cell_type": "code",
   "execution_count": 1,
   "metadata": {},
   "outputs": [],
   "source": [
    "from bs4 import BeautifulSoup\n",
    "import numpy as np\n",
    "import matplotlib.pyplot as plt\n",
    "import urllib.request\n",
    "from urllib.request import urlopen\n",
    "import numpy as np\n",
    "\n",
    "# web crawling\n",
    "link = 'https://en.wikipedia.org/wiki/List_of_physical_constants'\n",
    "html = urlopen(link).read()\n",
    "soup = BeautifulSoup(html, \"html.parser\")"
   ]
  },
  {
   "cell_type": "code",
   "execution_count": 22,
   "metadata": {},
   "outputs": [],
   "source": [
    "# analizing the soup\n",
    "# first locating for the table, than the correct rows and than iterating through each row\n",
    "table = soup.find(\"table\")\n",
    "table_data = table.find(\"tbody\")\n",
    "table_rows = table_data.findAll(\"tr\")\n",
    "table_rows = table_rows[1:-1]\n",
    "\n",
    "data_fields = []\n",
    "for table_row in table_rows:\n",
    "    data_fields.append(table_row.findAll('td')[2])\n",
    "\n",
    "first_digits = []\n",
    "for data_field in data_fields:\n",
    "    if data_field.get_text()[0] == '−': # negative\n",
    "        first_digits.append(data_field.get_text()[1])\n",
    "    elif data_field.get_text()[0] == '0': # number < 1 \n",
    "        first_digits.append(data_field.get_text()[2])\n",
    "    else: # other\n",
    "        first_digits.append(data_field.get_text()[0])\n",
    "    \n",
    "\n",
    "first_digits = np.array(first_digits)\n",
    "values_str, counts = np.unique(first_digits, return_counts=True)\n",
    "\n",
    "values = []\n",
    "for value_str in values_str:\n",
    "    values.append(int(value_str))\n",
    "    \n",
    "counts = counts / np.sum(counts)"
   ]
  },
  {
   "cell_type": "code",
   "execution_count": 21,
   "metadata": {},
   "outputs": [
    {
     "data": {
      "text/plain": [
       "<matplotlib.legend.Legend at 0x7f7d43dacb80>"
      ]
     },
     "execution_count": 21,
     "metadata": {},
     "output_type": "execute_result"
    },
    {
     "data": {
      "image/png": "[encoded data removed]",
      "text/plain": [
       "<Figure size 432x288 with 1 Axes>"
      ]
     },
     "metadata": {
      "needs_background": "light"
     },
     "output_type": "display_data"
    }
   ],
   "source": [
    "# plotting\n",
    "d = np.arange(1,10,1)\n",
    "plt.scatter(values, counts, label='Data from wikipedia')\n",
    "plt.scatter(d, np.log10(1 + 1/d), label='Benfords law')\n",
    "\n",
    "plt.legend()\n",
    "# we can look at the plot and can see that it kind of behaves like the law suggests"
   ]
  },
  {
   "cell_type": "markdown",
   "metadata": {},
   "source": [
    "## END OF WEEK 6! Have a good day :)"
   ]
  }
 ],
 "metadata": {
  "kernelspec": {
   "display_name": "Python 3 (ipykernel)",
   "language": "python",
   "name": "python3"
  },
  "language_info": {
   "codemirror_mode": {
    "name": "ipython",
    "version": 3
   },
   "file_extension": ".py",
   "mimetype": "text/x-python",
   "name": "python",
   "nbconvert_exporter": "python",
   "pygments_lexer": "ipython3",
   "version": "3.10.4"
  }
 },
 "nbformat": 4,
 "nbformat_minor": 4
}
