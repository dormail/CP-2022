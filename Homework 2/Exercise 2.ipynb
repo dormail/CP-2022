{
 "cells": [
  {
   "cell_type": "markdown",
   "id": "7c676d57-dccc-46c0-a498-4992f1140043",
   "metadata": {},
   "source": [
    "# Exercise 2\n",
    "\n",
    "Solving an equation with Newton's method"
   ]
  },
  {
   "cell_type": "code",
   "execution_count": 1,
   "id": "0fabf618-0aac-48dc-9bbb-e9f78254eb6f",
   "metadata": {
    "execution": {
     "iopub.execute_input": "2022-05-15T11:39:47.337091Z",
     "iopub.status.busy": "2022-05-15T11:39:47.334936Z",
     "iopub.status.idle": "2022-05-15T11:39:47.915616Z",
     "shell.execute_reply": "2022-05-15T11:39:47.915213Z",
     "shell.execute_reply.started": "2022-05-15T11:39:47.336100Z"
    }
   },
   "outputs": [],
   "source": [
    "import numpy as np\n",
    "import matplotlib.pyplot as plt"
   ]
  },
  {
   "cell_type": "code",
   "execution_count": 2,
   "id": "8c6652e0-a6e1-43d5-8f0b-4b517b12bf10",
   "metadata": {
    "execution": {
     "iopub.execute_input": "2022-05-15T11:39:47.916628Z",
     "iopub.status.busy": "2022-05-15T11:39:47.916516Z",
     "iopub.status.idle": "2022-05-15T11:39:47.920752Z",
     "shell.execute_reply": "2022-05-15T11:39:47.920219Z",
     "shell.execute_reply.started": "2022-05-15T11:39:47.916615Z"
    }
   },
   "outputs": [],
   "source": [
    "# define f(x) such that f(x)=0\n",
    "def f(x):\n",
    "    return 1/2 + 1/4 * x**2 - x * np.sin(x) - 1/2 * np.cos(2*x)\n",
    "\n",
    "def derivative(x, func):\n",
    "    h = .01\n",
    "    return (func(x+h) - func(x-h)) / (2*h)\n",
    "\n",
    "def newton_iteration(x, func):\n",
    "    return x - func(x) / derivative(x, func)"
   ]
  },
  {
   "cell_type": "code",
   "execution_count": 3,
   "id": "9a954fe3-9e1c-4f0b-a2c1-0df03de9199c",
   "metadata": {
    "execution": {
     "iopub.execute_input": "2022-05-15T11:39:47.957660Z",
     "iopub.status.busy": "2022-05-15T11:39:47.956918Z",
     "iopub.status.idle": "2022-05-15T11:39:47.961862Z",
     "shell.execute_reply": "2022-05-15T11:39:47.961354Z",
     "shell.execute_reply.started": "2022-05-15T11:39:47.957614Z"
    }
   },
   "outputs": [],
   "source": [
    "def plot_newton(x0, filename):\n",
    "    plt.clf()\n",
    "    iteration = [x0]\n",
    "\n",
    "    while(True):\n",
    "        iteration = np.append(iteration, (newton_iteration(iteration[-1], f)))\n",
    "        if(f(iteration[-1]) < 10**-5):\n",
    "            break\n",
    "            \n",
    "    print(iteration)\n",
    "\n",
    "\n",
    "    x = np.linspace(.95 * np.min(iteration), 1.05 * np.max(iteration), 1000)\n",
    "    color = np.arange(0, np.size(iteration))\n",
    "    \n",
    "    plt.plot(x,f(x), label='f(x)')\n",
    "   \n",
    "    plt.scatter(iteration, f(iteration), label='Newton iteration', \n",
    "                c=color,\n",
    "                cmap='plasma',\n",
    "                marker='+')\n",
    "\n",
    "    plt.xlabel(r'$x$')\n",
    "    plt.ylabel(r'$f(x)$')\n",
    "    plt.legend()\n",
    "    plt.tight_layout()\n",
    "    plt.savefig(filename)"
   ]
  },
  {
   "cell_type": "code",
   "execution_count": 5,
   "id": "22369aad-163c-4a33-b9ea-562126a5c66b",
   "metadata": {
    "execution": {
     "iopub.execute_input": "2022-05-15T11:40:13.793720Z",
     "iopub.status.busy": "2022-05-15T11:40:13.793380Z",
     "iopub.status.idle": "2022-05-15T11:40:14.182038Z",
     "shell.execute_reply": "2022-05-15T11:40:14.181701Z",
     "shell.execute_reply.started": "2022-05-15T11:40:13.793682Z"
    },
    "tags": []
   },
   "outputs": [
    {
     "name": "stdout",
     "output_type": "stream",
     "text": [
      "[1.57079633 1.78544817 1.84461715 1.87089179 1.88340442 1.88952198\n",
      " 1.89254802]\n",
      "[15.70796327 13.0899403  21.34752087 17.47278196  1.65603849  1.799936\n",
      "  1.8507813   1.87378489  1.88481015  1.89021532  1.89289241]\n",
      "[31.41592654 47.12441342 39.27008198 20.64156652 14.14659692  8.18572233\n",
      "  6.27982523  9.42323835  7.85319317  4.92202411 -0.96897055  1.60031087\n",
      "  1.78865398  1.84596483  1.87152201  1.88371018  1.88967269  1.89262286]\n"
     ]
    },
    {
     "data": {
      "image/png": "[encoded data removed]",
      "text/plain": [
       "<Figure size 432x288 with 1 Axes>"
      ]
     },
     "metadata": {
      "needs_background": "light"
     },
     "output_type": "display_data"
    }
   ],
   "source": [
    "plot_newton(np.pi/2, 'build/Ex2-1.pdf')\n",
    "plot_newton(np.pi * 5, 'build/Ex2-2.pdf')\n",
    "plot_newton(np.pi * 10, 'build/Ex2-3.pdf')\n"
   ]
  }
 ],
 "metadata": {
  "kernelspec": {
   "display_name": "Python 3 (ipykernel)",
   "language": "python",
   "name": "python3"
  },
  "language_info": {
   "codemirror_mode": {
    "name": "ipython",
    "version": 3
   },
   "file_extension": ".py",
   "mimetype": "text/x-python",
   "name": "python",
   "nbconvert_exporter": "python",
   "pygments_lexer": "ipython3",
   "version": "3.10.4"
  }
 },
 "nbformat": 4,
 "nbformat_minor": 5
}
