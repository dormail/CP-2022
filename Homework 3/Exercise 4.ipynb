{
 "cells": [
  {
   "cell_type": "markdown",
   "id": "2fc7f3d7-ae03-4d8c-80fe-79574de8deec",
   "metadata": {},
   "source": [
    "# Exercise 4\n",
    "Benfords law"
   ]
  },
  {
   "cell_type": "markdown",
   "id": "8d95663b-fba2-4ee0-8f32-5f5328a01615",
   "metadata": {},
   "source": [
    "First we get a list of physical constants, this can be recycled from Week 6's practice session"
   ]
  },
  {
   "cell_type": "code",
   "execution_count": 42,
   "id": "cc44020d-a0bf-441b-b04a-8bf01e091f25",
   "metadata": {
    "execution": {
     "iopub.execute_input": "2022-05-24T06:26:34.696426Z",
     "iopub.status.busy": "2022-05-24T06:26:34.696091Z",
     "iopub.status.idle": "2022-05-24T06:26:35.638998Z",
     "shell.execute_reply": "2022-05-24T06:26:35.638081Z",
     "shell.execute_reply.started": "2022-05-24T06:26:34.696389Z"
    },
    "tags": []
   },
   "outputs": [],
   "source": [
    "from bs4 import BeautifulSoup\n",
    "import matplotlib.pyplot as plt\n",
    "import urllib.request\n",
    "from urllib.request import urlopen\n",
    "import numpy as np\n",
    "\n",
    "# web crawling\n",
    "link = 'https://en.wikipedia.org/wiki/List_of_physical_constants'\n",
    "html = urlopen(link).read()\n",
    "soup = BeautifulSoup(html, \"html.parser\")\n",
    "\n",
    "# analizing the soup\n",
    "# first locating for the table, than the correct rows and than iterating through each row\n",
    "table = soup.find(\"table\")\n",
    "table_data = table.find(\"tbody\")\n",
    "table_rows = table_data.findAll(\"tr\")\n",
    "table_rows = table_rows[1:-1]\n",
    "\n",
    "data_fields = []\n",
    "for table_row in table_rows:\n",
    "    data_fields.append(table_row.findAll('td')[2])\n",
    "\n",
    "constants = []\n",
    "for data_field in data_fields:\n",
    "    constants.append(data_field.get_text())\n",
    "    \n",
    "# many strings have units and similar stuff\n",
    "constants_cleaned = []\n",
    "for constant in constants:\n",
    "    numeric_filter = filter(str.isdigit, constant)\n",
    "    constant_cleaned = \"\".join(numeric_filter)\n",
    "    constants_cleaned.append(constant_cleaned)\n",
    "    \n"
   ]
  },
  {
   "cell_type": "code",
   "execution_count": 43,
   "id": "67d06bcf-973b-45ae-b2e8-05dc9f55ef4e",
   "metadata": {
    "execution": {
     "iopub.execute_input": "2022-05-24T06:26:35.640750Z",
     "iopub.status.busy": "2022-05-24T06:26:35.640452Z",
     "iopub.status.idle": "2022-05-24T06:26:35.646014Z",
     "shell.execute_reply": "2022-05-24T06:26:35.645113Z",
     "shell.execute_reply.started": "2022-05-24T06:26:35.640713Z"
    },
    "tags": []
   },
   "outputs": [],
   "source": [
    "def first_digits(numbers, factor=1):\n",
    "    first_digits = []\n",
    "    for number in numbers:\n",
    "        number_int = int(number)\n",
    "        number_int = factor * number_int\n",
    "        number_str = str(number_int)\n",
    "        digit = int(number_str[0])\n",
    "        first_digits.append(digit)\n",
    "    return first_digits"
   ]
  },
  {
   "cell_type": "code",
   "execution_count": 50,
   "id": "0a77d736-14a8-4a41-9573-d084e5e828a7",
   "metadata": {
    "execution": {
     "iopub.execute_input": "2022-05-24T06:27:32.693522Z",
     "iopub.status.busy": "2022-05-24T06:27:32.692775Z",
     "iopub.status.idle": "2022-05-24T06:27:32.893190Z",
     "shell.execute_reply": "2022-05-24T06:27:32.892394Z",
     "shell.execute_reply.started": "2022-05-24T06:27:32.693489Z"
    },
    "tags": []
   },
   "outputs": [
    {
     "data": {
      "text/plain": [
       "<matplotlib.legend.Legend at 0x7f3ef0d3ff10>"
      ]
     },
     "execution_count": 50,
     "metadata": {},
     "output_type": "execute_result"
    },
    {
     "data": {
      "image/png": "[encoded data removed]",
      "text/plain": [
       "<Figure size 432x288 with 1 Axes>"
      ]
     },
     "metadata": {
      "needs_background": "light"
     },
     "output_type": "display_data"
    }
   ],
   "source": [
    "first_digits_int = first_digits(constants_cleaned, factor=5)\n",
    "\n",
    "first_digits_int = np.array(first_digits_int)\n",
    "values_str, counts = np.unique(first_digits_int, return_counts=True)\n",
    "\n",
    "# plotting\n",
    "d = np.arange(1,10,1)\n",
    "plt.scatter(values_str, counts, label='Data from wikipedia')\n",
    "plt.scatter(d, np.log10(1 + 1/d), label='Benfords law')\n",
    "\n",
    "plt.legend()\n",
    "# we can look at the plot and can see that it kind of behaves like the law suggests"
   ]
  },
  {
   "cell_type": "code",
   "execution_count": 45,
   "id": "bcb21bd3-fba7-457e-a46c-89e62657c696",
   "metadata": {
    "execution": {
     "iopub.execute_input": "2022-05-24T06:26:44.677282Z",
     "iopub.status.busy": "2022-05-24T06:26:44.676901Z",
     "iopub.status.idle": "2022-05-24T06:26:44.684723Z",
     "shell.execute_reply": "2022-05-24T06:26:44.683570Z",
     "shell.execute_reply.started": "2022-05-24T06:26:44.677240Z"
    }
   },
   "outputs": [
    {
     "data": {
      "text/plain": [
       "array([1, 2, 3, 4, 5, 6, 7, 8, 9])"
      ]
     },
     "execution_count": 45,
     "metadata": {},
     "output_type": "execute_result"
    }
   ],
   "source": [
    "values_str"
   ]
  },
  {
   "cell_type": "code",
   "execution_count": 46,
   "id": "15194f10-9231-476b-b493-f3bcdc457611",
   "metadata": {
    "execution": {
     "iopub.execute_input": "2022-05-24T06:26:49.104043Z",
     "iopub.status.busy": "2022-05-24T06:26:49.103703Z",
     "iopub.status.idle": "2022-05-24T06:26:49.111224Z",
     "shell.execute_reply": "2022-05-24T06:26:49.110226Z",
     "shell.execute_reply.started": "2022-05-24T06:26:49.104008Z"
    }
   },
   "outputs": [
    {
     "data": {
      "text/plain": [
       "array([20,  9,  6,  2,  6,  4,  2,  4,  5])"
      ]
     },
     "execution_count": 46,
     "metadata": {},
     "output_type": "execute_result"
    }
   ],
   "source": [
    "counts"
   ]
  },
  {
   "cell_type": "code",
   "execution_count": null,
   "id": "e46de98d-bf9d-48fd-8a32-01c97123225b",
   "metadata": {},
   "outputs": [],
   "source": []
  }
 ],
 "metadata": {
  "kernelspec": {
   "display_name": "Python 3 (ipykernel)",
   "language": "python",
   "name": "python3"
  },
  "language_info": {
   "codemirror_mode": {
    "name": "ipython",
    "version": 3
   },
   "file_extension": ".py",
   "mimetype": "text/x-python",
   "name": "python",
   "nbconvert_exporter": "python",
   "pygments_lexer": "ipython3",
   "version": "3.10.4"
  }
 },
 "nbformat": 4,
 "nbformat_minor": 5
}
