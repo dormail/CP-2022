{
 "cells": [
  {
   "cell_type": "markdown",
   "id": "2fc7f3d7-ae03-4d8c-80fe-79574de8deec",
   "metadata": {},
   "source": [
    "# Exercise 4\n",
    "Benfords law"
   ]
  },
  {
   "cell_type": "markdown",
   "id": "8d95663b-fba2-4ee0-8f32-5f5328a01615",
   "metadata": {},
   "source": [
    "First we get a list of physical constants, this can be recycled from Week 6's practice session"
   ]
  },
  {
   "cell_type": "code",
   "execution_count": 1,
   "id": "cc44020d-a0bf-441b-b04a-8bf01e091f25",
   "metadata": {
    "execution": {
     "iopub.execute_input": "2022-05-27T12:37:00.255395Z",
     "iopub.status.busy": "2022-05-27T12:37:00.254903Z",
     "iopub.status.idle": "2022-05-27T12:37:01.765455Z",
     "shell.execute_reply": "2022-05-27T12:37:01.764762Z",
     "shell.execute_reply.started": "2022-05-27T12:37:00.255255Z"
    },
    "tags": []
   },
   "outputs": [],
   "source": [
    "from bs4 import BeautifulSoup\n",
    "import matplotlib.pyplot as plt\n",
    "import urllib.request\n",
    "from urllib.request import urlopen\n",
    "import numpy as np\n",
    "import math # to change log base\n",
    "\n",
    "# web crawling\n",
    "link = 'https://en.wikipedia.org/wiki/List_of_physical_constants'\n",
    "html = urlopen(link).read()\n",
    "soup = BeautifulSoup(html, \"html.parser\")\n",
    "\n",
    "# analizing the soup\n",
    "# first locating for the table, than the correct rows and than iterating through each row\n",
    "table = soup.find(\"table\")\n",
    "table_data = table.find(\"tbody\")\n",
    "table_rows = table_data.findAll(\"tr\")\n",
    "table_rows = table_rows[1:-1]\n",
    "\n",
    "data_fields = []\n",
    "for table_row in table_rows:\n",
    "    data_fields.append(table_row.findAll('td')[2])\n",
    "\n",
    "constants = []\n",
    "for data_field in data_fields:\n",
    "    constants.append(data_field.get_text())\n",
    "    \n",
    "# many strings have units and similar stuff\n",
    "constants_cleaned = []\n",
    "for constant in constants:\n",
    "    numeric_filter = filter(str.isdigit, constant)\n",
    "    constant_cleaned = \"\".join(numeric_filter)\n",
    "    constants_cleaned.append(constant_cleaned)\n",
    "    \n",
    "constants_int = [int(var) for var in constants_cleaned]"
   ]
  },
  {
   "cell_type": "code",
   "execution_count": 2,
   "id": "67d06bcf-973b-45ae-b2e8-05dc9f55ef4e",
   "metadata": {
    "execution": {
     "iopub.execute_input": "2022-05-27T12:37:01.766720Z",
     "iopub.status.busy": "2022-05-27T12:37:01.766611Z",
     "iopub.status.idle": "2022-05-27T12:37:01.771189Z",
     "shell.execute_reply": "2022-05-27T12:37:01.770333Z",
     "shell.execute_reply.started": "2022-05-27T12:37:01.766708Z"
    },
    "tags": []
   },
   "outputs": [],
   "source": [
    "def first_digits(numbers, factor=1, system='decimal'):\n",
    "    first_digits = []\n",
    "    for number in numbers:\n",
    "        number = factor * number\n",
    "        number_str = str(number)\n",
    "        digit = 0\n",
    "        if system == 'decimal':\n",
    "            digit = int(number_str[0])\n",
    "        elif system == 'octal':\n",
    "            digit = number_str[2]\n",
    "\n",
    "        first_digits.append(digit)\n",
    "    return first_digits"
   ]
  },
  {
   "cell_type": "code",
   "execution_count": 3,
   "id": "0a77d736-14a8-4a41-9573-d084e5e828a7",
   "metadata": {
    "execution": {
     "iopub.execute_input": "2022-05-27T12:37:01.772060Z",
     "iopub.status.busy": "2022-05-27T12:37:01.771947Z",
     "iopub.status.idle": "2022-05-27T12:37:01.999289Z",
     "shell.execute_reply": "2022-05-27T12:37:01.998859Z",
     "shell.execute_reply.started": "2022-05-27T12:37:01.772047Z"
    },
    "tags": []
   },
   "outputs": [
    {
     "data": {
      "image/png": "[encoded data removed]",
      "text/plain": [
       "<Figure size 432x288 with 1 Axes>"
      ]
     },
     "metadata": {
      "needs_background": "light"
     },
     "output_type": "display_data"
    }
   ],
   "source": [
    "first_digits_int = first_digits(constants_int, factor=1)\n",
    "\n",
    "first_digits_int = np.array(first_digits_int)\n",
    "values_str, counts = np.unique(first_digits_int, return_counts=True)\n",
    "counts = counts / np.sum(counts)\n",
    "\n",
    "# plotting\n",
    "plt.clf()\n",
    "d = np.arange(1,10,1)\n",
    "plt.scatter(values_str, counts, \n",
    "            label='Data from wikipedia',\n",
    "           marker='+')\n",
    "plt.scatter(d, np.log10(1 + 1/d), \n",
    "            label='Benfords law',\n",
    "           marker='+')\n",
    "\n",
    "plt.xlabel('Digit')\n",
    "plt.ylabel('Relative frequency')\n",
    "plt.legend()\n",
    "plt.tight_layout()\n",
    "plt.savefig('build/Ex4-decimal.pdf')\n",
    "# we can look at the plot and can see that it kind of behaves like the law suggests"
   ]
  },
  {
   "cell_type": "code",
   "execution_count": 4,
   "id": "d82afd54-4aa3-40eb-b7a3-8683bdb044f5",
   "metadata": {
    "execution": {
     "iopub.execute_input": "2022-05-27T12:37:02.000218Z",
     "iopub.status.busy": "2022-05-27T12:37:02.000115Z",
     "iopub.status.idle": "2022-05-27T12:37:02.148398Z",
     "shell.execute_reply": "2022-05-27T12:37:02.147904Z",
     "shell.execute_reply.started": "2022-05-27T12:37:02.000204Z"
    },
    "tags": []
   },
   "outputs": [
    {
     "data": {
      "image/png": "[encoded data removed]",
      "text/plain": [
       "<Figure size 432x288 with 1 Axes>"
      ]
     },
     "metadata": {
      "needs_background": "light"
     },
     "output_type": "display_data"
    }
   ],
   "source": [
    "first_digits_int = first_digits(constants_int, factor=5)\n",
    "\n",
    "first_digits_int = np.array(first_digits_int)\n",
    "values_str, counts = np.unique(first_digits_int, return_counts=True)\n",
    "counts = counts / np.sum(counts)\n",
    "\n",
    "# plotting\n",
    "plt.clf()\n",
    "d = np.arange(1,10,1)\n",
    "plt.scatter(values_str, counts, \n",
    "            label='Data from wikipedia multiplied with 5',\n",
    "           marker='+')\n",
    "plt.scatter(d, np.log10(1 + 1/d), \n",
    "            label='Benfords law',\n",
    "           marker='+')\n",
    "\n",
    "plt.xlabel('Digit')\n",
    "plt.ylabel('Relative frequency')\n",
    "plt.legend()\n",
    "plt.tight_layout()\n",
    "\n",
    "plt.savefig('build/Ex4-decimal-factor5.pdf')\n",
    "# we can look at the plot and can see that it kind of behaves like the law suggests"
   ]
  },
  {
   "cell_type": "markdown",
   "id": "eaf0053e-de9b-47be-b10f-f1f705b9d31c",
   "metadata": {},
   "source": [
    "## Doing the same for octal, haxadecimal"
   ]
  },
  {
   "cell_type": "code",
   "execution_count": 5,
   "id": "bcb21bd3-fba7-457e-a46c-89e62657c696",
   "metadata": {
    "execution": {
     "iopub.execute_input": "2022-05-27T12:37:02.149796Z",
     "iopub.status.busy": "2022-05-27T12:37:02.149424Z",
     "iopub.status.idle": "2022-05-27T12:37:02.152421Z",
     "shell.execute_reply": "2022-05-27T12:37:02.152053Z",
     "shell.execute_reply.started": "2022-05-27T12:37:02.149776Z"
    },
    "tags": []
   },
   "outputs": [],
   "source": [
    "constants_octal = [oct(var) for var in constants_int]\n",
    "constants_hexadec = [hex(var) for var in constants_int]"
   ]
  },
  {
   "cell_type": "code",
   "execution_count": 6,
   "id": "15194f10-9231-476b-b493-f3bcdc457611",
   "metadata": {
    "execution": {
     "iopub.execute_input": "2022-05-27T12:37:02.153363Z",
     "iopub.status.busy": "2022-05-27T12:37:02.153205Z",
     "iopub.status.idle": "2022-05-27T12:37:02.288817Z",
     "shell.execute_reply": "2022-05-27T12:37:02.288367Z",
     "shell.execute_reply.started": "2022-05-27T12:37:02.153348Z"
    },
    "tags": []
   },
   "outputs": [
    {
     "data": {
      "image/png": "[encoded data removed]",
      "text/plain": [
       "<Figure size 432x288 with 1 Axes>"
      ]
     },
     "metadata": {
      "needs_background": "light"
     },
     "output_type": "display_data"
    }
   ],
   "source": [
    "first_digits_int = first_digits(constants_octal, system='octal')\n",
    "\n",
    "first_digits_int = np.array(first_digits_int)\n",
    "values_str, counts = np.unique(first_digits_int, return_counts=True)\n",
    "values_str = [int(res) for res in values_str]\n",
    "counts = counts / np.sum(counts)\n",
    "\n",
    "# plotting\n",
    "plt.clf()\n",
    "d = np.arange(1,8,1)\n",
    "plt.scatter(values_str, counts, \n",
    "            label='Data from wikipedia',\n",
    "           marker='+')\n",
    "plt.scatter(d, np.log2(1 + 1/d)  * math.log(2,8), \n",
    "            label='Benfords law',\n",
    "           marker='+')\n",
    "\n",
    "plt.xlabel('Digit')\n",
    "plt.ylabel('Relative frequency')\n",
    "plt.legend()\n",
    "plt.tight_layout()\n",
    "\n",
    "plt.savefig('build/Ex4-octal.pdf')\n",
    "# we can look at the plot and can see that it kind of behaves like the law suggests"
   ]
  },
  {
   "cell_type": "code",
   "execution_count": 7,
   "id": "3f70fea9-0703-4614-8340-c46cda5c1d39",
   "metadata": {
    "execution": {
     "iopub.execute_input": "2022-05-27T12:37:02.290004Z",
     "iopub.status.busy": "2022-05-27T12:37:02.289891Z",
     "iopub.status.idle": "2022-05-27T12:37:02.426002Z",
     "shell.execute_reply": "2022-05-27T12:37:02.425658Z",
     "shell.execute_reply.started": "2022-05-27T12:37:02.289989Z"
    },
    "tags": []
   },
   "outputs": [
    {
     "data": {
      "image/png": "[encoded data removed]",
      "text/plain": [
       "<Figure size 432x288 with 1 Axes>"
      ]
     },
     "metadata": {
      "needs_background": "light"
     },
     "output_type": "display_data"
    }
   ],
   "source": [
    "first_digits_int = first_digits(constants_hexadec, system='octal')\n",
    "\n",
    "first_digits_int = np.array(first_digits_int)\n",
    "values_str, counts = np.unique(first_digits_int, return_counts=True)\n",
    "values_str[9:] = ['10', '11', '12', '13', '14', '15']\n",
    "values_str = [int(res) for res in values_str]\n",
    "values_str[9:] = [10, 11, 12, 13, 14, 15]\n",
    "\n",
    "\n",
    "counts = counts / np.sum(counts)\n",
    "\n",
    "# plotting\n",
    "plt.clf()\n",
    "d = np.arange(1,16,1)\n",
    "plt.scatter(values_str, counts, \n",
    "            label='Data from wikipedia',\n",
    "           marker='+')\n",
    "plt.scatter(d, np.log2(1 + 1/d) * math.log(2,16), \n",
    "            label='Benfords law',\n",
    "           marker='+')\n",
    "\n",
    "plt.xlabel('Digit')\n",
    "plt.ylabel('Relative frequency')\n",
    "plt.legend()\n",
    "plt.tight_layout()\n",
    "\n",
    "plt.savefig('build/Ex4-hexadec.pdf')\n",
    "# we can look at the plot and can see that it kind of behaves like the law suggests"
   ]
  }
 ],
 "metadata": {
  "kernelspec": {
   "display_name": "Python 3 (ipykernel)",
   "language": "python",
   "name": "python3"
  },
  "language_info": {
   "codemirror_mode": {
    "name": "ipython",
    "version": 3
   },
   "file_extension": ".py",
   "mimetype": "text/x-python",
   "name": "python",
   "nbconvert_exporter": "python",
   "pygments_lexer": "ipython3",
   "version": "3.10.4"
  }
 },
 "nbformat": 4,
 "nbformat_minor": 5
}
