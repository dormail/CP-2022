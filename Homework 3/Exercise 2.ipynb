{
 "cells": [
  {
   "cell_type": "markdown",
   "id": "8b268ad0-22c8-4163-97e8-7c8c1de162f9",
   "metadata": {},
   "source": [
    "# Exercise 2"
   ]
  },
  {
   "cell_type": "markdown",
   "id": "f3334164-2fee-4264-b0c4-b27c4e2ed4c1",
   "metadata": {
    "tags": []
   },
   "source": [
    "## 2.1 Given Fractal"
   ]
  },
  {
   "cell_type": "code",
   "execution_count": 1,
   "id": "9500c2c7-ec23-4524-b403-47c1e4472481",
   "metadata": {
    "execution": {
     "iopub.execute_input": "2022-05-19T05:56:17.510361Z",
     "iopub.status.busy": "2022-05-19T05:56:17.509972Z",
     "iopub.status.idle": "2022-05-19T05:56:18.547651Z",
     "shell.execute_reply": "2022-05-19T05:56:18.546955Z",
     "shell.execute_reply.started": "2022-05-19T05:56:17.510253Z"
    },
    "tags": []
   },
   "outputs": [],
   "source": [
    "import numpy as np\n",
    "import matplotlib.pyplot as plt\n",
    "from scipy.optimize import curve_fit"
   ]
  },
  {
   "cell_type": "code",
   "execution_count": 2,
   "id": "77d45a85-9ee9-4a6f-b0a0-1324421f9ce2",
   "metadata": {
    "execution": {
     "iopub.execute_input": "2022-05-19T05:56:18.550232Z",
     "iopub.status.busy": "2022-05-19T05:56:18.549459Z",
     "iopub.status.idle": "2022-05-19T05:56:18.554395Z",
     "shell.execute_reply": "2022-05-19T05:56:18.553745Z",
     "shell.execute_reply.started": "2022-05-19T05:56:18.550197Z"
    },
    "tags": []
   },
   "outputs": [],
   "source": [
    "import os\n",
    "\n",
    "if(not os.path.exists('build')):\n",
    "    os.makedirs('build')"
   ]
  },
  {
   "cell_type": "code",
   "execution_count": 3,
   "id": "000be6fa-89b4-4792-9c16-361ff01e1188",
   "metadata": {
    "execution": {
     "iopub.execute_input": "2022-05-19T05:56:18.556679Z",
     "iopub.status.busy": "2022-05-19T05:56:18.555986Z",
     "iopub.status.idle": "2022-05-19T05:56:18.578283Z",
     "shell.execute_reply": "2022-05-19T05:56:18.577646Z",
     "shell.execute_reply.started": "2022-05-19T05:56:18.556641Z"
    },
    "tags": []
   },
   "outputs": [],
   "source": [
    "def L(x,y,a,b,c,d,e,f):\n",
    "    x_new = a * x + b * y + e\n",
    "    y_new = c * x + d * y + f\n",
    "    return (x_new, y_new)\n",
    "\n",
    "def L1(x,y):\n",
    "    a = 0\n",
    "    b = 0\n",
    "    c = 0\n",
    "    d = .16\n",
    "    e = 0\n",
    "    f = 0\n",
    "    return L(x,y,a,b,c,d,e,f)\n",
    "\n",
    "def L2(x,y):\n",
    "    a = .2\n",
    "    b = -0.26\n",
    "    c = .23\n",
    "    d = .22\n",
    "    e = 0\n",
    "    f = .2\n",
    "    return L(x,y,a,b,c,d,e,f)\n",
    "\n",
    "def L3(x,y):\n",
    "    a = -.15\n",
    "    b = .28\n",
    "    c = .26\n",
    "    d = .24\n",
    "    e = 0\n",
    "    f = .2\n",
    "    return L(x,y,a,b,c,d,e,f)\n",
    "\n",
    "def L4(x,y):\n",
    "    a = .85\n",
    "    b = .04\n",
    "    c = -.04\n",
    "    d = .85\n",
    "    e = 0\n",
    "    f = .2\n",
    "    return L(x,y,a,b,c,d,e,f)\n",
    "\n",
    "def step(x,y):\n",
    "    random_number = np.random.rand()\n",
    "    p1 = .01\n",
    "    p2 = .07\n",
    "    p3 = .07\n",
    "    p4 = .85\n",
    "    if (random_number < p1):\n",
    "        return L1(x,y)\n",
    "    if (random_number < p1 + p2):\n",
    "        return L2(x,y)\n",
    "    if (random_number < p1 + p2 + p3):\n",
    "        return L3(x,y)\n",
    "    return L4(x,y)"
   ]
  },
  {
   "cell_type": "code",
   "execution_count": 4,
   "id": "c8fc0ab4-2461-4a64-baa8-4f36cc68f0c0",
   "metadata": {
    "execution": {
     "iopub.execute_input": "2022-05-19T05:56:18.581131Z",
     "iopub.status.busy": "2022-05-19T05:56:18.579933Z",
     "iopub.status.idle": "2022-05-19T05:56:20.958421Z",
     "shell.execute_reply": "2022-05-19T05:56:20.957595Z",
     "shell.execute_reply.started": "2022-05-19T05:56:18.581100Z"
    },
    "tags": []
   },
   "outputs": [],
   "source": [
    "history = [(0,0)]\n",
    "\n",
    "for _ in range(1000000):\n",
    "    x, y = history[-1]\n",
    "    x_new, y_new = step(x,y)\n",
    "    history.append((x_new, y_new))\n",
    "\n",
    "    \n",
    "history = np.array(history)"
   ]
  },
  {
   "cell_type": "code",
   "execution_count": 12,
   "id": "4a104ea8-8952-45c3-aef6-ab2b7a9399b9",
   "metadata": {
    "execution": {
     "iopub.execute_input": "2022-05-19T06:09:06.931226Z",
     "iopub.status.busy": "2022-05-19T06:09:06.930873Z",
     "iopub.status.idle": "2022-05-19T06:09:07.947754Z",
     "shell.execute_reply": "2022-05-19T06:09:07.946841Z",
     "shell.execute_reply.started": "2022-05-19T06:09:06.931185Z"
    },
    "tags": []
   },
   "outputs": [
    {
     "data": {
      "text/plain": [
       "<Figure size 432x288 with 0 Axes>"
      ]
     },
     "metadata": {},
     "output_type": "display_data"
    }
   ],
   "source": [
    "plt.scatter(history[:,0], history[:,1],s=.001)\n",
    "plt.savefig('build/my_rebuild.png')"
   ]
  },
  {
   "cell_type": "markdown",
   "id": "28141ade-4293-4b52-b979-4e4107f38630",
   "metadata": {},
   "source": [
    "## 2.3 Fractal dimension"
   ]
  },
  {
   "cell_type": "code",
   "execution_count": 6,
   "id": "1d08a9bf-7a66-4014-b288-64e12fc98a6c",
   "metadata": {
    "execution": {
     "iopub.execute_input": "2022-05-19T05:56:21.603624Z",
     "iopub.status.busy": "2022-05-19T05:56:21.603437Z",
     "iopub.status.idle": "2022-05-19T05:56:21.611363Z",
     "shell.execute_reply": "2022-05-19T05:56:21.610626Z",
     "shell.execute_reply.started": "2022-05-19T05:56:21.603584Z"
    },
    "tags": []
   },
   "outputs": [],
   "source": [
    "def is_in_box(point,left,right,top,bottom):\n",
    "    x,y = point\n",
    "    if y < bottom or y > top:\n",
    "        return False\n",
    "    if x < left or x > right:\n",
    "        return False\n",
    "    return True\n",
    "\n",
    "def any_is_in_box(data,left,right,top,bottom):\n",
    "    for point in data:\n",
    "        if(is_in_box(point, left,right,top,bottom)):\n",
    "            return True\n",
    "    return False\n",
    "\n",
    "def count_box(data, n_sqrt, height, width):\n",
    "    height_box = height / n_sqrt\n",
    "    width_box = width / n_sqrt\n",
    "    left = -1/2 * width\n",
    "    right = left + width_box\n",
    "    top = height / 2\n",
    "    bottom = top - height\n",
    "    \n",
    "    boxes_filled = 0\n",
    "    \n",
    "    for _ in range(n_sqrt**2): # iterate rows\n",
    "        for _ in range(n_sqrt**2): # iterate columns\n",
    "            if (any_is_in_box,left, right, top, bottom):\n",
    "                boxes_filled += 1\n",
    "            left += width_box\n",
    "            right += width_box\n",
    "        left = -1/2 * width\n",
    "        rigth = left + width_box\n",
    "        top += height_box\n",
    "        bottom += height_box\n",
    "    \n",
    "    return boxes_filled, n_sqrt**2\n"
   ]
  },
  {
   "cell_type": "code",
   "execution_count": 7,
   "id": "f5045b55-09ff-4896-8a11-4b9a9b002501",
   "metadata": {
    "execution": {
     "iopub.execute_input": "2022-05-19T05:56:21.613237Z",
     "iopub.status.busy": "2022-05-19T05:56:21.612945Z",
     "iopub.status.idle": "2022-05-19T06:00:18.076867Z",
     "shell.execute_reply": "2022-05-19T06:00:18.076240Z",
     "shell.execute_reply.started": "2022-05-19T05:56:21.613215Z"
    },
    "tags": []
   },
   "outputs": [],
   "source": [
    "boxes = []\n",
    "for i in range(3,100):\n",
    "    boxes.append(count_box(history, i, 1, 3))\n",
    "boxes = np.array(boxes)"
   ]
  },
  {
   "cell_type": "code",
   "execution_count": 9,
   "id": "52092124-b46c-4b40-b344-ea69124190fa",
   "metadata": {
    "execution": {
     "iopub.execute_input": "2022-05-19T06:08:08.421485Z",
     "iopub.status.busy": "2022-05-19T06:08:08.421132Z",
     "iopub.status.idle": "2022-05-19T06:08:08.427201Z",
     "shell.execute_reply": "2022-05-19T06:08:08.426023Z",
     "shell.execute_reply.started": "2022-05-19T06:08:08.421448Z"
    }
   },
   "outputs": [],
   "source": [
    "boxes_total = boxes[:,0]\n",
    "boxes_filled = boxes[:,1]\n",
    "fraction_filled = boxes_filled / boxes_total"
   ]
  },
  {
   "cell_type": "code",
   "execution_count": 10,
   "id": "b55cddac-5709-4c2e-9323-f8f002e97e4e",
   "metadata": {
    "execution": {
     "iopub.execute_input": "2022-05-19T06:08:09.345033Z",
     "iopub.status.busy": "2022-05-19T06:08:09.344691Z",
     "iopub.status.idle": "2022-05-19T06:08:09.361510Z",
     "shell.execute_reply": "2022-05-19T06:08:09.360365Z",
     "shell.execute_reply.started": "2022-05-19T06:08:09.344997Z"
    },
    "tags": []
   },
   "outputs": [],
   "source": [
    "def exponential(x,exponent, factor):\n",
    "    return factor * x ** exponent\n",
    "\n",
    "\n",
    "popt, pcov = curve_fit(exponential, boxes_total, boxes_filled)\n",
    "\n",
    "exponent, factor = popt"
   ]
  },
  {
   "cell_type": "code",
   "execution_count": 13,
   "id": "5d779cd2-51b9-4a1e-8331-f098d4bb9882",
   "metadata": {
    "execution": {
     "iopub.execute_input": "2022-05-19T06:09:18.256269Z",
     "iopub.status.busy": "2022-05-19T06:09:18.255857Z",
     "iopub.status.idle": "2022-05-19T06:09:19.196838Z",
     "shell.execute_reply": "2022-05-19T06:09:19.195859Z",
     "shell.execute_reply.started": "2022-05-19T06:09:18.256230Z"
    },
    "tags": []
   },
   "outputs": [
    {
     "data": {
      "image/png": "[encoded data removed]",
      "text/plain": [
       "<Figure size 432x288 with 1 Axes>"
      ]
     },
     "metadata": {
      "needs_background": "light"
     },
     "output_type": "display_data"
    }
   ],
   "source": [
    "plt.clf()\n",
    "plt.scatter(boxes_total, boxes_filled,\n",
    "           label='Data',\n",
    "           marker='+')\n",
    "plt.plot(boxes_total, exponential(boxes_total, exponent, factor),\n",
    "         label=rf'Curve fit $x^{{{exponent:.3f}}}$',\n",
    "         color='k')\n",
    "plt.xscale('log')\n",
    "plt.yscale('log')\n",
    "plt.legend()\n",
    "plt.tight_layout()\n",
    "plt.xlabel('Boxes fited')\n",
    "plt.ylabel('Boxes filled with data points')\n",
    "\n",
    "plt.savefig('build/fractal_dimension.png')"
   ]
  },
  {
   "cell_type": "code",
   "execution_count": null,
   "id": "85a5eedf-78b2-4592-b8a1-2972ae1767b3",
   "metadata": {},
   "outputs": [],
   "source": []
  }
 ],
 "metadata": {
  "kernelspec": {
   "display_name": "Python 3 (ipykernel)",
   "language": "python",
   "name": "python3"
  },
  "language_info": {
   "codemirror_mode": {
    "name": "ipython",
    "version": 3
   },
   "file_extension": ".py",
   "mimetype": "text/x-python",
   "name": "python",
   "nbconvert_exporter": "python",
   "pygments_lexer": "ipython3",
   "version": "3.10.4"
  }
 },
 "nbformat": 4,
 "nbformat_minor": 5
}
