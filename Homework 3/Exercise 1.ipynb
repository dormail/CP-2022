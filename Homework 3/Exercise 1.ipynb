{
 "cells": [
  {
   "cell_type": "markdown",
   "id": "bfc5aff1-5521-4c35-9a3b-b90fb7e962a8",
   "metadata": {},
   "source": [
    "# Exercise 1\n",
    "\n",
    "Random deposition and diffusion model"
   ]
  },
  {
   "cell_type": "code",
   "execution_count": 1,
   "id": "80cf4177-b4e5-4749-a9e8-79702d6070eb",
   "metadata": {
    "execution": {
     "iopub.execute_input": "2022-05-29T09:45:56.728598Z",
     "iopub.status.busy": "2022-05-29T09:45:56.728299Z",
     "iopub.status.idle": "2022-05-29T09:45:57.554771Z",
     "shell.execute_reply": "2022-05-29T09:45:57.554039Z",
     "shell.execute_reply.started": "2022-05-29T09:45:56.728492Z"
    },
    "tags": []
   },
   "outputs": [],
   "source": [
    "import numpy as np\n",
    "import matplotlib.pyplot as plt\n",
    "from scipy.optimize import curve_fit"
   ]
  },
  {
   "cell_type": "code",
   "execution_count": 2,
   "id": "fb23e1d7-cc69-41d3-90d8-227aebad5075",
   "metadata": {
    "execution": {
     "iopub.execute_input": "2022-05-29T09:45:57.556694Z",
     "iopub.status.busy": "2022-05-29T09:45:57.556192Z",
     "iopub.status.idle": "2022-05-29T09:45:57.563289Z",
     "shell.execute_reply": "2022-05-29T09:45:57.562682Z",
     "shell.execute_reply.started": "2022-05-29T09:45:57.556670Z"
    },
    "tags": []
   },
   "outputs": [],
   "source": [
    "def deposit_and_diffuse(h):\n",
    "    L = h.size\n",
    "    target = np.random.randint(0,L)\n",
    "    left = target - 1\n",
    "    right = target + 1\n",
    "    if right == h.shape[0]:\n",
    "        right = 0\n",
    "        \n",
    "       \n",
    "    # drop particle\n",
    "    h[target] += 1\n",
    "    \n",
    "    # diffusion \n",
    "    # if left and right are the same heigth and are lower than target\n",
    "    if h[left] == h[right] and h[left] < h[target] + 1:\n",
    "        h[target] -= 1\n",
    "        random_number = np.random.rand()\n",
    "        if random_number < .5:\n",
    "            h[left] += 1\n",
    "        else:\n",
    "            h[right] += 1\n",
    "        return h\n",
    "    \n",
    "    if h[right] < h[target] and h[right] < h[left] + 1:\n",
    "        h[right] += 1\n",
    "        h[target] -= 1\n",
    "        return h\n",
    "    \n",
    "    if h[left] < h[target] and h[left] < h[right] + 1:\n",
    "        h[left] += 1\n",
    "        h[target] -= 1\n",
    "    return h\n",
    "\n",
    "def L_deposits(h):\n",
    "    for _ in range(h.size):\n",
    "        h = deposit_and_diffuse(h)\n",
    "    return h"
   ]
  },
  {
   "cell_type": "markdown",
   "id": "e2355ae1-621f-4a49-97f8-7ac0d5e1e22a",
   "metadata": {},
   "source": [
    "## 1.1\n",
    "Draw a single instance growing\n",
    "\n",
    "I draw it after $L$, $10 L$ and $100 L$ particles deposited and diffused."
   ]
  },
  {
   "cell_type": "code",
   "execution_count": 3,
   "id": "48f009f2-26ca-46b6-9df5-99c59fb27079",
   "metadata": {
    "execution": {
     "iopub.execute_input": "2022-05-29T09:45:57.564369Z",
     "iopub.status.busy": "2022-05-29T09:45:57.564095Z",
     "iopub.status.idle": "2022-05-29T09:45:58.177489Z",
     "shell.execute_reply": "2022-05-29T09:45:58.176995Z",
     "shell.execute_reply.started": "2022-05-29T09:45:57.564343Z"
    },
    "tags": []
   },
   "outputs": [
    {
     "data": {
      "image/png": "[encoded data removed]",
      "text/plain": [
       "<Figure size 432x288 with 1 Axes>"
      ]
     },
     "metadata": {
      "needs_background": "light"
     },
     "output_type": "display_data"
    }
   ],
   "source": [
    "L = 50\n",
    "h = np.zeros(L)\n",
    "x = np.arange(L)\n",
    "\n",
    "for _ in range(L):\n",
    "    h = deposit_and_diffuse(h)\n",
    "\n",
    "plt.clf()\n",
    "plt.bar(x, h)\n",
    "plt.savefig('build/Ex1-draw-001.pdf')\n",
    "\n",
    "for _ in range(9 * L):\n",
    "    h = deposit_and_diffuse(h)\n",
    "\n",
    "plt.clf()\n",
    "plt.bar(x, h)\n",
    "plt.savefig('build/Ex1-draw-010.pdf')\n",
    "\n",
    "for _ in range(90 * L):\n",
    "    h = deposit_and_diffuse(h)\n",
    "\n",
    "plt.clf()\n",
    "plt.bar(x, h)\n",
    "plt.savefig('build/Ex1-draw-100.pdf')"
   ]
  },
  {
   "cell_type": "markdown",
   "id": "2a60cef9-8b2d-4a2c-a512-42185459ed5b",
   "metadata": {},
   "source": [
    "## 1.2 Measuring roughness exponent $\\alpha$\n",
    "\n",
    "First we define some finction which come in handy for 1.2 and 1.3, later specific for each part"
   ]
  },
  {
   "cell_type": "code",
   "execution_count": 4,
   "id": "84e95ab1-4f1d-4eba-84e3-8cab94a55eb8",
   "metadata": {
    "execution": {
     "iopub.execute_input": "2022-05-29T09:45:58.178468Z",
     "iopub.status.busy": "2022-05-29T09:45:58.178282Z",
     "iopub.status.idle": "2022-05-29T09:45:58.181957Z",
     "shell.execute_reply": "2022-05-29T09:45:58.181419Z",
     "shell.execute_reply.started": "2022-05-29T09:45:58.178446Z"
    },
    "tags": []
   },
   "outputs": [],
   "source": [
    "h = np.zeros(10)"
   ]
  },
  {
   "cell_type": "code",
   "execution_count": 5,
   "id": "5938022d-9459-4900-a9b4-f8408a29d2ef",
   "metadata": {
    "execution": {
     "iopub.execute_input": "2022-05-29T09:45:58.182699Z",
     "iopub.status.busy": "2022-05-29T09:45:58.182588Z",
     "iopub.status.idle": "2022-05-29T09:45:58.193728Z",
     "shell.execute_reply": "2022-05-29T09:45:58.193120Z",
     "shell.execute_reply.started": "2022-05-29T09:45:58.182682Z"
    },
    "tags": []
   },
   "outputs": [
    {
     "data": {
      "text/plain": [
       "10"
      ]
     },
     "execution_count": 5,
     "metadata": {},
     "output_type": "execute_result"
    }
   ],
   "source": [
    "h.shape[0]"
   ]
  },
  {
   "cell_type": "code",
   "execution_count": 6,
   "id": "bacd087f-9a12-4562-b81c-40400b0ae2b4",
   "metadata": {
    "execution": {
     "iopub.execute_input": "2022-05-29T09:45:58.194996Z",
     "iopub.status.busy": "2022-05-29T09:45:58.194792Z",
     "iopub.status.idle": "2022-05-29T09:45:58.200804Z",
     "shell.execute_reply": "2022-05-29T09:45:58.200143Z",
     "shell.execute_reply.started": "2022-05-29T09:45:58.194978Z"
    },
    "tags": []
   },
   "outputs": [],
   "source": [
    "def width(L,T):\n",
    "    h = np.zeros(L)\n",
    "    W = []\n",
    "    for _ in range(T):\n",
    "        W.append(np.std(h))\n",
    "        h = deposit_and_diffuse(h)\n",
    "    return W, h\n",
    "\n",
    "def width_multiple(L,T,runs=10):\n",
    "    W_all = []\n",
    "    for _ in range(runs):\n",
    "        W, h = width(L,T)\n",
    "        W_all.append(W)\n",
    "    return W_all\n",
    "\n",
    "def width_average(L,T,runs=10):\n",
    "    W_all = np.array(width_multiple(L,T,runs))\n",
    "    W_average = np.average(W_all, axis=0)\n",
    "    return W_average\n",
    "\n",
    "def width_largeT_average(L,runs=10):\n",
    "    W_average = width_average(L,15 * L)\n",
    "    W_average = W_average[2 * L:]\n",
    "    average = np.average(W_average)\n",
    "    return average"
   ]
  },
  {
   "cell_type": "code",
   "execution_count": 7,
   "id": "8d338aba-5e91-4d43-a545-968854623fda",
   "metadata": {
    "execution": {
     "iopub.execute_input": "2022-05-29T09:45:58.203089Z",
     "iopub.status.busy": "2022-05-29T09:45:58.202755Z",
     "iopub.status.idle": "2022-05-29T09:45:58.206218Z",
     "shell.execute_reply": "2022-05-29T09:45:58.205676Z",
     "shell.execute_reply.started": "2022-05-29T09:45:58.203070Z"
    },
    "tags": []
   },
   "outputs": [],
   "source": [
    "# function for the curve fits\n",
    "def polynomial(x,factor,exponent):\n",
    "    return factor * x**exponent"
   ]
  },
  {
   "cell_type": "code",
   "execution_count": 8,
   "id": "6cef6f67-37bc-45aa-9097-17425477265d",
   "metadata": {
    "execution": {
     "iopub.execute_input": "2022-05-29T09:45:58.207074Z",
     "iopub.status.busy": "2022-05-29T09:45:58.206955Z",
     "iopub.status.idle": "2022-05-29T09:46:03.751333Z",
     "shell.execute_reply": "2022-05-29T09:46:03.750604Z",
     "shell.execute_reply.started": "2022-05-29T09:45:58.207057Z"
    },
    "tags": []
   },
   "outputs": [],
   "source": [
    "L = np.arange(10, 100,3)\n",
    "W = [width_largeT_average(l) for l in L]"
   ]
  },
  {
   "cell_type": "code",
   "execution_count": 9,
   "id": "4e9dd786-7096-430a-8dca-255dc5f6aa1a",
   "metadata": {
    "execution": {
     "iopub.execute_input": "2022-05-29T09:46:03.751928Z",
     "iopub.status.busy": "2022-05-29T09:46:03.751831Z",
     "iopub.status.idle": "2022-05-29T09:46:03.758758Z",
     "shell.execute_reply": "2022-05-29T09:46:03.757834Z",
     "shell.execute_reply.started": "2022-05-29T09:46:03.751909Z"
    },
    "tags": []
   },
   "outputs": [
    {
     "name": "stdout",
     "output_type": "stream",
     "text": [
      "alpha = 0.1445999258710208 +/- 0.012703858229382504\n"
     ]
    }
   ],
   "source": [
    "popt, pcov = curve_fit(polynomial, L, W)\n",
    "error = np.sqrt(np.diag(pcov))\n",
    "factor, alpha = popt\n",
    "\n",
    "print(f'alpha = {alpha} +/- {error[1]}')"
   ]
  },
  {
   "cell_type": "code",
   "execution_count": 10,
   "id": "b57f2e38-7159-4c6e-b837-6c575a199c0b",
   "metadata": {
    "execution": {
     "iopub.execute_input": "2022-05-29T09:46:03.759737Z",
     "iopub.status.busy": "2022-05-29T09:46:03.759610Z",
     "iopub.status.idle": "2022-05-29T09:46:04.270107Z",
     "shell.execute_reply": "2022-05-29T09:46:04.269164Z",
     "shell.execute_reply.started": "2022-05-29T09:46:03.759722Z"
    },
    "tags": []
   },
   "outputs": [
    {
     "data": {
      "image/png": "[encoded data removed]",
      "text/plain": [
       "<Figure size 432x288 with 1 Axes>"
      ]
     },
     "metadata": {
      "needs_background": "light"
     },
     "output_type": "display_data"
    }
   ],
   "source": [
    "plt.clf()\n",
    "plt.scatter(L, W,\n",
    "           marker='+',\n",
    "           label='Measured width average over large $t$')\n",
    "\n",
    "L_fine = np.linspace(L[0], L[-1], 1000)\n",
    "plt.plot(L_fine, polynomial(L_fine, factor, alpha),\n",
    "        color='orange',\n",
    "        label=fr'Curve fit $ax^\\alpha$ with $\\alpha = {alpha:.4f}$')\n",
    "\n",
    "plt.xlabel(r'$L$')\n",
    "plt.ylabel(r'Average($W(L,t > t_x)$)')\n",
    "plt.legend()\n",
    "plt.tight_layout()\n",
    "plt.savefig('build/Ex1-alpha.pdf')"
   ]
  },
  {
   "cell_type": "markdown",
   "id": "25c2d12a-43b8-4d58-b9a5-85324fe94956",
   "metadata": {
    "execution": {
     "iopub.execute_input": "2022-05-28T02:58:44.393614Z",
     "iopub.status.busy": "2022-05-28T02:58:44.393322Z",
     "iopub.status.idle": "2022-05-28T02:58:44.398742Z",
     "shell.execute_reply": "2022-05-28T02:58:44.397812Z",
     "shell.execute_reply.started": "2022-05-28T02:58:44.393584Z"
    }
   },
   "source": [
    "## 1.3 Measuring growth exponent $\\beta$"
   ]
  },
  {
   "cell_type": "markdown",
   "id": "b35c647e-18da-4a9c-be86-12a76a71381a",
   "metadata": {},
   "source": [
    "First we can look how the width behaves and we can see that it is quite unstable.\n",
    "\n",
    "Because of that we take the average over many runs and apply a curve fit to it to get $\\beta$ assuming that it does not depend on L."
   ]
  },
  {
   "cell_type": "code",
   "execution_count": 11,
   "id": "65684595-f2bf-4c6e-a78f-b95b0ad8b942",
   "metadata": {
    "execution": {
     "iopub.execute_input": "2022-05-29T09:46:04.271390Z",
     "iopub.status.busy": "2022-05-29T09:46:04.271237Z",
     "iopub.status.idle": "2022-05-29T09:46:04.649923Z",
     "shell.execute_reply": "2022-05-29T09:46:04.649334Z",
     "shell.execute_reply.started": "2022-05-29T09:46:04.271371Z"
    },
    "tags": []
   },
   "outputs": [
    {
     "data": {
      "image/png": "[encoded data removed]",
      "text/plain": [
       "<Figure size 432x288 with 1 Axes>"
      ]
     },
     "metadata": {
      "needs_background": "light"
     },
     "output_type": "display_data"
    }
   ],
   "source": [
    "plt.clf()\n",
    "L = 50\n",
    "T = 500\n",
    "t = np.arange(T)\n",
    "W_all = width_multiple(L,T)\n",
    "for W in W_all:\n",
    "    plt.scatter(t,W,\n",
    "           marker='+')\n",
    "    plt.xlabel(r'$t$')\n",
    "    plt.ylabel('Width')\n",
    "plt.savefig('build/many_widths.pdf')"
   ]
  },
  {
   "cell_type": "markdown",
   "id": "40f6e440-f249-44db-a010-ef55bf745d26",
   "metadata": {},
   "source": [
    "Here we apply the curve fit to an average over 100 runs. First we used a Length and Time interval of 50 units each. To verify that $\\beta$ does not depend on $L$ it is done for $L = T = 100$ afterwards as well where a similar parameter is calculated"
   ]
  },
  {
   "cell_type": "code",
   "execution_count": 12,
   "id": "a89666f0-8405-4704-9981-01f3a40a5122",
   "metadata": {
    "execution": {
     "iopub.execute_input": "2022-05-29T09:46:04.650993Z",
     "iopub.status.busy": "2022-05-29T09:46:04.650772Z",
     "iopub.status.idle": "2022-05-29T09:46:04.771054Z",
     "shell.execute_reply": "2022-05-29T09:46:04.770513Z",
     "shell.execute_reply.started": "2022-05-29T09:46:04.650967Z"
    },
    "tags": []
   },
   "outputs": [],
   "source": [
    "L = 50\n",
    "T = 50\n",
    "t = np.arange(T)\n",
    "W_average = width_average(L,T,runs=100)"
   ]
  },
  {
   "cell_type": "code",
   "execution_count": 13,
   "id": "c5b42b6d-b69c-47cd-8286-14d22e9d39d4",
   "metadata": {
    "execution": {
     "iopub.execute_input": "2022-05-29T09:46:04.771927Z",
     "iopub.status.busy": "2022-05-29T09:46:04.771764Z",
     "iopub.status.idle": "2022-05-29T09:46:04.777158Z",
     "shell.execute_reply": "2022-05-29T09:46:04.776501Z",
     "shell.execute_reply.started": "2022-05-29T09:46:04.771906Z"
    },
    "tags": []
   },
   "outputs": [
    {
     "name": "stdout",
     "output_type": "stream",
     "text": [
      "L = T = 50:\n",
      "\tbeta = 0.34947908451594195 +/- 0.006631245853822214\n"
     ]
    }
   ],
   "source": [
    "popt, pcov = curve_fit(polynomial, t, W_average)\n",
    "error = np.sqrt(np.diag(pcov))\n",
    "factor, beta = popt\n",
    "\n",
    "print(f'L = T = {L}:\\n\\tbeta = {beta} +/- {error[1]}')"
   ]
  },
  {
   "cell_type": "code",
   "execution_count": 14,
   "id": "feefaf46-2cf7-4cdb-926a-3913cb7df86a",
   "metadata": {
    "execution": {
     "iopub.execute_input": "2022-05-29T09:46:04.778309Z",
     "iopub.status.busy": "2022-05-29T09:46:04.778110Z",
     "iopub.status.idle": "2022-05-29T09:46:05.030467Z",
     "shell.execute_reply": "2022-05-29T09:46:05.029725Z",
     "shell.execute_reply.started": "2022-05-29T09:46:04.778292Z"
    },
    "tags": []
   },
   "outputs": [
    {
     "data": {
      "image/png": "[encoded data removed]",
      "text/plain": [
       "<Figure size 432x288 with 1 Axes>"
      ]
     },
     "metadata": {
      "needs_background": "light"
     },
     "output_type": "display_data"
    }
   ],
   "source": [
    "plt.clf()\n",
    "plt.scatter(t,W_average,\n",
    "       marker='+',\n",
    "           label='Calculated width')\n",
    "\n",
    "t_fine = np.linspace(t[0], t[-1],1000)\n",
    "plt.plot(t_fine,polynomial(t_fine,factor,beta),\n",
    "         label=fr'Curve fit $ax^\\beta$ with $\\beta = {beta:.4f}$',\n",
    "        color='orange')\n",
    "\n",
    "plt.xlabel(r'$t$')\n",
    "plt.ylabel('Width')\n",
    "plt.legend()\n",
    "plt.tight_layout()\n",
    "plt.savefig('build/beta_50.pdf')"
   ]
  },
  {
   "cell_type": "code",
   "execution_count": 15,
   "id": "289afc0c-da6e-4fa1-af48-d63053ca337e",
   "metadata": {
    "execution": {
     "iopub.execute_input": "2022-05-29T09:46:05.032112Z",
     "iopub.status.busy": "2022-05-29T09:46:05.031856Z",
     "iopub.status.idle": "2022-05-29T09:46:05.458576Z",
     "shell.execute_reply": "2022-05-29T09:46:05.457914Z",
     "shell.execute_reply.started": "2022-05-29T09:46:05.032089Z"
    },
    "tags": []
   },
   "outputs": [
    {
     "name": "stdout",
     "output_type": "stream",
     "text": [
      "L = T = 100:\n",
      "\tbeta = 0.35719047685735683 +/- 0.004457367908270371\n"
     ]
    },
    {
     "data": {
      "image/png": "[encoded data removed]",
      "text/plain": [
       "<Figure size 432x288 with 1 Axes>"
      ]
     },
     "metadata": {
      "needs_background": "light"
     },
     "output_type": "display_data"
    }
   ],
   "source": [
    "L = 100\n",
    "T = 100\n",
    "t = np.arange(T)\n",
    "W_average = width_average(L,T,runs=100)\n",
    "\n",
    "popt, pcov = curve_fit(polynomial, t, W_average)\n",
    "error = np.sqrt(np.diag(pcov))\n",
    "factor, beta = popt\n",
    "\n",
    "print(f'L = T = {L}:\\n\\tbeta = {beta} +/- {error[1]}')\n",
    "\n",
    "plt.clf()\n",
    "plt.scatter(t,W_average,\n",
    "       marker='+',\n",
    "           label='Calculated width')\n",
    "\n",
    "t_fine = np.linspace(t[0], t[-1],1000)\n",
    "plt.plot(t_fine,polynomial(t_fine,factor,beta),\n",
    "         label=fr'Curve fit $ax^\\beta$ with $\\beta = {beta:.4f}$',\n",
    "        color='orange')\n",
    "\n",
    "plt.xlabel(r'$t$')\n",
    "plt.ylabel('Width')\n",
    "plt.legend()\n",
    "plt.tight_layout()\n",
    "plt.savefig('build/beta_100.pdf')"
   ]
  }
 ],
 "metadata": {
  "kernelspec": {
   "display_name": "Python 3 (ipykernel)",
   "language": "python",
   "name": "python3"
  },
  "language_info": {
   "codemirror_mode": {
    "name": "ipython",
    "version": 3
   },
   "file_extension": ".py",
   "mimetype": "text/x-python",
   "name": "python",
   "nbconvert_exporter": "python",
   "pygments_lexer": "ipython3",
   "version": "3.10.4"
  }
 },
 "nbformat": 4,
 "nbformat_minor": 5
}
