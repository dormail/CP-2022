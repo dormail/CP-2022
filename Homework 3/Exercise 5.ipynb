{
 "cells": [
  {
   "cell_type": "markdown",
   "id": "1b0773c9-a204-45e4-96ba-67879abbe411",
   "metadata": {},
   "source": [
    "# Exercise 5\n",
    "\n",
    "Zipfs Law: We will look at the Homework Sheets from this course\n",
    "\n",
    "Firstly we import the files and apply some cleaning\n",
    "- Set lower case for all letters\n",
    "- remove line breaks and replace with white space\n",
    "- remove some single standing letter from equations "
   ]
  },
  {
   "cell_type": "code",
   "execution_count": 1,
   "id": "d67a38fe-12c3-4511-85ae-f24301d3db38",
   "metadata": {
    "execution": {
     "iopub.execute_input": "2022-05-29T09:45:48.170780Z",
     "iopub.status.busy": "2022-05-29T09:45:48.170506Z",
     "iopub.status.idle": "2022-05-29T09:45:48.727775Z",
     "shell.execute_reply": "2022-05-29T09:45:48.727155Z",
     "shell.execute_reply.started": "2022-05-29T09:45:48.170695Z"
    },
    "tags": []
   },
   "outputs": [],
   "source": [
    "import numpy as np\n",
    "import matplotlib.pyplot as plt"
   ]
  },
  {
   "cell_type": "code",
   "execution_count": 2,
   "id": "5c0fbe24-2899-4e8f-a16b-bb82e52f9b21",
   "metadata": {
    "execution": {
     "iopub.execute_input": "2022-05-29T09:45:48.729085Z",
     "iopub.status.busy": "2022-05-29T09:45:48.728938Z",
     "iopub.status.idle": "2022-05-29T09:45:48.736664Z",
     "shell.execute_reply": "2022-05-29T09:45:48.736075Z",
     "shell.execute_reply.started": "2022-05-29T09:45:48.729070Z"
    },
    "tags": []
   },
   "outputs": [],
   "source": [
    "# read file\n",
    "file = open('Text/HW1.txt', 'r')\n",
    "data_hw1 = file.read()\n",
    "\n",
    "file = open('Text/HW2.txt', 'r')\n",
    "data_hw2 = file.read()\n",
    "\n",
    "file = open('Text/HW3.txt', 'r')\n",
    "data_hw3 = file.read()\n",
    "\n",
    "\n",
    "file = open('Text/HW4.txt', 'r')\n",
    "data_hw4 = file.read()\n",
    "\n",
    "data = data_hw1 + ' ' +  data_hw2 + ' ' + data_hw3 + ' ' + data_hw4\n",
    "\n",
    "#file = open('Text/HW3.txt', 'r')\n",
    "#data_hw3 = file.read()\n",
    "\n",
    "# data cleaning\n",
    "data = data.lower()\n",
    "\n",
    "letters_remove = ['\\n', '(', ')', ',', '∗', '\"', '-', '−', '[', ']','|','<','>']\n",
    "for letter in letters_remove:\n",
    "    data = data.replace(letter, ' ')\n",
    "\n",
    "# remove some letters because of equations\n",
    "letters_remove = [' e ', ' i ', ' x ', ' y ', ' p ', ' t ', ' n ', ' l ', ' b ', ' c ']\n",
    "for letter in letters_remove:\n",
    "    data = data.replace(letter, ' ')\n",
    "    \n",
    "data = data.replace('.','')\n",
    "\n",
    "word_list = data.split()\n",
    "\n",
    "# counting\n",
    "occurrences = data.count('homework')"
   ]
  },
  {
   "cell_type": "code",
   "execution_count": 3,
   "id": "fe88f41e-a7f0-4520-ae8e-310aa394f91c",
   "metadata": {
    "execution": {
     "iopub.execute_input": "2022-05-29T09:45:48.737532Z",
     "iopub.status.busy": "2022-05-29T09:45:48.737394Z",
     "iopub.status.idle": "2022-05-29T09:45:48.753077Z",
     "shell.execute_reply": "2022-05-29T09:45:48.752499Z",
     "shell.execute_reply.started": "2022-05-29T09:45:48.737515Z"
    },
    "tags": []
   },
   "outputs": [],
   "source": [
    "word_list_unique = []\n",
    "for word in word_list:\n",
    "    if word not in word_list_unique:\n",
    "        word_list_unique.append(word)"
   ]
  },
  {
   "cell_type": "code",
   "execution_count": 4,
   "id": "1fd11195-c282-4672-a1bf-2b896b672408",
   "metadata": {
    "execution": {
     "iopub.execute_input": "2022-05-29T09:45:48.753899Z",
     "iopub.status.busy": "2022-05-29T09:45:48.753789Z",
     "iopub.status.idle": "2022-05-29T09:45:48.772061Z",
     "shell.execute_reply": "2022-05-29T09:45:48.771647Z",
     "shell.execute_reply.started": "2022-05-29T09:45:48.753885Z"
    },
    "tags": []
   },
   "outputs": [],
   "source": [
    "word_count = {}\n",
    "\n",
    "for word in word_list_unique:\n",
    "    word_count[word] = (data.count(word))\n",
    "    \n",
    "# remove some non sense\n",
    "word_count['c'] = 0\n",
    "word_count['i'] = 0\n",
    "word_count['v'] = 0\n",
    "word_count['f'] = 0\n",
    "word_count['p'] = 0\n",
    "word_count['m'] = 0\n",
    "word_count['d'] = 0\n",
    "word_count['h'] = 0\n",
    "word_count['l'] = 0\n",
    "word_count['r'] = 0\n",
    "word_count['n'] = 0 \n",
    "word_count['k'] = 0\n",
    "word_count['1'] = 0\n",
    "word_count['2'] = 0\n",
    "\n",
    "    \n",
    "word_count = {k: v for k, v in sorted(word_count.items(), key=lambda item: item[1])}\n"
   ]
  },
  {
   "cell_type": "code",
   "execution_count": 5,
   "id": "7a19be1e-b000-4b47-a3af-f2e59d02600e",
   "metadata": {
    "execution": {
     "iopub.execute_input": "2022-05-29T09:45:48.772760Z",
     "iopub.status.busy": "2022-05-29T09:45:48.772654Z",
     "iopub.status.idle": "2022-05-29T09:45:48.776112Z",
     "shell.execute_reply": "2022-05-29T09:45:48.775591Z",
     "shell.execute_reply.started": "2022-05-29T09:45:48.772746Z"
    },
    "tags": []
   },
   "outputs": [],
   "source": [
    "accur = np.array(list(word_count.values()))\n",
    "\n",
    "top_ten = accur[-50:] # not really top ten anymore"
   ]
  },
  {
   "cell_type": "code",
   "execution_count": 6,
   "id": "5cf03e5b-c556-46a7-b714-4256546ba966",
   "metadata": {
    "execution": {
     "iopub.execute_input": "2022-05-29T09:45:48.777044Z",
     "iopub.status.busy": "2022-05-29T09:45:48.776903Z",
     "iopub.status.idle": "2022-05-29T09:45:48.781887Z",
     "shell.execute_reply": "2022-05-29T09:45:48.781345Z",
     "shell.execute_reply.started": "2022-05-29T09:45:48.777028Z"
    },
    "tags": []
   },
   "outputs": [],
   "source": [
    "x = np.arange(1, len(top_ten) + 1)\n",
    "x = np.flip(x)"
   ]
  },
  {
   "cell_type": "code",
   "execution_count": 7,
   "id": "1913a64a-f34f-4728-bd75-b8ea03b50e48",
   "metadata": {
    "execution": {
     "iopub.execute_input": "2022-05-29T09:45:48.783224Z",
     "iopub.status.busy": "2022-05-29T09:45:48.783075Z",
     "iopub.status.idle": "2022-05-29T09:45:48.786602Z",
     "shell.execute_reply": "2022-05-29T09:45:48.785895Z",
     "shell.execute_reply.started": "2022-05-29T09:45:48.783208Z"
    },
    "tags": []
   },
   "outputs": [],
   "source": [
    "start_val = top_ten[-1]"
   ]
  },
  {
   "cell_type": "code",
   "execution_count": 8,
   "id": "3edb9e9d-a5b1-45be-877f-cb420fc91110",
   "metadata": {
    "execution": {
     "iopub.execute_input": "2022-05-29T09:45:48.787261Z",
     "iopub.status.busy": "2022-05-29T09:45:48.787125Z",
     "iopub.status.idle": "2022-05-29T09:45:49.575835Z",
     "shell.execute_reply": "2022-05-29T09:45:49.575324Z",
     "shell.execute_reply.started": "2022-05-29T09:45:48.787246Z"
    },
    "tags": []
   },
   "outputs": [
    {
     "data": {
      "image/png": "[encoded data removed]",
      "text/plain": [
       "<Figure size 432x288 with 1 Axes>"
      ]
     },
     "metadata": {
      "needs_background": "light"
     },
     "output_type": "display_data"
    }
   ],
   "source": [
    "plt.scatter(x, top_ten,\n",
    "            label='Measured appearences',\n",
    "            marker='+')\n",
    "\n",
    "plt.scatter(x, start_val / x, \n",
    "            label=f'Theoretical Curve for starting value {start_val}', \n",
    "            marker='+')\n",
    "plt.legend()\n",
    "plt.yscale('log')\n",
    "plt.ylabel('# of appearances')\n",
    "plt.xlabel('Degree of word')\n",
    "plt.tight_layout()\n",
    "plt.savefig('build/Ex5.pdf')"
   ]
  },
  {
   "cell_type": "code",
   "execution_count": null,
   "id": "caf9451e-808f-4fc6-ab26-1b3b14523e6e",
   "metadata": {},
   "outputs": [],
   "source": []
  }
 ],
 "metadata": {
  "kernelspec": {
   "display_name": "Python 3 (ipykernel)",
   "language": "python",
   "name": "python3"
  },
  "language_info": {
   "codemirror_mode": {
    "name": "ipython",
    "version": 3
   },
   "file_extension": ".py",
   "mimetype": "text/x-python",
   "name": "python",
   "nbconvert_exporter": "python",
   "pygments_lexer": "ipython3",
   "version": "3.10.4"
  }
 },
 "nbformat": 4,
 "nbformat_minor": 5
}
