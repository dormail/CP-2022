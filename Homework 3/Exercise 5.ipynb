{
 "cells": [
  {
   "cell_type": "markdown",
   "id": "1b0773c9-a204-45e4-96ba-67879abbe411",
   "metadata": {},
   "source": [
    "# Exercise 5\n",
    "\n",
    "Zipfs Law: We will look at the Homework Sheets from this course\n",
    "\n",
    "Firstly we import the files and apply some cleaning\n",
    "- Set lower case for all letters\n",
    "- remove line breaks and replace with white space\n",
    "- remove some single standing letter from equations "
   ]
  },
  {
   "cell_type": "code",
   "execution_count": 1,
   "id": "d67a38fe-12c3-4511-85ae-f24301d3db38",
   "metadata": {
    "execution": {
     "iopub.execute_input": "2022-05-27T10:22:20.931780Z",
     "iopub.status.busy": "2022-05-27T10:22:20.931346Z",
     "iopub.status.idle": "2022-05-27T10:22:21.927092Z",
     "shell.execute_reply": "2022-05-27T10:22:21.926362Z",
     "shell.execute_reply.started": "2022-05-27T10:22:20.931650Z"
    },
    "tags": []
   },
   "outputs": [],
   "source": [
    "import numpy as np\n",
    "import matplotlib.pyplot as plt"
   ]
  },
  {
   "cell_type": "code",
   "execution_count": 2,
   "id": "5c0fbe24-2899-4e8f-a16b-bb82e52f9b21",
   "metadata": {
    "execution": {
     "iopub.execute_input": "2022-05-27T10:22:21.928718Z",
     "iopub.status.busy": "2022-05-27T10:22:21.928556Z",
     "iopub.status.idle": "2022-05-27T10:22:21.939189Z",
     "shell.execute_reply": "2022-05-27T10:22:21.938275Z",
     "shell.execute_reply.started": "2022-05-27T10:22:21.928698Z"
    },
    "tags": []
   },
   "outputs": [],
   "source": [
    "# read file\n",
    "file = open('Text/HW1.txt', 'r')\n",
    "data_hw1 = file.read()\n",
    "\n",
    "file = open('Text/HW2.txt', 'r')\n",
    "data_hw2 = file.read()\n",
    "\n",
    "file = open('Text/HW3.txt', 'r')\n",
    "data_hw3 = file.read()\n",
    "\n",
    "\n",
    "file = open('Text/HW4.txt', 'r')\n",
    "data_hw4 = file.read()\n",
    "\n",
    "data = data_hw1 + ' ' +  data_hw2 + ' ' + data_hw3 + ' ' + data_hw4\n",
    "\n",
    "#file = open('Text/HW3.txt', 'r')\n",
    "#data_hw3 = file.read()\n",
    "\n",
    "# data cleaning\n",
    "data = data.lower()\n",
    "\n",
    "letters_remove = ['\\n', '(', ')', ',', '∗', '\"', '-', '−', '[', ']','|','<','>']\n",
    "for letter in letters_remove:\n",
    "    data = data.replace(letter, ' ')\n",
    "\n",
    "# remove some letters because of equations\n",
    "letters_remove = [' e ', ' i ', ' x ', ' y ', ' p ', ' t ', ' n ', ' l ', ' b ', ' c ']\n",
    "for letter in letters_remove:\n",
    "    data = data.replace(letter, ' ')\n",
    "    \n",
    "data = data.replace('.','')\n",
    "\n",
    "word_list = data.split()\n",
    "\n",
    "# counting\n",
    "occurrences = data.count('homework')"
   ]
  },
  {
   "cell_type": "code",
   "execution_count": 3,
   "id": "fe88f41e-a7f0-4520-ae8e-310aa394f91c",
   "metadata": {
    "execution": {
     "iopub.execute_input": "2022-05-27T10:22:21.940299Z",
     "iopub.status.busy": "2022-05-27T10:22:21.940106Z",
     "iopub.status.idle": "2022-05-27T10:22:21.958770Z",
     "shell.execute_reply": "2022-05-27T10:22:21.957842Z",
     "shell.execute_reply.started": "2022-05-27T10:22:21.940279Z"
    },
    "tags": []
   },
   "outputs": [],
   "source": [
    "word_list_unique = []\n",
    "for word in word_list:\n",
    "    if word not in word_list_unique:\n",
    "        word_list_unique.append(word)"
   ]
  },
  {
   "cell_type": "code",
   "execution_count": 4,
   "id": "1fd11195-c282-4672-a1bf-2b896b672408",
   "metadata": {
    "execution": {
     "iopub.execute_input": "2022-05-27T10:22:21.960131Z",
     "iopub.status.busy": "2022-05-27T10:22:21.959911Z",
     "iopub.status.idle": "2022-05-27T10:22:21.987472Z",
     "shell.execute_reply": "2022-05-27T10:22:21.986257Z",
     "shell.execute_reply.started": "2022-05-27T10:22:21.960106Z"
    },
    "tags": []
   },
   "outputs": [],
   "source": [
    "word_count = {}\n",
    "\n",
    "for word in word_list_unique:\n",
    "    word_count[word] = (data.count(word))\n",
    "    \n",
    "# remove some non sense\n",
    "word_count['c'] = 0\n",
    "word_count['i'] = 0\n",
    "word_count['v'] = 0\n",
    "word_count['f'] = 0\n",
    "word_count['p'] = 0\n",
    "word_count['m'] = 0\n",
    "word_count['d'] = 0\n",
    "word_count['h'] = 0\n",
    "word_count['l'] = 0\n",
    "word_count['r'] = 0\n",
    "word_count['n'] = 0 \n",
    "word_count['k'] = 0\n",
    "word_count['1'] = 0\n",
    "word_count['2'] = 0\n",
    "\n",
    "    \n",
    "word_count = {k: v for k, v in sorted(word_count.items(), key=lambda item: item[1])}\n"
   ]
  },
  {
   "cell_type": "code",
   "execution_count": 5,
   "id": "d647475c-6a9d-431a-85e4-e94f7f7a07ef",
   "metadata": {
    "execution": {
     "iopub.execute_input": "2022-05-27T10:22:21.988760Z",
     "iopub.status.busy": "2022-05-27T10:22:21.988588Z",
     "iopub.status.idle": "2022-05-27T10:22:21.997288Z",
     "shell.execute_reply": "2022-05-27T10:22:21.996320Z",
     "shell.execute_reply.started": "2022-05-27T10:22:21.988739Z"
    },
    "tags": []
   },
   "outputs": [
    {
     "data": {
      "text/plain": [
       "dict_keys(['1', 'i', 'f', '2', 'k', 'p', 'r', 'v', 'c', 'n', 'h', 'm', 'l', 'd', 'march', 'off', 'arithmetic', 'higher', 'sums', 'expression', 'pthe', '/i!', 'inverse', 'pn', '5i', 'since', 'absolutely', 'converges', 'infinite', 'indicate', 'amount', 'actually', 'store', 'they', 'closer', 'value?', 'vacca', '1910', 'gerst', '1969', 'log2', '05772156649015', 'appears', 'equations', 'harmonic', 'logarithmic', 'constannumber', 'γ∞', 'nearly', 'every', 'situation', 'often', 'error”', 'ideal', 'behaving', 'distributions', 'poissonian', 'events', 'gaussian', 'related', 'variables', 'hand', 'xmin', 'frequently', 'randomness', 'correlations', 'financial', 'world', 'noises', 'distribution:', 'integer', 'direct', 'expansion', 'definition', 'ln', 'smallest', 'possible', 'derived', 'check', 'produced', 'match', 'subtle', 'additional', 'show', 't1/2', 'slope', 'simulations', 'nice', 'extra', 'visit', 'again', 'trace', 'intersect', 'ifself', 'job', 't1/dw', 'easy', 'complete', 'move', 'left', 'who', 'starts', 'graphing', 'tools', 'represent', 'walker’s', 'trails', '20th', 'could', 'jupyter', 'notebook', 'ipynb', 'gather', 'upload', 'along', 'pdf', 'range', 'resolution', '×', 'marker', 'familiar', 'pm3d', 'encouraged', 'brightness', 'area', '4th', 'runge', 'kutta', 'rk4', 'elsewhere', 'roessler’s', 'bifurcation', 'ynumeric', 'based', 'equillibrium', 'dynamics', 'chemical', 'reaction', 'designed', 'continuous', 'dynamical', 'study', 'behavior', '1976', 'defining', 'follows:', 'dz', 'provides', 'inference', 'locally', 'monotonic', '0=', '2x', 'π2', 'accuracy', 'seems', 'unusual', '5π', '10π', 'varying', 'quasiperiodic', 'increasing', 'curves', 'kinds', 'cycles', 'series', 'yi+1', 'careful', 'consideration', 'relaxation', 'brownian', 'together', 'aggregates', 'bonus', 'triangular', 'help', '400', '600', 'pixels', 'dots', 'style', '15th', 'should', 'contain', 'latexwith', 'rdd', 'describes', 'compared', 'experi', 'mental', 'family', '1986', 'introduced', 'newly', 'arriving', 'more', 'diffusing', 'consists', 'equivalent', 'only', 'nearest', 'considered', 'dropped', 'sticks', 'diffuse', 'smaller', 'chosen', '“realistic”', 'objects', 'mapping', 'six', 'y0', 'x1', 'y1', 'certain', 'xn', 'then', 'gosari', 'instance', 'growing', 'roughness', 'clear', 'important', 'way', 'simpler', 'increase', 'reproduce', 'figure', 'iterates', 'eigenvalues', 'matrix', 'divergent?', 'expressed', 'perform', 'leads', 'confirm', 'law;', 'multiply', 'crawling', 'connection', 'octal', 'hexadecimal', 'languages', 'support', 'oct/hex', 'verification', 'want', 'parse', 'prefer', 'java', 'jsoup', 'urllib', 'beautifulsoup', 'lynx', 'hints', 'because', 'closed', 'wikipedia', 'similar', 'wikis', 'without', 'external', 'far', 'depth', 'pajek', '10000', 'named', 'linguist', 'harvard', 'george', 'kingsley', '1902', '1950', 'observation', 'determined', 'famous', 'english', '423', 'magazine', '245', '412', 'occurrences', '“the”', 'ranks', '15861', '“of”', '7239', '“to”', 'three', '6331', 'etc', 'satisfies', 'physical', '“1”', '0301', 'rather', '011', '1/9', 'might', 'expect', 'were', 'equally', '“d”', 'log10', 'applied', 'dimensionless', 'resented', 'scales', 'text', '29th', 'detailed', 'measuring', '“buffon’s', 'problem”', 'originally', 'posed', 'comte', '1733;', 'made', 'parallel', 'wood', 'onto', 'strips?', 'interacting', '“two', 'freely', 'rotating', 'spins”', 'magnetic', 'moment', 'integral', 'currently', 'widely', 'studies', 'convenience', 'freedom', 'written', 'lies', 'placed', 'π/2', 'l/2', 'dxdθ', 'tπ', 'θ=0', 'x=0', 'empirical', 'arbitrary', 'needles', 'p~1', 'p~2', '␁', '~1·m', '~2+', 'terms', 'polar', 'cordinates', 'jm1', 'p21φ', 'p22φ', 'proportional', 'boltzmann', 'factor', 'desired', 'βh', '···', 'measures', 'numerically', 'let2', 'β/ij', 'simplicity', '“probability', 'h”', 'deviation', 'difference', 'ising', 'dimsional', 'lateral', 'l2', 'within', 'identical', '1}', 'occupied', 'interacts', 'jsi', '1/β', 'overall', 'reads', '{s1', '{n', 'magnetization', 'follows;', 'm=', 'e=', '2n', 'hei2', 'angled', 'bracket', 'weight', 'divided', 'compensate', 'double', 'naive', 'full', 'takes', 'lots', 'much', 'irrelevant', 'probable;', 'configurations', 'construct', 'samples', 'procedure', 'setup', 'βj', 'basic', 'suitable', 'selection', 'around', 'allocate', 'assigning', 'up/down', 'collecting', 'flip', 'metropolis', 'gibbs', 'observables', 'needs', '“stabilized”', 'burn', 'stationary', 'upper', 'calculation', '2l', '3l', 'largest', 'domain', 'formed?', 'transition?', 'characteristics?', 'critical', 'exponents', 'characteristcs', 'approach', 'hexagonal', 'honeycomb', 'structure?', 'june', '23:59:59pm', 'included', 'ta’s', 'greatly', 'thankful', 'students', 'wish', 'good', 'project', 'finals', 'computer', 'functions', 'taylor', 'approximation', 'formulae', 'however', 'finite', 'digits', 'explain', 'k=1', 'algorithms', 'convergence', 'mascheroni', 'sequence', 'βn', 'called', '“the', 'generating', 'most', 'space', 'well', 'probabilistic', 'accumulated', 'involving', 'long', 'obeys', 'output', 'means', 'generate', 'distance', 'vs', 'being', '1/2', 'assume', 'cannot', 'avoiding', 'saw', 'dw', 'square', 'down', 'right', 'after', 'april', 'python', 'latex', 'graphs', 'drawn', 'pyplot', 'differential', 'plane', '640', 'color', 'heat', 'iteration', 'boundary', 'results', 'attractor', 'integration', 'chaotic', 'dx', 'faster', 'until', 'obtained', 'studied', 'while', 'several', 'those', 'must', 'take', 'care', 'needed', 'aggregation', 'particles', 'df', 'repeat', 'better', 'measurement', 'box', 'growth', 'rough', 'likely', 'columns', 'top', 'height', 'describe', 'starting', 'paths', 'enough', 'beautiful', 'known', 'scaling', 'speed', 'determine', 'diverge', 'ensure', 'learned', 'general', 'characteristic', 'fact', 'specific', 'still', 'holds', 'url', 'event', '50', 'total', 'appearing', 'states', '1/d', 'changes', 'buffon’s', 'drop', 'between', 'very', 'early', 'angular', 'corresponding', 'does', 'standard', '2i', 'p1φ', 'p2φ', 'sin2', 'markov', 'chain', 'mcmc', 'angle', 'strength', 'j∈n', 'main', 'observable', 'i2', 'typical', 'ensembles', 'acceptance', 'accepted', 'current', 'lines', '5th', 'introduction', 'computational', 'jeong†', '30', 'errors', 'non', 'polynomial', 'involves', 'i=0', 'i!', '≈', 'both', 'why', 'γn', 'euler', 'other', '∞', 'used', 'various', 'real', 'derive', 'variable', 'drawing', 'original', 'suggest', 'over', 'self', 'steps', '1000', 'trajectory', 'dimensional', 'equal', 'pm', 'answers', 'including', 'diagrams', 'either', 'file', 'into', 'board', 'klms', 'personally', 'solve', '05', '•', 'attraction', 'appropriate', 'map', 'single', 'linear', 'stable', 'cycle', 'motion', 'quasiperiod', 'tips', 'therefore', 'defined', 'larger', 'algorithm', 'when', 'deposition', 'sites', 'particle', 'width', 'suppose', 'path', 'choose', 'hint', 'class', 'network', 'scale', 'select', 'verify', 'decimal', 'observe', 'too', 'express', 'occurrence', 'close', 'articles', 'first', 'change', 'book', 'buffon', 'lie', 'across', 'dynamic', 'interaction', 'monte', 'carlo', 'hamiltonian', 'estimate', 'φ2', 'p1θ', 'p2θ', 'm2', 'm1', '~1', '{', 'energy', 'sj', '}', 'cv', '8', 'now', 'choice', 'multiple', 'seungwoong', 'ph413ta', 'systems', 'lab', 'hawoong', 'dated:', '2022', 'values', 'absolute', 'exact', 'floor', 'iii', 'skyround2002@gmailcom', 'hjeong@kaistedu', 'resulting', 'curve', 'get', 'let', 'consider', 'notes', 'sun', '23:59:59', 'discussions', 'submit', 'codes', 'via', 'initial', 'condition', 'mark', 'numerical', 'roessler', 'cos', 'x0', 'iterate', 'fixed', 'constants', 'converge', 'limited', 'maximum', 'relation', 'periodic', 'process', 'make', 'counting', 'data', 'surface', 'actual', 'less', 'randomly', 'follows', 'position', 'appear', 'simulation', 'sample', 'graph', 'rank', 'times', 'length', 'strips', 'φ1', 'computation', 'define', 'tc', 'character', 'answer', 'complex', 'compare', 'following', 'such', 'α', 'term', '!', 'obey', 'there', 'points', 'origin', 'write', 'code', 'basin', '15', 'geometry', 'than', 'yi', 'dla', 'cluster', 'state', 'transformation', 'coefficients', 'structure', 'what', 'see', 'collect', 'its', 'zipf’s', 'list', 'frequency', 'words', 'count', 'digit', 'θ2', 'phase', 'parameters', '·', 'transition', 'temperature', 'ensemble', 'discussion', 'statistical', 'round', 'methods', 'due', 'γ', 'power', '∼', 'where', 'exponent', 'step', 'average', 'dy', 'newton’s', 'fractal', 'also', 'limit', 'local', 'model', 'column', 'pages', 'diagram', 'links', 'transform', 'try', 'π', 'p1', 'θ1', '7', 'near', 'ph413', 'problems', 'many', 'sum', 'ii', 'constant', 'some', '∈', '†', 'log', 'measure', 'walker', 'discuss', 'lattice', 'py', 'mail', 'period', 'obtain', 'parameter', 'table', 'web', 'zipf', '19', 'spins', 'site', 'hm', 'configuration', 'department', 'daejeon', 'korea', 'two', 'which', 'has', 'from', 'time', 'above', 'diffusion', 'please', 'zip', 'jeong', 'dt', 'solution', 'size', '10', 'neighbor', 'line', 'β', 'page', 'p2', 'order', 'example', 'degree', 'find', 'equation', 'point', 'may', 'own', 'benford’s', 'meter', 'needle', 'same', 'by', 'using', 'numbers', 'given', 'result', '20', 'yn', '~', 'homework', 'different', 'formula', 'function', 'can', 'probability', 'report', 'about', 'set', '02', 'fig', '6', 'kaist', 'have', 'part', 'note', 'walk', 'dimension', 'one', 'differ', 'vi', '/', 'error', 'calculate', 'ay', '+', 'need', 'ratio', 'spin', 'physics', 'value', 'distribution', 'questions', 'draw', 'any', 'up', 'system', 'rep', 'plot', 'but', 'ie', 'method', 'are', 'eg', 'this', 'use', 'question', 'θ', 'per', 'each', 'law', 'all', 'pi', '9', 'problem', 'will', 'iv', 'not', 'that', '4', 'random', 'z', 'sin', 'your', 'number', ':', '5', 'we', 'do', '3', 'so', 'j', 'ex', '=', 'if', 'with', 'ith', 'you', '0', 'for', 'be', 'x', 'de', 'as', 'ta', 'ha', 'and', 'to', 'of', 'si', 'is', 'it', 'the', 'at', 'an', 'he', 'or', 'in', 'on', 'a'])"
      ]
     },
     "execution_count": 5,
     "metadata": {},
     "output_type": "execute_result"
    }
   ],
   "source": [
    "word_count.keys()"
   ]
  },
  {
   "cell_type": "code",
   "execution_count": 6,
   "id": "7a19be1e-b000-4b47-a3af-f2e59d02600e",
   "metadata": {
    "execution": {
     "iopub.execute_input": "2022-05-27T10:22:21.999399Z",
     "iopub.status.busy": "2022-05-27T10:22:21.999208Z",
     "iopub.status.idle": "2022-05-27T10:22:22.003711Z",
     "shell.execute_reply": "2022-05-27T10:22:22.002852Z",
     "shell.execute_reply.started": "2022-05-27T10:22:21.999377Z"
    },
    "tags": []
   },
   "outputs": [],
   "source": [
    "accur = np.array(list(word_count.values()))\n",
    "\n",
    "top_ten = accur[-50:]"
   ]
  },
  {
   "cell_type": "code",
   "execution_count": 7,
   "id": "5cf03e5b-c556-46a7-b714-4256546ba966",
   "metadata": {
    "execution": {
     "iopub.execute_input": "2022-05-27T10:22:22.006155Z",
     "iopub.status.busy": "2022-05-27T10:22:22.005756Z",
     "iopub.status.idle": "2022-05-27T10:22:22.011122Z",
     "shell.execute_reply": "2022-05-27T10:22:22.010078Z",
     "shell.execute_reply.started": "2022-05-27T10:22:22.006127Z"
    },
    "tags": []
   },
   "outputs": [],
   "source": [
    "x = np.arange(1, len(top_ten) + 1)\n",
    "x = np.flip(x)"
   ]
  },
  {
   "cell_type": "code",
   "execution_count": 8,
   "id": "1913a64a-f34f-4728-bd75-b8ea03b50e48",
   "metadata": {
    "execution": {
     "iopub.execute_input": "2022-05-27T10:22:22.012281Z",
     "iopub.status.busy": "2022-05-27T10:22:22.012119Z",
     "iopub.status.idle": "2022-05-27T10:22:22.018095Z",
     "shell.execute_reply": "2022-05-27T10:22:22.017196Z",
     "shell.execute_reply.started": "2022-05-27T10:22:22.012260Z"
    },
    "tags": []
   },
   "outputs": [],
   "source": [
    "start_val = top_ten[-1]"
   ]
  },
  {
   "cell_type": "code",
   "execution_count": 9,
   "id": "3edb9e9d-a5b1-45be-877f-cb420fc91110",
   "metadata": {
    "execution": {
     "iopub.execute_input": "2022-05-27T10:22:22.019440Z",
     "iopub.status.busy": "2022-05-27T10:22:22.019214Z",
     "iopub.status.idle": "2022-05-27T10:22:23.064100Z",
     "shell.execute_reply": "2022-05-27T10:22:23.063326Z",
     "shell.execute_reply.started": "2022-05-27T10:22:22.019416Z"
    },
    "tags": []
   },
   "outputs": [
    {
     "data": {
      "image/png": "[encoded data removed]",
      "text/plain": [
       "<Figure size 432x288 with 1 Axes>"
      ]
     },
     "metadata": {
      "needs_background": "light"
     },
     "output_type": "display_data"
    }
   ],
   "source": [
    "plt.scatter(x, top_ten,label='Measured appearences')\n",
    "plt.scatter(x, start_val / x, label=f'Theoretical Curve for starting value {start_val}')\n",
    "plt.legend()\n",
    "plt.yscale('log')\n",
    "plt.ylabel('# of appearances')\n",
    "plt.xlabel('Degree of word')\n",
    "plt.tight_layout()\n",
    "plt.savefig('build/Ex5.pdf')"
   ]
  }
 ],
 "metadata": {
  "kernelspec": {
   "display_name": "Python 3 (ipykernel)",
   "language": "python",
   "name": "python3"
  },
  "language_info": {
   "codemirror_mode": {
    "name": "ipython",
    "version": 3
   },
   "file_extension": ".py",
   "mimetype": "text/x-python",
   "name": "python",
   "nbconvert_exporter": "python",
   "pygments_lexer": "ipython3",
   "version": "3.10.4"
  }
 },
 "nbformat": 4,
 "nbformat_minor": 5
}
