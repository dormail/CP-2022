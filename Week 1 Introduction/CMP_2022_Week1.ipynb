{
 "cells": [
  {
   "cell_type": "markdown",
   "metadata": {},
   "source": [
    "# PH413 Computation Physics - Practice [Week 1]"
   ]
  },
  {
   "cell_type": "markdown",
   "metadata": {},
   "source": [
    "## 1. Jupyter Notebook Introduction"
   ]
  },
  {
   "cell_type": "markdown",
   "metadata": {},
   "source": [
    "## 1.1. What is Jupyter Notebook?"
   ]
  },
  {
   "cell_type": "markdown",
   "metadata": {},
   "source": [
    "Welcome to Jupyter Notebook, the easiest playground for python! (and many others.)\n",
    "Notebook is a useful framework that enables us to write down the code, examine it in real time, and share with others.\n",
    "\n",
    "* Every notebook has two things :\n",
    "    1. **Kernel** : Which is a engine for compiling your code in cells. In this notebook, Python3 in Anaconda would be the kernel.\n",
    "    2. **Cells** : Small code blocks that can be compiled individually. You can execute cell in any order!"
   ]
  },
  {
   "cell_type": "markdown",
   "metadata": {},
   "source": [
    "## 1.2. Modes and Cell types"
   ]
  },
  {
   "cell_type": "markdown",
   "metadata": {},
   "source": [
    "* In Jupyter Notebook, you can switch into two different modes.\n",
    "\n",
    "    1. **Command mode** : You can move around cell by cell, and execute commands applying to cells.\n",
    "    2. **Edit mode** : You can edit your cell content.\n",
    "\n",
    "\n",
    "* Press **Enter** to enable Edit mode, and press **ESC** to enable Command mode.\n"
   ]
  },
  {
   "cell_type": "markdown",
   "metadata": {},
   "source": [
    "* Also, there are (basically) 2 cell types :\n",
    "\n",
    "    1. **Code Cell** : Executing these will regard your cell content as a (python) code lines and compile them.\n",
    "    2. **Markdown Cell** : Similiar as HTML and LaTex, you can write down a code for you text generation.\n",
    "\n",
    "\n",
    "* In command mode, you can change your cell type by pressing **m** for markdown cell and **z** for code cell."
   ]
  },
  {
   "cell_type": "markdown",
   "metadata": {},
   "source": [
    "* Jupyter notebook markdown grammar is simillar to other markdowns, such as Wikipedia grammar.\n",
    "\n",
    "    * *You can make your sentence Italic,*\n",
    "\n",
    "    * **make it bold,**\n",
    "\n",
    "    * ~~or cancel your line~~\n",
    "\n",
    "\n",
    "* You can learn more about markdowns in [Here](https://github.com/adam-p/markdown-here/wiki/Markdown-Here-Cheatsheet)"
   ]
  },
  {
   "cell_type": "markdown",
   "metadata": {},
   "source": [
    "## 1.3. Basic shortcuts"
   ]
  },
  {
   "cell_type": "markdown",
   "metadata": {},
   "source": [
    "* **Command Mode**\n",
    "    * Keyboard Arrows : Move your current cell up and down\n",
    "    * A : create new cell above your current cell\n",
    "    * B : create new cell below your current cell\n",
    "    * DD : delete current cell\n",
    "    * Z : undo cell deletion\n",
    "    * C : copy cell\n",
    "    * V : paste cell below\n",
    "    * H : open the Keyboard shortcut help menu\n",
    "    * Shift + Arrows : select multiple cells (You can do this by mouse cursor)\n",
    "    * Shift + M : merge selected cells\n",
    "\n",
    "\n",
    "* **Edit Mode**\n",
    "\n",
    "    * Shift + Tab : Tooltips\n",
    "    * Shift + Enter : Execute cell\n",
    "    * Ctrl + Enter : Execute selected cells\n",
    "    * Ctrl + Shift + - : split cell at your cursor"
   ]
  },
  {
   "cell_type": "markdown",
   "metadata": {},
   "source": [
    "## 2. Python Introduction"
   ]
  },
  {
   "cell_type": "code",
   "execution_count": null,
   "metadata": {
    "scrolled": true
   },
   "outputs": [],
   "source": [
    "import this"
   ]
  },
  {
   "cell_type": "markdown",
   "metadata": {},
   "source": [
    "### 2.1. Import"
   ]
  },
  {
   "cell_type": "markdown",
   "metadata": {},
   "source": [
    "* **import** : call your pre-installed library \n",
    "* Important libraries :\n",
    "\n",
    "    1. numPy\n",
    "    2. sciPy\n",
    "    3. matplotlib.pyplot\n",
    "    4. collections, time, itertools, system.... \n",
    "\n",
    "\n",
    "* Basically (99% of the case), you'll be able to find python library that contains the algorithm you wanted to implement.\n",
    "\n",
    "* Do not hesitate to search the proper library and methods to accomplish your task!\n",
    "\n",
    "* This doesn't mean that you can simply copy-paste a source code, if your task is implementing those algorithm by your hand!\n",
    "\n",
    "    * It is quite easy to figure out whether your code is written by yourself, or some other Python experts... \n",
    "    * Especially your not very good at Python. (and copy other's code in the first place.)"
   ]
  },
  {
   "cell_type": "code",
   "execution_count": 2,
   "metadata": {},
   "outputs": [],
   "source": [
    "import numpy as np ## use the command 'as' to shorten your library name"
   ]
  },
  {
   "cell_type": "markdown",
   "metadata": {},
   "source": [
    "* After you import your library, you can see the tooltips by pressing Shit + Tab, which is very useful to study.\n",
    "* Most of frequently used library has online documentary. For example, [numpy and scipy document](https://docs.scipy.org/doc/)."
   ]
  },
  {
   "cell_type": "markdown",
   "metadata": {},
   "source": [
    "**★ Task 1 ★**\n",
    "* Try to find a method in numpy that...\n",
    "\n",
    "    1. calculate absolute value\n",
    "    2. return uniform random value from [0,1)\n",
    "    3. calculate a correlation coefficitent of two vectors"
   ]
  },
  {
   "cell_type": "code",
   "execution_count": 42,
   "metadata": {},
   "outputs": [
    {
     "name": "stdout",
     "output_type": "stream",
     "text": [
      "[[1.         0.00682017]\n",
      " [0.00682017 1.        ]]\n"
     ]
    }
   ],
   "source": [
    "import numpy as np\n",
    "\n",
    "# 1 \n",
    "a = -3\n",
    "a_abs = np.abs(a)\n",
    "\n",
    "# 2\n",
    "# https://numpy.org/doc/stable/reference/random/generated/numpy.random.Generator.random.html#numpy.random.Generator.random\n",
    "rng = np.random.default_rng()\n",
    "random_number = rng.random()\n",
    "\n",
    "# \n",
    "n = 100000\n",
    "a, b = rng.random((n,)), rng.random((n,))\n",
    "\n",
    "print(np.corrcoef(a,b))"
   ]
  },
  {
   "cell_type": "markdown",
   "metadata": {},
   "source": [
    "### 2.2. Basics types and operations"
   ]
  },
  {
   "cell_type": "markdown",
   "metadata": {},
   "source": [
    "* In python, you don't have to assign a type of variables when you declare them. (\"Smart\") Python automatically assign them for you.\n",
    "    * Be careful, although you don't assign them manually, variables cerntainly have their type.\n",
    "    * You can find out the type of variables by 'type(x)'.\n",
    "    \n",
    "* In order to print out something, use the 'print()'.\n",
    "\n",
    "* Basic arithmetics are quite similar to any other programming languages. Watch out the types, though!\n",
    "\n",
    "* Python list index starts at 0.\n",
    "\n",
    "* Python doesn't have end marker such as semicolon, but indentation is critical.\n",
    "    * It will cause error if your indentation isn't correct."
   ]
  },
  {
   "cell_type": "code",
   "execution_count": null,
   "metadata": {},
   "outputs": [],
   "source": [
    "a = 2\n",
    "b = 3\n",
    "print(a+b)\n",
    "print(a-b)\n",
    "print(a*b)\n",
    "print(a/b)\n",
    "print(a%b)"
   ]
  },
  {
   "cell_type": "code",
   "execution_count": null,
   "metadata": {},
   "outputs": [],
   "source": [
    "print(a**b)"
   ]
  },
  {
   "cell_type": "markdown",
   "metadata": {},
   "source": [
    "* The simplest datastructure in python is list.\n",
    "    * ```my_list = [1,2,3]```\n",
    "* You can access to the list by using [].\n",
    "    * ```my_list[0] = 4```\n",
    "* List has its own operations, such as addition.\n",
    "    * ```[1,2]+[3,4] = [1,2,3,4]```\n",
    "\n",
    "* Strings can be declared by ' '.\n",
    "    * my_word = 'hello!'\n",
    "\n",
    "* Strings in Python are regarded as list. You can concatenate strings by simply adding them!"
   ]
  },
  {
   "cell_type": "code",
   "execution_count": null,
   "metadata": {},
   "outputs": [],
   "source": [
    "a = 1\n",
    "print(a)\n",
    "print(type(a))\n",
    "\n",
    "b = 2.0\n",
    "print(b)\n",
    "print(type(b))"
   ]
  },
  {
   "cell_type": "code",
   "execution_count": null,
   "metadata": {},
   "outputs": [],
   "source": [
    "c = a+b\n",
    "print(c)\n",
    "print(type(c))"
   ]
  },
  {
   "cell_type": "code",
   "execution_count": null,
   "metadata": {
    "scrolled": true
   },
   "outputs": [],
   "source": [
    "print(int(c))"
   ]
  },
  {
   "cell_type": "code",
   "execution_count": null,
   "metadata": {},
   "outputs": [],
   "source": [
    "x = [1,2,3]\n",
    "x.append(4)\n",
    "print(x)\n",
    "x.pop()\n",
    "print(x)\n",
    "y = [4,5,6]\n",
    "print(x+y)"
   ]
  },
  {
   "cell_type": "markdown",
   "metadata": {},
   "source": [
    "* Numpy also has list-like structures called array. You can assign it by feeding python list into np.array().\n",
    "    * ``` a = np.array([1,2,3])```\n",
    "* Python list and Numpy arrays are somewhat similar, but the inherent operations are vastly different.\n",
    "* For example, try to add two numpy arrays with same size."
   ]
  },
  {
   "cell_type": "code",
   "execution_count": 51,
   "metadata": {},
   "outputs": [
    {
     "name": "stdout",
     "output_type": "stream",
     "text": [
      "[5 7 9]\n"
     ]
    }
   ],
   "source": [
    "x = np.array([1,2,3])\n",
    "y = np.array([4,5,6])\n",
    "print(x+y)"
   ]
  },
  {
   "cell_type": "markdown",
   "metadata": {},
   "source": [
    "** ★ Task 2 ★ **\n",
    "* Assign A = 'Hello', B = 'world!'. By using these variables, print out 'Hello, world!' exactly.\n",
    "* Assing A = 12345, B = 99999. Try to print out 'A + B = (the value of A+B)'."
   ]
  },
  {
   "cell_type": "code",
   "execution_count": 43,
   "metadata": {},
   "outputs": [
    {
     "name": "stdout",
     "output_type": "stream",
     "text": [
      "Hello world!\n"
     ]
    }
   ],
   "source": [
    "A = 'Hello'\n",
    "B = 'world!'\n",
    "print(A+\" \"+B)"
   ]
  },
  {
   "cell_type": "code",
   "execution_count": 44,
   "metadata": {},
   "outputs": [
    {
     "name": "stdout",
     "output_type": "stream",
     "text": [
      "A + B = 112344\n"
     ]
    }
   ],
   "source": [
    "A = 12345\n",
    "B = 99999\n",
    "print('A + B = '+ str(A + B)) #??"
   ]
  },
  {
   "cell_type": "markdown",
   "metadata": {},
   "source": [
    "### 2.3. Basic statements"
   ]
  },
  {
   "cell_type": "markdown",
   "metadata": {},
   "source": [
    "* if statement: ``` if a < b : print (a)```\n",
    "\n",
    "* for statement: ``` for i in range(10) : print(i)```   "
   ]
  },
  {
   "cell_type": "code",
   "execution_count": null,
   "metadata": {},
   "outputs": [],
   "source": [
    "if 1 < 2:\n",
    "    print('yeah')"
   ]
  },
  {
   "cell_type": "code",
   "execution_count": null,
   "metadata": {},
   "outputs": [],
   "source": [
    "for i in range(10):\n",
    "    if i%2 == 0:\n",
    "        print(i)"
   ]
  },
  {
   "cell_type": "markdown",
   "metadata": {},
   "source": [
    "**★ Task 3 ★**\n",
    "* Traiditional FizzBuzz Problem \n",
    "    * Write a program that prints the numbers from 1 to 20. \n",
    "    * But for multiples of three print “Fizz” instead of the number and for the multiples of five print “Buzz”. \n",
    "    * For numbers which are multiples of both three and five print “FizzBuzz”."
   ]
  },
  {
   "cell_type": "code",
   "execution_count": 48,
   "metadata": {},
   "outputs": [
    {
     "name": "stdout",
     "output_type": "stream",
     "text": [
      "1\n",
      "2\n",
      "Fizz\n",
      "4\n",
      "Buzz\n",
      "Fizz\n",
      "7\n",
      "8\n",
      "Fizz\n",
      "Buzz\n",
      "11\n",
      "Fizz\n",
      "13\n",
      "14\n",
      "FizzBuzz\n",
      "16\n",
      "17\n",
      "Fizz\n",
      "19\n"
     ]
    }
   ],
   "source": [
    "for i in range(1,20):\n",
    "    output = ''\n",
    "    if(i % 3 == 0):\n",
    "        output = 'Fizz'\n",
    "    if(i % 5 == 0):\n",
    "        output = output + 'Buzz'\n",
    "    if output == '':\n",
    "        print(i)\n",
    "    else:\n",
    "        print(output)\n",
    "    "
   ]
  },
  {
   "cell_type": "markdown",
   "metadata": {},
   "source": [
    "## 1. Python Introduction (2)"
   ]
  },
  {
   "cell_type": "markdown",
   "metadata": {},
   "source": [
    "## 1.1. Useful data structures"
   ]
  },
  {
   "cell_type": "markdown",
   "metadata": {},
   "source": [
    "### 1.1.1 Dictionary"
   ]
  },
  {
   "cell_type": "markdown",
   "metadata": {},
   "source": [
    "** What is Dictionary? **"
   ]
  },
  {
   "cell_type": "markdown",
   "metadata": {},
   "source": [
    "* In Python, there is no 'switch-case' statement, which is different from C++ and Java.\n",
    "    * Then, how we implement such program in Python? (Is it possible to mimic our proffessor's solution?)\n",
    "    \n",
    "    \n",
    "* Python has a brilliant data structure called  'Dictionary'. Which is simply a collection of key-value pairs.\n",
    "    * When you find a word in dictionary, you simply access with the key (word itself), and then get the value (description).\n",
    "    * Similarly, you can feed dictionary a key, and it will return corresponding value.\n"
   ]
  },
  {
   "cell_type": "markdown",
   "metadata": {},
   "source": [
    "** Usage and methods **"
   ]
  },
  {
   "cell_type": "markdown",
   "metadata": {},
   "source": [
    "* You can assign a dictionary as follows.\n",
    "```python\n",
    "dic = {'name':'John', 'phone':'01073792589', 'birth': '940912'}\n",
    "```\n",
    "    \n",
    "    \n",
    "* Same as accessing list element by its index, you can access dictionary value by key.\n",
    "    * `dic['name']`\n",
    "    \n",
    "    \n",
    "* You can add or delete dictionary elements.\n",
    "    * `dic['home'] = 'Seoul'`\n",
    "    * `del 'dic['phone']`\n",
    "    \n",
    "    \n",
    "* Keys and values can be extracted via following methods.\n",
    "    * `dic.keys()`\n",
    "    * `dic.values()`\n",
    "    * `dic.items()`\n",
    "\n",
    "\n",
    "* Easy way to identify whether the dictionary contains a specific key or not.\n",
    "    * `'birth' in dic`"
   ]
  },
  {
   "cell_type": "markdown",
   "metadata": {},
   "source": [
    "### 1.1.2 Tuple"
   ]
  },
  {
   "cell_type": "markdown",
   "metadata": {},
   "source": [
    "** What is tuple? **"
   ]
  },
  {
   "cell_type": "markdown",
   "metadata": {},
   "source": [
    "* Tuple is a list-like data structure. You can do almost same operations to tuple (concatenate, indexing...) as list.\n",
    "    * Tuple is 'immutable', while list and dictionary is 'mutable'. \n",
    "    * Basically, you cannot change the element of tuple once you assign it.\n",
    "    * This concept is connected to 'Call by value' vs. 'Call by reference'.\n",
    "    * Method 'copy.deepcopy' can be useful if you're copying mutable object.\n",
    "    \n",
    "\n",
    "* Tuple can be declared as follows.\n",
    "```python\n",
    "tuple = (1,2,3)\n",
    "```"
   ]
  },
  {
   "cell_type": "markdown",
   "metadata": {},
   "source": [
    "** ★ Task 1 ★ **\n",
    "\n",
    "* [1] Make a Dictionary 'Professor', which gives [0, 1, 2] → [1, 2, 0].\n",
    "\n",
    "\n",
    "* [2] (Optional) Make a Dictionary 'notProfessor', which gives [0, 1, 2, ... ,98, 99, 100] → [ 1, 2, 3, .... 99, 100, 0]"
   ]
  },
  {
   "cell_type": "code",
   "execution_count": 49,
   "metadata": {},
   "outputs": [],
   "source": [
    "# Task 1 Answer #\n",
    "\n",
    "# [1] #\n",
    "Professor = {0 : 1, 1 : 2, 2 : 0}\n",
    "\n",
    "# [2] #\n",
    "notProfessor = {}\n",
    "for i in range(100):\n",
    "    notProfessor[i] = (i+1)%100"
   ]
  },
  {
   "cell_type": "code",
   "execution_count": 50,
   "metadata": {},
   "outputs": [
    {
     "data": {
      "text/plain": [
       "[0, 1, 2, 3, 4, 5, 6, 7, 8, 9]"
      ]
     },
     "execution_count": 50,
     "metadata": {},
     "output_type": "execute_result"
    }
   ],
   "source": [
    "list(range(10))"
   ]
  },
  {
   "cell_type": "markdown",
   "metadata": {},
   "source": [
    "## 1.2. Methods"
   ]
  },
  {
   "cell_type": "markdown",
   "metadata": {},
   "source": [
    "* Python functions (method) have really simple structure.\n",
    "```python\n",
    "def function_name(arguments):\n",
    "    return output\n",
    "```\n",
    " \n",
    "* Basic addition can be written as follows. (Re-invent the wheel!)\n",
    "``` python\n",
    "def sum(a, b):\n",
    "    return a+b\n",
    "```\n",
    "\n",
    "* If you want to get a unfixed numbers and types of arguments, there are two ways.\n",
    "    * `def sum(*args)` : arguments automatically becomes tuple\n",
    "        * `method(1,2,3,4...)`\n",
    "    * `def sum(**kwargs)` : arguments automatically becomes dictionary.\n",
    "        * `method(number = 1, color = 'blue')`\n"
   ]
  },
  {
   "cell_type": "code",
   "execution_count": null,
   "metadata": {},
   "outputs": [],
   "source": [
    "def sum(a,b):\n",
    "    return a+b"
   ]
  },
  {
   "cell_type": "code",
   "execution_count": null,
   "metadata": {},
   "outputs": [],
   "source": [
    "sum('3','5')"
   ]
  },
  {
   "cell_type": "markdown",
   "metadata": {},
   "source": [
    "**★ Task 2 ★**\n",
    "\n",
    "* [1] Define a method 'myMethod', which takes one string and two integers as arguments. If the string is 'sum', return the value which is an addition of two integers. If the string is 'mul', return the value which is an multiplication of two integers. If the string is neither 'sum' nor 'mul', print out 'I don't understand'.\n",
    "    * HINT : Use if-elif-else statement and '==' to compare the objects.\n",
    "    \n",
    "    \n",
    "* [2] (Optional) Expand pervious myMethod to 'myMethod_upgrade', which can take unfixed number of integers."
   ]
  },
  {
   "cell_type": "code",
   "execution_count": 59,
   "metadata": {},
   "outputs": [],
   "source": [
    "import numpy as np\n",
    "\n",
    "# Task 2 Answer #\n",
    "def myMethod(string, x, y):\n",
    "    if string == 'sum':\n",
    "        return x + y\n",
    "    elif string == 'mul':\n",
    "        return x * y\n",
    "    print('I don\\'t understand')\n",
    "    \n",
    "# https://www.tutorialspoint.com/how-to-write-functions-in-python-that-accept-any-number-of-arguments\n",
    "# *x is a unfixed amount of arguments and can be treated as a sequence afterwards\n",
    "def myMethod_upgrad(string, *x):\n",
    "    if string == 'sum':\n",
    "        return sum(x)\n",
    "    elif string == 'mul':\n",
    "        return np.prod(x)\n",
    "    print('I don\\'t understand')"
   ]
  },
  {
   "cell_type": "markdown",
   "metadata": {},
   "source": [
    "## 1.3. File I/O"
   ]
  },
  {
   "cell_type": "markdown",
   "metadata": {},
   "source": [
    "* In Python, basic file input/output is super simple.\n",
    "```python\n",
    "f = open(\"newfile.txt\", 'w')\n",
    "f.close()\n",
    "```\n",
    "<img src=\"attachment:image.png\" width=\"500\" align ='left'>\n"
   ]
  },
  {
   "cell_type": "markdown",
   "metadata": {},
   "source": [
    "* Use 'write' to write down the data. (It should be string type.)\n",
    "```python\n",
    "f = open(\"C:/newfile.txt\", 'w')\n",
    "for i in range(1, 11):\n",
    "    data = \"Line number %d is written.\\n\" % i\n",
    "    f.write(data)\n",
    "f.close()\n",
    "```\n",
    "\n",
    "* You can read out external file by various methods. One of them is 'readlines'.\n",
    "    * It returns the list of line-seperated text.\n",
    "```python\n",
    "f = open(\"C:/newfile.txt\", 'r')\n",
    "lines = f.readlines()\n",
    "for line in lines:\n",
    "    print(line)\n",
    "f.close()\n",
    "```\n",
    "\n",
    "* The 'with' statement is convenient in many cases, since the scope is limited to single clause. You don't need to close the file manually. \n",
    "```python\n",
    "with open(\"newfile.txt\", \"w\") as f:\n",
    "    f.write(\"Life is too short, you need python\")\n",
    "```"
   ]
  },
  {
   "cell_type": "markdown",
   "metadata": {},
   "source": [
    "** ★ Task 3 ★ **\n",
    "\n",
    "* [1] Make a file 'data.txt' with 100 lines. You have to write down n-th even number at n-th line. (Starting from 2)\n",
    "\n",
    "\n",
    "* [2] Write a code that reads 'data.txt', calculate the ratio of two consecutive number, and write down those 99 ratios to 'result.txt'."
   ]
  },
  {
   "cell_type": "code",
   "execution_count": 94,
   "metadata": {
    "scrolled": true
   },
   "outputs": [],
   "source": [
    "# Task 3 Answer #\n",
    "with open(\"data.txt\", \"w\") as f:\n",
    "    for i in range(2,102):\n",
    "        f.write(str(i))\n",
    "        f.write('\\n')\n",
    "        \n",
    "with open(\"data.txt\", \"r\") as f:\n",
    "    lines = f.readlines()\n",
    "    lines_int = np.array([])\n",
    "    for line in lines:\n",
    "        x = int(line)\n",
    "        lines_int = np.append(lines_int, x)\n",
    "\n",
    "with open(\"result.txt\", \"w\") as f:\n",
    "    for i in range(len(lines_int) - 1):\n",
    "        f.write(str(float(lines_int[i+1]) / float(lines_int[i])))\n",
    "        f.write('\\n')\n"
   ]
  },
  {
   "cell_type": "markdown",
   "metadata": {},
   "source": [
    "## 1.4. Class"
   ]
  },
  {
   "cell_type": "markdown",
   "metadata": {},
   "source": [
    "* Python is a representative of programming paradigm called 'Object-Oriented Programming'.\n",
    "    * If you are interested with programming paradigm, ask to your CS-major friend.\n",
    "    \n",
    "    \n",
    "* One of the most prominent features of OOP is '**class**'.\n",
    "    * It is impossible to cover all of the concepts around class in this class :D\n",
    " \n",
    " \n",
    "* Class is a simple yet powerful concept. Basically, it is a mold for specific type of object which we can define freely.\n",
    "\n",
    "```python\n",
    "def student():\n",
    "    def __init__(self, name, age):\n",
    "        self.name = name\n",
    "        self.age = age\n",
    "    \n",
    "    def introduce(self):\n",
    "        print('My name is ' + str(name) + ', I am ' + str(age) + ' years old')\n",
    "          \n",
    "    def birth_year(self, this_year):\n",
    "        return this_year-age\n",
    "\n",
    "```\n",
    "\n",
    "* After defining a class, you can make a instance of that class.\n",
    "```python\n",
    "a = student('Sarah', 21)\n",
    "b = student('Faker', 23)\n",
    "```"
   ]
  },
  {
   "cell_type": "markdown",
   "metadata": {},
   "source": [
    "## 2. Pyplot Introduction (1)"
   ]
  },
  {
   "cell_type": "markdown",
   "metadata": {},
   "source": [
    "## 2.1. What is Pyplot?"
   ]
  },
  {
   "cell_type": "markdown",
   "metadata": {},
   "source": [
    "* Pyplot is a submodule of matplotlib, which is a python library to plot a (good-looking) figure.\n",
    "\n",
    "\n",
    "* We can use matlab, gnuplot, or other graphic tools. But, use pyplot could be the best choice since we are using Jupyter Notebook with Python kernel. We can see the output of pyplot directly via output cells."
   ]
  },
  {
   "cell_type": "markdown",
   "metadata": {},
   "source": [
    "## 2.2. Plotting basics"
   ]
  },
  {
   "cell_type": "markdown",
   "metadata": {},
   "source": [
    "* First, we have to import pyplot pacakge."
   ]
  },
  {
   "cell_type": "code",
   "execution_count": null,
   "metadata": {},
   "outputs": [],
   "source": [
    "import matplotlib.pyplot as plt # 'plt' seems convention over pyplot users.\n",
    "import numpy as np"
   ]
  },
  {
   "cell_type": "markdown",
   "metadata": {},
   "source": [
    "* The simplest method to plot (x,y) is 'plt.plot'."
   ]
  },
  {
   "cell_type": "code",
   "execution_count": null,
   "metadata": {
    "scrolled": true
   },
   "outputs": [],
   "source": [
    "a = [1,2,3,4,5]\n",
    "b = [2,4,6,8,12]\n",
    "\n",
    "plt.plot(a,b)\n",
    "plt.show()"
   ]
  },
  {
   "cell_type": "markdown",
   "metadata": {},
   "source": [
    "* Similarly, scatter plot can be drawn by 'plt.scatter'."
   ]
  },
  {
   "cell_type": "code",
   "execution_count": null,
   "metadata": {},
   "outputs": [],
   "source": [
    "plt.scatter(a,b)\n",
    "plt.show()"
   ]
  },
  {
   "cell_type": "markdown",
   "metadata": {},
   "source": [
    "* But, we need to go deeper. This is a diagram of each objects on the pyplot palette.\n",
    "     * Figure : Overall background. We can control general propertis of palette like figure size, subplot division.\n",
    "     * Axes: Set of several axes. In most case, we are dealing with this object.\n",
    "     * Axis : Individual axis.\n",
    "     \n",
    "<img src=\"attachment:image.png\" width=\"400\" align=\"left\">"
   ]
  },
  {
   "cell_type": "markdown",
   "metadata": {},
   "source": [
    "* Following code shows each object's scope and methods. This is the most common way to formally draw a academic figure with pyplot."
   ]
  },
  {
   "cell_type": "code",
   "execution_count": null,
   "metadata": {},
   "outputs": [],
   "source": [
    "%matplotlib notebook"
   ]
  },
  {
   "cell_type": "code",
   "execution_count": null,
   "metadata": {
    "scrolled": false
   },
   "outputs": [],
   "source": [
    "fig = plt.figure(figsize = (4,4), dpi = 150)\n",
    "ax = fig.add_subplot(1,1,1)\n",
    "\n",
    "ax.set_title(\"Sine function\")\n",
    "\n",
    "a = np.linspace(-10, 10, 50)\n",
    "ax.plot(a, np.sin(a), color = 'red', linestyle = '--', linewidth = 3, marker = 'o', markersize = 5, label = 'test label')\n",
    "\n",
    "ax.set_xlabel(r\"$\\alpha$\")\n",
    "ax.set_ylabel(r\"$sin(\\alpha)$\")\n",
    "\n",
    "ax.set_xlim(-15, 15)\n",
    "ax.set_ylim(-1.5, 1.5)\n",
    "\n",
    "plt.grid()\n",
    "plt.legend()"
   ]
  },
  {
   "cell_type": "markdown",
   "metadata": {},
   "source": [
    "* Also, matplotlib supports in-line mode in notebook.\n",
    "```python\n",
    "%matplotlib inline\n",
    "```\n",
    "\n",
    "\n",
    "* There are other backends, such as tk, qt5, nbagg, and notebook.\n",
    "    * We will frequently use inline and notebook in this course."
   ]
  }
 ],
 "metadata": {
  "kernelspec": {
   "display_name": "Python 3 (ipykernel)",
   "language": "python",
   "name": "python3"
  },
  "language_info": {
   "codemirror_mode": {
    "name": "ipython",
    "version": 3
   },
   "file_extension": ".py",
   "mimetype": "text/x-python",
   "name": "python",
   "nbconvert_exporter": "python",
   "pygments_lexer": "ipython3",
   "version": "3.9.2"
  }
 },
 "nbformat": 4,
 "nbformat_minor": 1
}
