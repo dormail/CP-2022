{
 "cells": [
  {
   "cell_type": "markdown",
   "metadata": {},
   "source": [
    "# PH413 Computation Physics - Practice [Week 1]"
   ]
  },
  {
   "cell_type": "markdown",
   "metadata": {},
   "source": [
    "## 1. Jupyter Notebook Introduction"
   ]
  },
  {
   "cell_type": "markdown",
   "metadata": {},
   "source": [
    "## 1.1. What is Jupyter Notebook?"
   ]
  },
  {
   "cell_type": "markdown",
   "metadata": {},
   "source": [
    "Welcome to Jupyter Notebook, the easiest playground for python! (and many others.)\n",
    "Notebook is a useful framework that enables us to write down the code, examine it in real time, and share with others.\n",
    "\n",
    "* Every notebook has two things :\n",
    "    1. **Kernel** : Which is a engine for compiling your code in cells. In this notebook, Python3 in Anaconda would be the kernel.\n",
    "    2. **Cells** : Small code blocks that can be compiled individually. You can execute cell in any order!"
   ]
  },
  {
   "cell_type": "markdown",
   "metadata": {},
   "source": [
    "## 1.2. Modes and Cell types"
   ]
  },
  {
   "cell_type": "markdown",
   "metadata": {},
   "source": [
    "* In Jupyter Notebook, you can switch into two different modes.\n",
    "\n",
    "    1. **Command mode** : You can move around cell by cell, and execute commands applying to cells.\n",
    "    2. **Edit mode** : You can edit your cell content.\n",
    "\n",
    "\n",
    "* Press **Enter** to enable Edit mode, and press **ESC** to enable Command mode.\n"
   ]
  },
  {
   "cell_type": "markdown",
   "metadata": {},
   "source": [
    "* Also, there are (basically) 2 cell types :\n",
    "\n",
    "    1. **Code Cell** : Executing these will regard your cell content as a (python) code lines and compile them.\n",
    "    2. **Markdown Cell** : Similiar as HTML and LaTex, you can write down a code for you text generation.\n",
    "\n",
    "\n",
    "* In command mode, you can change your cell type by pressing **m** for markdown cell and **z** for code cell."
   ]
  },
  {
   "cell_type": "markdown",
   "metadata": {},
   "source": [
    "* Jupyter notebook markdown grammar is simillar to other markdowns, such as Wikipedia grammar.\n",
    "\n",
    "    * *You can make your sentence Italic,*\n",
    "\n",
    "    * **make it bold,**\n",
    "\n",
    "    * ~~or cancel your line~~\n",
    "\n",
    "\n",
    "* You can learn more about markdowns in [Here](https://github.com/adam-p/markdown-here/wiki/Markdown-Here-Cheatsheet)"
   ]
  },
  {
   "cell_type": "markdown",
   "metadata": {},
   "source": [
    "## 1.3. Basic shortcuts"
   ]
  },
  {
   "cell_type": "markdown",
   "metadata": {},
   "source": [
    "* **Command Mode**\n",
    "    * Keyboard Arrows : Move your current cell up and down\n",
    "    * A : create new cell above your current cell\n",
    "    * B : create new cell below your current cell\n",
    "    * DD : delete current cell\n",
    "    * Z : undo cell deletion\n",
    "    * C : copy cell\n",
    "    * V : paste cell below\n",
    "    * H : open the Keyboard shortcut help menu\n",
    "    * Shift + Arrows : select multiple cells (You can do this by mouse cursor)\n",
    "    * Shift + M : merge selected cells\n",
    "\n",
    "\n",
    "* **Edit Mode**\n",
    "\n",
    "    * Shift + Tab : Tooltips\n",
    "    * Shift + Enter : Execute cell\n",
    "    * Ctrl + Enter : Execute selected cells\n",
    "    * Ctrl + Shift + - : split cell at your cursor"
   ]
  },
  {
   "cell_type": "markdown",
   "metadata": {},
   "source": [
    "## 2. Python Introduction"
   ]
  },
  {
   "cell_type": "code",
   "execution_count": null,
   "metadata": {
    "scrolled": true
   },
   "outputs": [],
   "source": [
    "import this"
   ]
  },
  {
   "cell_type": "markdown",
   "metadata": {},
   "source": [
    "### 2.1. Import"
   ]
  },
  {
   "cell_type": "markdown",
   "metadata": {},
   "source": [
    "* **import** : call your pre-installed library \n",
    "* Important libraries :\n",
    "\n",
    "    1. numPy\n",
    "    2. sciPy\n",
    "    3. matplotlib.pyplot\n",
    "    4. collections, time, itertools, system.... \n",
    "\n",
    "\n",
    "* Basically (99% of the case), you'll be able to find python library that contains the algorithm you wanted to implement.\n",
    "\n",
    "* Do not hesitate to search the proper library and methods to accomplish your task!\n",
    "\n",
    "* This doesn't mean that you can simply copy-paste a source code, if your task is implementing those algorithm by your hand!\n",
    "\n",
    "    * It is quite easy to figure out whether your code is written by yourself, or some other Python experts... \n",
    "    * Especially your not very good at Python. (and copy other's code in the first place.)"
   ]
  },
  {
   "cell_type": "code",
   "execution_count": 2,
   "metadata": {},
   "outputs": [],
   "source": [
    "import numpy as np ## use the command 'as' to shorten your library name"
   ]
  },
  {
   "cell_type": "markdown",
   "metadata": {},
   "source": [
    "* After you import your library, you can see the tooltips by pressing Shit + Tab, which is very useful to study.\n",
    "* Most of frequently used library has online documentary. For example, [numpy and scipy document](https://docs.scipy.org/doc/)."
   ]
  },
  {
   "cell_type": "markdown",
   "metadata": {},
   "source": [
    "**★ Task 1 ★**\n",
    "* Try to find a method in numpy that...\n",
    "\n",
    "    1. calculate absolute value\n",
    "    2. return uniform random value from [0,1)\n",
    "    3. calculate a correlation coefficitent of two vectors"
   ]
  },
  {
   "cell_type": "code",
   "execution_count": 42,
   "metadata": {},
   "outputs": [
    {
     "name": "stdout",
     "output_type": "stream",
     "text": [
      "[[1.         0.00682017]\n",
      " [0.00682017 1.        ]]\n"
     ]
    }
   ],
   "source": [
    "import numpy as np\n",
    "\n",
    "# 1 \n",
    "a = -3\n",
    "a_abs = np.abs(a)\n",
    "\n",
    "# 2\n",
    "# https://numpy.org/doc/stable/reference/random/generated/numpy.random.Generator.random.html#numpy.random.Generator.random\n",
    "rng = np.random.default_rng()\n",
    "random_number = rng.random()\n",
    "\n",
    "# \n",
    "n = 100000\n",
    "a, b = rng.random((n,)), rng.random((n,))\n",
    "\n",
    "print(np.corrcoef(a,b))"
   ]
  },
  {
   "cell_type": "markdown",
   "metadata": {},
   "source": [
    "### 2.2. Basics types and operations"
   ]
  },
  {
   "cell_type": "markdown",
   "metadata": {},
   "source": [
    "* In python, you don't have to assign a type of variables when you declare them. (\"Smart\") Python automatically assign them for you.\n",
    "    * Be careful, although you don't assign them manually, variables cerntainly have their type.\n",
    "    * You can find out the type of variables by 'type(x)'.\n",
    "    \n",
    "* In order to print out something, use the 'print()'.\n",
    "\n",
    "* Basic arithmetics are quite similar to any other programming languages. Watch out the types, though!\n",
    "\n",
    "* Python list index starts at 0.\n",
    "\n",
    "* Python doesn't have end marker such as semicolon, but indentation is critical.\n",
    "    * It will cause error if your indentation isn't correct."
   ]
  },
  {
   "cell_type": "code",
   "execution_count": null,
   "metadata": {},
   "outputs": [],
   "source": [
    "a = 2\n",
    "b = 3\n",
    "print(a+b)\n",
    "print(a-b)\n",
    "print(a*b)\n",
    "print(a/b)\n",
    "print(a%b)"
   ]
  },
  {
   "cell_type": "code",
   "execution_count": null,
   "metadata": {},
   "outputs": [],
   "source": [
    "print(a**b)"
   ]
  },
  {
   "cell_type": "markdown",
   "metadata": {},
   "source": [
    "* The simplest datastructure in python is list.\n",
    "    * ```my_list = [1,2,3]```\n",
    "* You can access to the list by using [].\n",
    "    * ```my_list[0] = 4```\n",
    "* List has its own operations, such as addition.\n",
    "    * ```[1,2]+[3,4] = [1,2,3,4]```\n",
    "\n",
    "* Strings can be declared by ' '.\n",
    "    * my_word = 'hello!'\n",
    "\n",
    "* Strings in Python are regarded as list. You can concatenate strings by simply adding them!"
   ]
  },
  {
   "cell_type": "code",
   "execution_count": null,
   "metadata": {},
   "outputs": [],
   "source": [
    "a = 1\n",
    "print(a)\n",
    "print(type(a))\n",
    "\n",
    "b = 2.0\n",
    "print(b)\n",
    "print(type(b))"
   ]
  },
  {
   "cell_type": "code",
   "execution_count": null,
   "metadata": {},
   "outputs": [],
   "source": [
    "c = a+b\n",
    "print(c)\n",
    "print(type(c))"
   ]
  },
  {
   "cell_type": "code",
   "execution_count": null,
   "metadata": {
    "scrolled": true
   },
   "outputs": [],
   "source": [
    "print(int(c))"
   ]
  },
  {
   "cell_type": "code",
   "execution_count": null,
   "metadata": {},
   "outputs": [],
   "source": [
    "x = [1,2,3]\n",
    "x.append(4)\n",
    "print(x)\n",
    "x.pop()\n",
    "print(x)\n",
    "y = [4,5,6]\n",
    "print(x+y)"
   ]
  },
  {
   "cell_type": "markdown",
   "metadata": {},
   "source": [
    "* Numpy also has list-like structures called array. You can assign it by feeding python list into np.array().\n",
    "    * ``` a = np.array([1,2,3])```\n",
    "* Python list and Numpy arrays are somewhat similar, but the inherent operations are vastly different.\n",
    "* For example, try to add two numpy arrays with same size."
   ]
  },
  {
   "cell_type": "code",
   "execution_count": 51,
   "metadata": {},
   "outputs": [
    {
     "name": "stdout",
     "output_type": "stream",
     "text": [
      "[5 7 9]\n"
     ]
    }
   ],
   "source": [
    "x = np.array([1,2,3])\n",
    "y = np.array([4,5,6])\n",
    "print(x+y)"
   ]
  },
  {
   "cell_type": "markdown",
   "metadata": {},
   "source": [
    "** ★ Task 2 ★ **\n",
    "* Assign A = 'Hello', B = 'world!'. By using these variables, print out 'Hello, world!' exactly.\n",
    "* Assing A = 12345, B = 99999. Try to print out 'A + B = (the value of A+B)'."
   ]
  },
  {
   "cell_type": "code",
   "execution_count": 43,
   "metadata": {},
   "outputs": [
    {
     "name": "stdout",
     "output_type": "stream",
     "text": [
      "Hello world!\n"
     ]
    }
   ],
   "source": [
    "A = 'Hello'\n",
    "B = 'world!'\n",
    "print(A+\" \"+B)"
   ]
  },
  {
   "cell_type": "code",
   "execution_count": 44,
   "metadata": {},
   "outputs": [
    {
     "name": "stdout",
     "output_type": "stream",
     "text": [
      "A + B = 112344\n"
     ]
    }
   ],
   "source": [
    "A = 12345\n",
    "B = 99999\n",
    "print('A + B = '+ str(A + B)) #??"
   ]
  },
  {
   "cell_type": "markdown",
   "metadata": {},
   "source": [
    "### 2.3. Basic statements"
   ]
  },
  {
   "cell_type": "markdown",
   "metadata": {},
   "source": [
    "* if statement: ``` if a < b : print (a)```\n",
    "\n",
    "* for statement: ``` for i in range(10) : print(i)```   "
   ]
  },
  {
   "cell_type": "code",
   "execution_count": null,
   "metadata": {},
   "outputs": [],
   "source": [
    "if 1 < 2:\n",
    "    print('yeah')"
   ]
  },
  {
   "cell_type": "code",
   "execution_count": null,
   "metadata": {},
   "outputs": [],
   "source": [
    "for i in range(10):\n",
    "    if i%2 == 0:\n",
    "        print(i)"
   ]
  },
  {
   "cell_type": "markdown",
   "metadata": {},
   "source": [
    "**★ Task 3 ★**\n",
    "* Traiditional FizzBuzz Problem \n",
    "    * Write a program that prints the numbers from 1 to 20. \n",
    "    * But for multiples of three print “Fizz” instead of the number and for the multiples of five print “Buzz”. \n",
    "    * For numbers which are multiples of both three and five print “FizzBuzz”."
   ]
  },
  {
   "cell_type": "code",
   "execution_count": 48,
   "metadata": {},
   "outputs": [
    {
     "name": "stdout",
     "output_type": "stream",
     "text": [
      "1\n",
      "2\n",
      "Fizz\n",
      "4\n",
      "Buzz\n",
      "Fizz\n",
      "7\n",
      "8\n",
      "Fizz\n",
      "Buzz\n",
      "11\n",
      "Fizz\n",
      "13\n",
      "14\n",
      "FizzBuzz\n",
      "16\n",
      "17\n",
      "Fizz\n",
      "19\n"
     ]
    }
   ],
   "source": [
    "for i in range(1,20):\n",
    "    output = ''\n",
    "    if(i % 3 == 0):\n",
    "        output = 'Fizz'\n",
    "    if(i % 5 == 0):\n",
    "        output = output + 'Buzz'\n",
    "    if output == '':\n",
    "        print(i)\n",
    "    else:\n",
    "        print(output)\n",
    "    "
   ]
  },
  {
   "cell_type": "markdown",
   "metadata": {},
   "source": [
    "## 1. Python Introduction (2)"
   ]
  },
  {
   "cell_type": "markdown",
   "metadata": {},
   "source": [
    "## 1.1. Useful data structures"
   ]
  },
  {
   "cell_type": "markdown",
   "metadata": {},
   "source": [
    "### 1.1.1 Dictionary"
   ]
  },
  {
   "cell_type": "markdown",
   "metadata": {},
   "source": [
    "** What is Dictionary? **"
   ]
  },
  {
   "cell_type": "markdown",
   "metadata": {},
   "source": [
    "* In Python, there is no 'switch-case' statement, which is different from C++ and Java.\n",
    "    * Then, how we implement such program in Python? (Is it possible to mimic our proffessor's solution?)\n",
    "    \n",
    "    \n",
    "* Python has a brilliant data structure called  'Dictionary'. Which is simply a collection of key-value pairs.\n",
    "    * When you find a word in dictionary, you simply access with the key (word itself), and then get the value (description).\n",
    "    * Similarly, you can feed dictionary a key, and it will return corresponding value.\n"
   ]
  },
  {
   "cell_type": "markdown",
   "metadata": {},
   "source": [
    "** Usage and methods **"
   ]
  },
  {
   "cell_type": "markdown",
   "metadata": {},
   "source": [
    "* You can assign a dictionary as follows.\n",
    "```python\n",
    "dic = {'name':'John', 'phone':'01073792589', 'birth': '940912'}\n",
    "```\n",
    "    \n",
    "    \n",
    "* Same as accessing list element by its index, you can access dictionary value by key.\n",
    "    * `dic['name']`\n",
    "    \n",
    "    \n",
    "* You can add or delete dictionary elements.\n",
    "    * `dic['home'] = 'Seoul'`\n",
    "    * `del 'dic['phone']`\n",
    "    \n",
    "    \n",
    "* Keys and values can be extracted via following methods.\n",
    "    * `dic.keys()`\n",
    "    * `dic.values()`\n",
    "    * `dic.items()`\n",
    "\n",
    "\n",
    "* Easy way to identify whether the dictionary contains a specific key or not.\n",
    "    * `'birth' in dic`"
   ]
  },
  {
   "cell_type": "markdown",
   "metadata": {},
   "source": [
    "### 1.1.2 Tuple"
   ]
  },
  {
   "cell_type": "markdown",
   "metadata": {},
   "source": [
    "** What is tuple? **"
   ]
  },
  {
   "cell_type": "markdown",
   "metadata": {},
   "source": [
    "* Tuple is a list-like data structure. You can do almost same operations to tuple (concatenate, indexing...) as list.\n",
    "    * Tuple is 'immutable', while list and dictionary is 'mutable'. \n",
    "    * Basically, you cannot change the element of tuple once you assign it.\n",
    "    * This concept is connected to 'Call by value' vs. 'Call by reference'.\n",
    "    * Method 'copy.deepcopy' can be useful if you're copying mutable object.\n",
    "    \n",
    "\n",
    "* Tuple can be declared as follows.\n",
    "```python\n",
    "tuple = (1,2,3)\n",
    "```"
   ]
  },
  {
   "cell_type": "markdown",
   "metadata": {},
   "source": [
    "** ★ Task 1 ★ **\n",
    "\n",
    "* [1] Make a Dictionary 'Professor', which gives [0, 1, 2] → [1, 2, 0].\n",
    "\n",
    "\n",
    "* [2] (Optional) Make a Dictionary 'notProfessor', which gives [0, 1, 2, ... ,98, 99, 100] → [ 1, 2, 3, .... 99, 100, 0]"
   ]
  },
  {
   "cell_type": "code",
   "execution_count": 49,
   "metadata": {},
   "outputs": [],
   "source": [
    "# Task 1 Answer #\n",
    "\n",
    "# [1] #\n",
    "Professor = {0 : 1, 1 : 2, 2 : 0}\n",
    "\n",
    "# [2] #\n",
    "notProfessor = {}\n",
    "for i in range(100):\n",
    "    notProfessor[i] = (i+1)%100"
   ]
  },
  {
   "cell_type": "code",
   "execution_count": 50,
   "metadata": {},
   "outputs": [
    {
     "data": {
      "text/plain": [
       "[0, 1, 2, 3, 4, 5, 6, 7, 8, 9]"
      ]
     },
     "execution_count": 50,
     "metadata": {},
     "output_type": "execute_result"
    }
   ],
   "source": [
    "list(range(10))"
   ]
  },
  {
   "cell_type": "markdown",
   "metadata": {},
   "source": [
    "## 1.2. Methods"
   ]
  },
  {
   "cell_type": "markdown",
   "metadata": {},
   "source": [
    "* Python functions (method) have really simple structure.\n",
    "```python\n",
    "def function_name(arguments):\n",
    "    return output\n",
    "```\n",
    " \n",
    "* Basic addition can be written as follows. (Re-invent the wheel!)\n",
    "``` python\n",
    "def sum(a, b):\n",
    "    return a+b\n",
    "```\n",
    "\n",
    "* If you want to get a unfixed numbers and types of arguments, there are two ways.\n",
    "    * `def sum(*args)` : arguments automatically becomes tuple\n",
    "        * `method(1,2,3,4...)`\n",
    "    * `def sum(**kwargs)` : arguments automatically becomes dictionary.\n",
    "        * `method(number = 1, color = 'blue')`\n"
   ]
  },
  {
   "cell_type": "code",
   "execution_count": null,
   "metadata": {},
   "outputs": [],
   "source": [
    "def sum(a,b):\n",
    "    return a+b"
   ]
  },
  {
   "cell_type": "code",
   "execution_count": null,
   "metadata": {},
   "outputs": [],
   "source": [
    "sum('3','5')"
   ]
  },
  {
   "cell_type": "markdown",
   "metadata": {},
   "source": [
    "**★ Task 2 ★**\n",
    "\n",
    "* [1] Define a method 'myMethod', which takes one string and two integers as arguments. If the string is 'sum', return the value which is an addition of two integers. If the string is 'mul', return the value which is an multiplication of two integers. If the string is neither 'sum' nor 'mul', print out 'I don't understand'.\n",
    "    * HINT : Use if-elif-else statement and '==' to compare the objects.\n",
    "    \n",
    "    \n",
    "* [2] (Optional) Expand pervious myMethod to 'myMethod_upgrade', which can take unfixed number of integers."
   ]
  },
  {
   "cell_type": "code",
   "execution_count": 59,
   "metadata": {},
   "outputs": [],
   "source": [
    "import numpy as np\n",
    "\n",
    "# Task 2 Answer #\n",
    "def myMethod(string, x, y):\n",
    "    if string == 'sum':\n",
    "        return x + y\n",
    "    elif string == 'mul':\n",
    "        return x * y\n",
    "    print('I don\\'t understand')\n",
    "    \n",
    "# https://www.tutorialspoint.com/how-to-write-functions-in-python-that-accept-any-number-of-arguments\n",
    "# *x is a unfixed amount of arguments and can be treated as a sequence afterwards\n",
    "def myMethod_upgrad(string, *x):\n",
    "    if string == 'sum':\n",
    "        return sum(x)\n",
    "    elif string == 'mul':\n",
    "        return np.prod(x)\n",
    "    print('I don\\'t understand')"
   ]
  },
  {
   "cell_type": "markdown",
   "metadata": {},
   "source": [
    "## 1.3. File I/O"
   ]
  },
  {
   "cell_type": "markdown",
   "metadata": {},
   "source": [
    "* In Python, basic file input/output is super simple.\n",
    "```python\n",
    "f = open(\"newfile.txt\", 'w')\n",
    "f.close()\n",
    "```\n",
    "<img src=\"attachment:image.png\" width=\"500\" align ='left'>\n"
   ]
  },
  {
   "cell_type": "markdown",
   "metadata": {},
   "source": [
    "* Use 'write' to write down the data. (It should be string type.)\n",
    "```python\n",
    "f = open(\"C:/newfile.txt\", 'w')\n",
    "for i in range(1, 11):\n",
    "    data = \"Line number %d is written.\\n\" % i\n",
    "    f.write(data)\n",
    "f.close()\n",
    "```\n",
    "\n",
    "* You can read out external file by various methods. One of them is 'readlines'.\n",
    "    * It returns the list of line-seperated text.\n",
    "```python\n",
    "f = open(\"C:/newfile.txt\", 'r')\n",
    "lines = f.readlines()\n",
    "for line in lines:\n",
    "    print(line)\n",
    "f.close()\n",
    "```\n",
    "\n",
    "* The 'with' statement is convenient in many cases, since the scope is limited to single clause. You don't need to close the file manually. \n",
    "```python\n",
    "with open(\"newfile.txt\", \"w\") as f:\n",
    "    f.write(\"Life is too short, you need python\")\n",
    "```"
   ]
  },
  {
   "cell_type": "markdown",
   "metadata": {},
   "source": [
    "** ★ Task 3 ★ **\n",
    "\n",
    "* [1] Make a file 'data.txt' with 100 lines. You have to write down n-th even number at n-th line. (Starting from 2)\n",
    "\n",
    "\n",
    "* [2] Write a code that reads 'data.txt', calculate the ratio of two consecutive number, and write down those 99 ratios to 'result.txt'."
   ]
  },
  {
   "cell_type": "code",
   "execution_count": 94,
   "metadata": {
    "scrolled": true
   },
   "outputs": [],
   "source": [
    "# Task 3 Answer #\n",
    "with open(\"data.txt\", \"w\") as f:\n",
    "    for i in range(2,102):\n",
    "        f.write(str(i))\n",
    "        f.write('\\n')\n",
    "        \n",
    "with open(\"data.txt\", \"r\") as f:\n",
    "    lines = f.readlines()\n",
    "    lines_int = np.array([])\n",
    "    for line in lines:\n",
    "        x = int(line)\n",
    "        lines_int = np.append(lines_int, x)\n",
    "\n",
    "with open(\"result.txt\", \"w\") as f:\n",
    "    for i in range(len(lines_int) - 1):\n",
    "        f.write(str(float(lines_int[i+1]) / float(lines_int[i])))\n",
    "        f.write('\\n')\n"
   ]
  },
  {
   "cell_type": "markdown",
   "metadata": {},
   "source": [
    "## 1.4. Class"
   ]
  },
  {
   "cell_type": "markdown",
   "metadata": {},
   "source": [
    "* Python is a representative of programming paradigm called 'Object-Oriented Programming'.\n",
    "    * If you are interested with programming paradigm, ask to your CS-major friend.\n",
    "    \n",
    "    \n",
    "* One of the most prominent features of OOP is '**class**'.\n",
    "    * It is impossible to cover all of the concepts around class in this class :D\n",
    " \n",
    " \n",
    "* Class is a simple yet powerful concept. Basically, it is a mold for specific type of object which we can define freely.\n",
    "\n",
    "```python\n",
    "def student():\n",
    "    def __init__(self, name, age):\n",
    "        self.name = name\n",
    "        self.age = age\n",
    "    \n",
    "    def introduce(self):\n",
    "        print('My name is ' + str(name) + ', I am ' + str(age) + ' years old')\n",
    "          \n",
    "    def birth_year(self, this_year):\n",
    "        return this_year-age\n",
    "\n",
    "```\n",
    "\n",
    "* After defining a class, you can make a instance of that class.\n",
    "```python\n",
    "a = student('Sarah', 21)\n",
    "b = student('Faker', 23)\n",
    "```"
   ]
  },
  {
   "cell_type": "markdown",
   "metadata": {},
   "source": [
    "## 2. Pyplot Introduction (1)"
   ]
  },
  {
   "cell_type": "markdown",
   "metadata": {},
   "source": [
    "## 2.1. What is Pyplot?"
   ]
  },
  {
   "cell_type": "markdown",
   "metadata": {},
   "source": [
    "* Pyplot is a submodule of matplotlib, which is a python library to plot a (good-looking) figure.\n",
    "\n",
    "\n",
    "* We can use matlab, gnuplot, or other graphic tools. But, use pyplot could be the best choice since we are using Jupyter Notebook with Python kernel. We can see the output of pyplot directly via output cells."
   ]
  },
  {
   "cell_type": "markdown",
   "metadata": {},
   "source": [
    "## 2.2. Plotting basics"
   ]
  },
  {
   "cell_type": "markdown",
   "metadata": {},
   "source": [
    "* First, we have to import pyplot pacakge."
   ]
  },
  {
   "cell_type": "code",
   "execution_count": 1,
   "metadata": {},
   "outputs": [],
   "source": [
    "import matplotlib.pyplot as plt # 'plt' seems convention over pyplot users.\n",
    "import numpy as np"
   ]
  },
  {
   "cell_type": "markdown",
   "metadata": {},
   "source": [
    "* The simplest method to plot (x,y) is 'plt.plot'."
   ]
  },
  {
   "cell_type": "code",
   "execution_count": 2,
   "metadata": {
    "scrolled": true
   },
   "outputs": [
    {
     "data": {
      "image/png": "[encoded data removed]",
      "text/plain": [
       "<Figure size 432x288 with 1 Axes>"
      ]
     },
     "metadata": {
      "needs_background": "light"
     },
     "output_type": "display_data"
    }
   ],
   "source": [
    "a = [1,2,3,4,5]\n",
    "b = [2,4,6,8,12]\n",
    "\n",
    "plt.plot(a,b)\n",
    "plt.show()"
   ]
  },
  {
   "cell_type": "markdown",
   "metadata": {},
   "source": [
    "* Similarly, scatter plot can be drawn by 'plt.scatter'."
   ]
  },
  {
   "cell_type": "code",
   "execution_count": 3,
   "metadata": {},
   "outputs": [
    {
     "data": {
      "image/png": "[encoded data removed]",
      "text/plain": [
       "<Figure size 432x288 with 1 Axes>"
      ]
     },
     "metadata": {
      "needs_background": "light"
     },
     "output_type": "display_data"
    }
   ],
   "source": [
    "plt.scatter(a,b)\n",
    "plt.show()"
   ]
  },
  {
   "cell_type": "markdown",
   "metadata": {},
   "source": [
    "* But, we need to go deeper. This is a diagram of each objects on the pyplot palette.\n",
    "     * Figure : Overall background. We can control general propertis of palette like figure size, subplot division.\n",
    "     * Axes: Set of several axes. In most case, we are dealing with this object.\n",
    "     * Axis : Individual axis.\n",
    "     \n",
    "<img src=\"attachment:image.png\" width=\"400\" align=\"left\">"
   ]
  },
  {
   "cell_type": "markdown",
   "metadata": {},
   "source": [
    "* Following code shows each object's scope and methods. This is the most common way to formally draw a academic figure with pyplot."
   ]
  },
  {
   "cell_type": "code",
   "execution_count": 4,
   "metadata": {},
   "outputs": [],
   "source": [
    "%matplotlib notebook"
   ]
  },
  {
   "cell_type": "code",
   "execution_count": 6,
   "metadata": {
    "scrolled": false
   },
   "outputs": [
    {
     "data": {
      "application/javascript": [
       "/* Put everything inside the global mpl namespace */\n",
       "/* global mpl */\n",
       "window.mpl = {};\n",
       "\n",
       "mpl.get_websocket_type = function () {\n",
       "    if (typeof WebSocket !== 'undefined') {\n",
       "        return WebSocket;\n",
       "    } else if (typeof MozWebSocket !== 'undefined') {\n",
       "        return MozWebSocket;\n",
       "    } else {\n",
       "        alert(\n",
       "            'Your browser does not have WebSocket support. ' +\n",
       "                'Please try Chrome, Safari or Firefox ≥ 6. ' +\n",
       "                'Firefox 4 and 5 are also supported but you ' +\n",
       "                'have to enable WebSockets in about:config.'\n",
       "        );\n",
       "    }\n",
       "};\n",
       "\n",
       "mpl.figure = function (figure_id, websocket, ondownload, parent_element) {\n",
       "    this.id = figure_id;\n",
       "\n",
       "    this.ws = websocket;\n",
       "\n",
       "    this.supports_binary = this.ws.binaryType !== undefined;\n",
       "\n",
       "    if (!this.supports_binary) {\n",
       "        var warnings = document.getElementById('mpl-warnings');\n",
       "        if (warnings) {\n",
       "            warnings.style.display = 'block';\n",
       "            warnings.textContent =\n",
       "                'This browser does not support binary websocket messages. ' +\n",
       "                'Performance may be slow.';\n",
       "        }\n",
       "    }\n",
       "\n",
       "    this.imageObj = new Image();\n",
       "\n",
       "    this.context = undefined;\n",
       "    this.message = undefined;\n",
       "    this.canvas = undefined;\n",
       "    this.rubberband_canvas = undefined;\n",
       "    this.rubberband_context = undefined;\n",
       "    this.format_dropdown = undefined;\n",
       "\n",
       "    this.image_mode = 'full';\n",
       "\n",
       "    this.root = document.createElement('div');\n",
       "    this.root.setAttribute('style', 'display: inline-block');\n",
       "    this._root_extra_style(this.root);\n",
       "\n",
       "    parent_element.appendChild(this.root);\n",
       "\n",
       "    this._init_header(this);\n",
       "    this._init_canvas(this);\n",
       "    this._init_toolbar(this);\n",
       "\n",
       "    var fig = this;\n",
       "\n",
       "    this.waiting = false;\n",
       "\n",
       "    this.ws.onopen = function () {\n",
       "        fig.send_message('supports_binary', { value: fig.supports_binary });\n",
       "        fig.send_message('send_image_mode', {});\n",
       "        if (fig.ratio !== 1) {\n",
       "            fig.send_message('set_dpi_ratio', { dpi_ratio: fig.ratio });\n",
       "        }\n",
       "        fig.send_message('refresh', {});\n",
       "    };\n",
       "\n",
       "    this.imageObj.onload = function () {\n",
       "        if (fig.image_mode === 'full') {\n",
       "            // Full images could contain transparency (where diff images\n",
       "            // almost always do), so we need to clear the canvas so that\n",
       "            // there is no ghosting.\n",
       "            fig.context.clearRect(0, 0, fig.canvas.width, fig.canvas.height);\n",
       "        }\n",
       "        fig.context.drawImage(fig.imageObj, 0, 0);\n",
       "    };\n",
       "\n",
       "    this.imageObj.onunload = function () {\n",
       "        fig.ws.close();\n",
       "    };\n",
       "\n",
       "    this.ws.onmessage = this._make_on_message_function(this);\n",
       "\n",
       "    this.ondownload = ondownload;\n",
       "};\n",
       "\n",
       "mpl.figure.prototype._init_header = function () {\n",
       "    var titlebar = document.createElement('div');\n",
       "    titlebar.classList =\n",
       "        'ui-dialog-titlebar ui-widget-header ui-corner-all ui-helper-clearfix';\n",
       "    var titletext = document.createElement('div');\n",
       "    titletext.classList = 'ui-dialog-title';\n",
       "    titletext.setAttribute(\n",
       "        'style',\n",
       "        'width: 100%; text-align: center; padding: 3px;'\n",
       "    );\n",
       "    titlebar.appendChild(titletext);\n",
       "    this.root.appendChild(titlebar);\n",
       "    this.header = titletext;\n",
       "};\n",
       "\n",
       "mpl.figure.prototype._canvas_extra_style = function (_canvas_div) {};\n",
       "\n",
       "mpl.figure.prototype._root_extra_style = function (_canvas_div) {};\n",
       "\n",
       "mpl.figure.prototype._init_canvas = function () {\n",
       "    var fig = this;\n",
       "\n",
       "    var canvas_div = (this.canvas_div = document.createElement('div'));\n",
       "    canvas_div.setAttribute(\n",
       "        'style',\n",
       "        'border: 1px solid #ddd;' +\n",
       "            'box-sizing: content-box;' +\n",
       "            'clear: both;' +\n",
       "            'min-height: 1px;' +\n",
       "            'min-width: 1px;' +\n",
       "            'outline: 0;' +\n",
       "            'overflow: hidden;' +\n",
       "            'position: relative;' +\n",
       "            'resize: both;'\n",
       "    );\n",
       "\n",
       "    function on_keyboard_event_closure(name) {\n",
       "        return function (event) {\n",
       "            return fig.key_event(event, name);\n",
       "        };\n",
       "    }\n",
       "\n",
       "    canvas_div.addEventListener(\n",
       "        'keydown',\n",
       "        on_keyboard_event_closure('key_press')\n",
       "    );\n",
       "    canvas_div.addEventListener(\n",
       "        'keyup',\n",
       "        on_keyboard_event_closure('key_release')\n",
       "    );\n",
       "\n",
       "    this._canvas_extra_style(canvas_div);\n",
       "    this.root.appendChild(canvas_div);\n",
       "\n",
       "    var canvas = (this.canvas = document.createElement('canvas'));\n",
       "    canvas.classList.add('mpl-canvas');\n",
       "    canvas.setAttribute('style', 'box-sizing: content-box;');\n",
       "\n",
       "    this.context = canvas.getContext('2d');\n",
       "\n",
       "    var backingStore =\n",
       "        this.context.backingStorePixelRatio ||\n",
       "        this.context.webkitBackingStorePixelRatio ||\n",
       "        this.context.mozBackingStorePixelRatio ||\n",
       "        this.context.msBackingStorePixelRatio ||\n",
       "        this.context.oBackingStorePixelRatio ||\n",
       "        this.context.backingStorePixelRatio ||\n",
       "        1;\n",
       "\n",
       "    this.ratio = (window.devicePixelRatio || 1) / backingStore;\n",
       "\n",
       "    var rubberband_canvas = (this.rubberband_canvas = document.createElement(\n",
       "        'canvas'\n",
       "    ));\n",
       "    rubberband_canvas.setAttribute(\n",
       "        'style',\n",
       "        'box-sizing: content-box; position: absolute; left: 0; top: 0; z-index: 1;'\n",
       "    );\n",
       "\n",
       "    // Apply a ponyfill if ResizeObserver is not implemented by browser.\n",
       "    if (this.ResizeObserver === undefined) {\n",
       "        if (window.ResizeObserver !== undefined) {\n",
       "            this.ResizeObserver = window.ResizeObserver;\n",
       "        } else {\n",
       "            var obs = _JSXTOOLS_RESIZE_OBSERVER({});\n",
       "            this.ResizeObserver = obs.ResizeObserver;\n",
       "        }\n",
       "    }\n",
       "\n",
       "    this.resizeObserverInstance = new this.ResizeObserver(function (entries) {\n",
       "        var nentries = entries.length;\n",
       "        for (var i = 0; i < nentries; i++) {\n",
       "            var entry = entries[i];\n",
       "            var width, height;\n",
       "            if (entry.contentBoxSize) {\n",
       "                if (entry.contentBoxSize instanceof Array) {\n",
       "                    // Chrome 84 implements new version of spec.\n",
       "                    width = entry.contentBoxSize[0].inlineSize;\n",
       "                    height = entry.contentBoxSize[0].blockSize;\n",
       "                } else {\n",
       "                    // Firefox implements old version of spec.\n",
       "                    width = entry.contentBoxSize.inlineSize;\n",
       "                    height = entry.contentBoxSize.blockSize;\n",
       "                }\n",
       "            } else {\n",
       "                // Chrome <84 implements even older version of spec.\n",
       "                width = entry.contentRect.width;\n",
       "                height = entry.contentRect.height;\n",
       "            }\n",
       "\n",
       "            // Keep the size of the canvas and rubber band canvas in sync with\n",
       "            // the canvas container.\n",
       "            if (entry.devicePixelContentBoxSize) {\n",
       "                // Chrome 84 implements new version of spec.\n",
       "                canvas.setAttribute(\n",
       "                    'width',\n",
       "                    entry.devicePixelContentBoxSize[0].inlineSize\n",
       "                );\n",
       "                canvas.setAttribute(\n",
       "                    'height',\n",
       "                    entry.devicePixelContentBoxSize[0].blockSize\n",
       "                );\n",
       "            } else {\n",
       "                canvas.setAttribute('width', width * fig.ratio);\n",
       "                canvas.setAttribute('height', height * fig.ratio);\n",
       "            }\n",
       "            canvas.setAttribute(\n",
       "                'style',\n",
       "                'width: ' + width + 'px; height: ' + height + 'px;'\n",
       "            );\n",
       "\n",
       "            rubberband_canvas.setAttribute('width', width);\n",
       "            rubberband_canvas.setAttribute('height', height);\n",
       "\n",
       "            // And update the size in Python. We ignore the initial 0/0 size\n",
       "            // that occurs as the element is placed into the DOM, which should\n",
       "            // otherwise not happen due to the minimum size styling.\n",
       "            if (fig.ws.readyState == 1 && width != 0 && height != 0) {\n",
       "                fig.request_resize(width, height);\n",
       "            }\n",
       "        }\n",
       "    });\n",
       "    this.resizeObserverInstance.observe(canvas_div);\n",
       "\n",
       "    function on_mouse_event_closure(name) {\n",
       "        return function (event) {\n",
       "            return fig.mouse_event(event, name);\n",
       "        };\n",
       "    }\n",
       "\n",
       "    rubberband_canvas.addEventListener(\n",
       "        'mousedown',\n",
       "        on_mouse_event_closure('button_press')\n",
       "    );\n",
       "    rubberband_canvas.addEventListener(\n",
       "        'mouseup',\n",
       "        on_mouse_event_closure('button_release')\n",
       "    );\n",
       "    rubberband_canvas.addEventListener(\n",
       "        'dblclick',\n",
       "        on_mouse_event_closure('dblclick')\n",
       "    );\n",
       "    // Throttle sequential mouse events to 1 every 20ms.\n",
       "    rubberband_canvas.addEventListener(\n",
       "        'mousemove',\n",
       "        on_mouse_event_closure('motion_notify')\n",
       "    );\n",
       "\n",
       "    rubberband_canvas.addEventListener(\n",
       "        'mouseenter',\n",
       "        on_mouse_event_closure('figure_enter')\n",
       "    );\n",
       "    rubberband_canvas.addEventListener(\n",
       "        'mouseleave',\n",
       "        on_mouse_event_closure('figure_leave')\n",
       "    );\n",
       "\n",
       "    canvas_div.addEventListener('wheel', function (event) {\n",
       "        if (event.deltaY < 0) {\n",
       "            event.step = 1;\n",
       "        } else {\n",
       "            event.step = -1;\n",
       "        }\n",
       "        on_mouse_event_closure('scroll')(event);\n",
       "    });\n",
       "\n",
       "    canvas_div.appendChild(canvas);\n",
       "    canvas_div.appendChild(rubberband_canvas);\n",
       "\n",
       "    this.rubberband_context = rubberband_canvas.getContext('2d');\n",
       "    this.rubberband_context.strokeStyle = '#000000';\n",
       "\n",
       "    this._resize_canvas = function (width, height, forward) {\n",
       "        if (forward) {\n",
       "            canvas_div.style.width = width + 'px';\n",
       "            canvas_div.style.height = height + 'px';\n",
       "        }\n",
       "    };\n",
       "\n",
       "    // Disable right mouse context menu.\n",
       "    this.rubberband_canvas.addEventListener('contextmenu', function (_e) {\n",
       "        event.preventDefault();\n",
       "        return false;\n",
       "    });\n",
       "\n",
       "    function set_focus() {\n",
       "        canvas.focus();\n",
       "        canvas_div.focus();\n",
       "    }\n",
       "\n",
       "    window.setTimeout(set_focus, 100);\n",
       "};\n",
       "\n",
       "mpl.figure.prototype._init_toolbar = function () {\n",
       "    var fig = this;\n",
       "\n",
       "    var toolbar = document.createElement('div');\n",
       "    toolbar.classList = 'mpl-toolbar';\n",
       "    this.root.appendChild(toolbar);\n",
       "\n",
       "    function on_click_closure(name) {\n",
       "        return function (_event) {\n",
       "            return fig.toolbar_button_onclick(name);\n",
       "        };\n",
       "    }\n",
       "\n",
       "    function on_mouseover_closure(tooltip) {\n",
       "        return function (event) {\n",
       "            if (!event.currentTarget.disabled) {\n",
       "                return fig.toolbar_button_onmouseover(tooltip);\n",
       "            }\n",
       "        };\n",
       "    }\n",
       "\n",
       "    fig.buttons = {};\n",
       "    var buttonGroup = document.createElement('div');\n",
       "    buttonGroup.classList = 'mpl-button-group';\n",
       "    for (var toolbar_ind in mpl.toolbar_items) {\n",
       "        var name = mpl.toolbar_items[toolbar_ind][0];\n",
       "        var tooltip = mpl.toolbar_items[toolbar_ind][1];\n",
       "        var image = mpl.toolbar_items[toolbar_ind][2];\n",
       "        var method_name = mpl.toolbar_items[toolbar_ind][3];\n",
       "\n",
       "        if (!name) {\n",
       "            /* Instead of a spacer, we start a new button group. */\n",
       "            if (buttonGroup.hasChildNodes()) {\n",
       "                toolbar.appendChild(buttonGroup);\n",
       "            }\n",
       "            buttonGroup = document.createElement('div');\n",
       "            buttonGroup.classList = 'mpl-button-group';\n",
       "            continue;\n",
       "        }\n",
       "\n",
       "        var button = (fig.buttons[name] = document.createElement('button'));\n",
       "        button.classList = 'mpl-widget';\n",
       "        button.setAttribute('role', 'button');\n",
       "        button.setAttribute('aria-disabled', 'false');\n",
       "        button.addEventListener('click', on_click_closure(method_name));\n",
       "        button.addEventListener('mouseover', on_mouseover_closure(tooltip));\n",
       "\n",
       "        var icon_img = document.createElement('img');\n",
       "        icon_img.src = '_images/' + image + '.png';\n",
       "        icon_img.srcset = '_images/' + image + '_large.png 2x';\n",
       "        icon_img.alt = tooltip;\n",
       "        button.appendChild(icon_img);\n",
       "\n",
       "        buttonGroup.appendChild(button);\n",
       "    }\n",
       "\n",
       "    if (buttonGroup.hasChildNodes()) {\n",
       "        toolbar.appendChild(buttonGroup);\n",
       "    }\n",
       "\n",
       "    var fmt_picker = document.createElement('select');\n",
       "    fmt_picker.classList = 'mpl-widget';\n",
       "    toolbar.appendChild(fmt_picker);\n",
       "    this.format_dropdown = fmt_picker;\n",
       "\n",
       "    for (var ind in mpl.extensions) {\n",
       "        var fmt = mpl.extensions[ind];\n",
       "        var option = document.createElement('option');\n",
       "        option.selected = fmt === mpl.default_extension;\n",
       "        option.innerHTML = fmt;\n",
       "        fmt_picker.appendChild(option);\n",
       "    }\n",
       "\n",
       "    var status_bar = document.createElement('span');\n",
       "    status_bar.classList = 'mpl-message';\n",
       "    toolbar.appendChild(status_bar);\n",
       "    this.message = status_bar;\n",
       "};\n",
       "\n",
       "mpl.figure.prototype.request_resize = function (x_pixels, y_pixels) {\n",
       "    // Request matplotlib to resize the figure. Matplotlib will then trigger a resize in the client,\n",
       "    // which will in turn request a refresh of the image.\n",
       "    this.send_message('resize', { width: x_pixels, height: y_pixels });\n",
       "};\n",
       "\n",
       "mpl.figure.prototype.send_message = function (type, properties) {\n",
       "    properties['type'] = type;\n",
       "    properties['figure_id'] = this.id;\n",
       "    this.ws.send(JSON.stringify(properties));\n",
       "};\n",
       "\n",
       "mpl.figure.prototype.send_draw_message = function () {\n",
       "    if (!this.waiting) {\n",
       "        this.waiting = true;\n",
       "        this.ws.send(JSON.stringify({ type: 'draw', figure_id: this.id }));\n",
       "    }\n",
       "};\n",
       "\n",
       "mpl.figure.prototype.handle_save = function (fig, _msg) {\n",
       "    var format_dropdown = fig.format_dropdown;\n",
       "    var format = format_dropdown.options[format_dropdown.selectedIndex].value;\n",
       "    fig.ondownload(fig, format);\n",
       "};\n",
       "\n",
       "mpl.figure.prototype.handle_resize = function (fig, msg) {\n",
       "    var size = msg['size'];\n",
       "    if (size[0] !== fig.canvas.width || size[1] !== fig.canvas.height) {\n",
       "        fig._resize_canvas(size[0], size[1], msg['forward']);\n",
       "        fig.send_message('refresh', {});\n",
       "    }\n",
       "};\n",
       "\n",
       "mpl.figure.prototype.handle_rubberband = function (fig, msg) {\n",
       "    var x0 = msg['x0'] / fig.ratio;\n",
       "    var y0 = (fig.canvas.height - msg['y0']) / fig.ratio;\n",
       "    var x1 = msg['x1'] / fig.ratio;\n",
       "    var y1 = (fig.canvas.height - msg['y1']) / fig.ratio;\n",
       "    x0 = Math.floor(x0) + 0.5;\n",
       "    y0 = Math.floor(y0) + 0.5;\n",
       "    x1 = Math.floor(x1) + 0.5;\n",
       "    y1 = Math.floor(y1) + 0.5;\n",
       "    var min_x = Math.min(x0, x1);\n",
       "    var min_y = Math.min(y0, y1);\n",
       "    var width = Math.abs(x1 - x0);\n",
       "    var height = Math.abs(y1 - y0);\n",
       "\n",
       "    fig.rubberband_context.clearRect(\n",
       "        0,\n",
       "        0,\n",
       "        fig.canvas.width / fig.ratio,\n",
       "        fig.canvas.height / fig.ratio\n",
       "    );\n",
       "\n",
       "    fig.rubberband_context.strokeRect(min_x, min_y, width, height);\n",
       "};\n",
       "\n",
       "mpl.figure.prototype.handle_figure_label = function (fig, msg) {\n",
       "    // Updates the figure title.\n",
       "    fig.header.textContent = msg['label'];\n",
       "};\n",
       "\n",
       "mpl.figure.prototype.handle_cursor = function (fig, msg) {\n",
       "    var cursor = msg['cursor'];\n",
       "    switch (cursor) {\n",
       "        case 0:\n",
       "            cursor = 'pointer';\n",
       "            break;\n",
       "        case 1:\n",
       "            cursor = 'default';\n",
       "            break;\n",
       "        case 2:\n",
       "            cursor = 'crosshair';\n",
       "            break;\n",
       "        case 3:\n",
       "            cursor = 'move';\n",
       "            break;\n",
       "    }\n",
       "    fig.rubberband_canvas.style.cursor = cursor;\n",
       "};\n",
       "\n",
       "mpl.figure.prototype.handle_message = function (fig, msg) {\n",
       "    fig.message.textContent = msg['message'];\n",
       "};\n",
       "\n",
       "mpl.figure.prototype.handle_draw = function (fig, _msg) {\n",
       "    // Request the server to send over a new figure.\n",
       "    fig.send_draw_message();\n",
       "};\n",
       "\n",
       "mpl.figure.prototype.handle_image_mode = function (fig, msg) {\n",
       "    fig.image_mode = msg['mode'];\n",
       "};\n",
       "\n",
       "mpl.figure.prototype.handle_history_buttons = function (fig, msg) {\n",
       "    for (var key in msg) {\n",
       "        if (!(key in fig.buttons)) {\n",
       "            continue;\n",
       "        }\n",
       "        fig.buttons[key].disabled = !msg[key];\n",
       "        fig.buttons[key].setAttribute('aria-disabled', !msg[key]);\n",
       "    }\n",
       "};\n",
       "\n",
       "mpl.figure.prototype.handle_navigate_mode = function (fig, msg) {\n",
       "    if (msg['mode'] === 'PAN') {\n",
       "        fig.buttons['Pan'].classList.add('active');\n",
       "        fig.buttons['Zoom'].classList.remove('active');\n",
       "    } else if (msg['mode'] === 'ZOOM') {\n",
       "        fig.buttons['Pan'].classList.remove('active');\n",
       "        fig.buttons['Zoom'].classList.add('active');\n",
       "    } else {\n",
       "        fig.buttons['Pan'].classList.remove('active');\n",
       "        fig.buttons['Zoom'].classList.remove('active');\n",
       "    }\n",
       "};\n",
       "\n",
       "mpl.figure.prototype.updated_canvas_event = function () {\n",
       "    // Called whenever the canvas gets updated.\n",
       "    this.send_message('ack', {});\n",
       "};\n",
       "\n",
       "// A function to construct a web socket function for onmessage handling.\n",
       "// Called in the figure constructor.\n",
       "mpl.figure.prototype._make_on_message_function = function (fig) {\n",
       "    return function socket_on_message(evt) {\n",
       "        if (evt.data instanceof Blob) {\n",
       "            var img = evt.data;\n",
       "            if (img.type !== 'image/png') {\n",
       "                /* FIXME: We get \"Resource interpreted as Image but\n",
       "                 * transferred with MIME type text/plain:\" errors on\n",
       "                 * Chrome.  But how to set the MIME type?  It doesn't seem\n",
       "                 * to be part of the websocket stream */\n",
       "                img.type = 'image/png';\n",
       "            }\n",
       "\n",
       "            /* Free the memory for the previous frames */\n",
       "            if (fig.imageObj.src) {\n",
       "                (window.URL || window.webkitURL).revokeObjectURL(\n",
       "                    fig.imageObj.src\n",
       "                );\n",
       "            }\n",
       "\n",
       "            fig.imageObj.src = (window.URL || window.webkitURL).createObjectURL(\n",
       "                img\n",
       "            );\n",
       "            fig.updated_canvas_event();\n",
       "            fig.waiting = false;\n",
       "            return;\n",
       "        } else if (\n",
       "            typeof evt.data === 'string' &&\n",
       "            evt.data.slice(0, 21) === 'data:image/png;base64'\n",
       "        ) {\n",
       "            fig.imageObj.src = evt.data;\n",
       "            fig.updated_canvas_event();\n",
       "            fig.waiting = false;\n",
       "            return;\n",
       "        }\n",
       "\n",
       "        var msg = JSON.parse(evt.data);\n",
       "        var msg_type = msg['type'];\n",
       "\n",
       "        // Call the  \"handle_{type}\" callback, which takes\n",
       "        // the figure and JSON message as its only arguments.\n",
       "        try {\n",
       "            var callback = fig['handle_' + msg_type];\n",
       "        } catch (e) {\n",
       "            console.log(\n",
       "                \"No handler for the '\" + msg_type + \"' message type: \",\n",
       "                msg\n",
       "            );\n",
       "            return;\n",
       "        }\n",
       "\n",
       "        if (callback) {\n",
       "            try {\n",
       "                // console.log(\"Handling '\" + msg_type + \"' message: \", msg);\n",
       "                callback(fig, msg);\n",
       "            } catch (e) {\n",
       "                console.log(\n",
       "                    \"Exception inside the 'handler_\" + msg_type + \"' callback:\",\n",
       "                    e,\n",
       "                    e.stack,\n",
       "                    msg\n",
       "                );\n",
       "            }\n",
       "        }\n",
       "    };\n",
       "};\n",
       "\n",
       "// from http://stackoverflow.com/questions/1114465/getting-mouse-location-in-canvas\n",
       "mpl.findpos = function (e) {\n",
       "    //this section is from http://www.quirksmode.org/js/events_properties.html\n",
       "    var targ;\n",
       "    if (!e) {\n",
       "        e = window.event;\n",
       "    }\n",
       "    if (e.target) {\n",
       "        targ = e.target;\n",
       "    } else if (e.srcElement) {\n",
       "        targ = e.srcElement;\n",
       "    }\n",
       "    if (targ.nodeType === 3) {\n",
       "        // defeat Safari bug\n",
       "        targ = targ.parentNode;\n",
       "    }\n",
       "\n",
       "    // pageX,Y are the mouse positions relative to the document\n",
       "    var boundingRect = targ.getBoundingClientRect();\n",
       "    var x = e.pageX - (boundingRect.left + document.body.scrollLeft);\n",
       "    var y = e.pageY - (boundingRect.top + document.body.scrollTop);\n",
       "\n",
       "    return { x: x, y: y };\n",
       "};\n",
       "\n",
       "/*\n",
       " * return a copy of an object with only non-object keys\n",
       " * we need this to avoid circular references\n",
       " * http://stackoverflow.com/a/24161582/3208463\n",
       " */\n",
       "function simpleKeys(original) {\n",
       "    return Object.keys(original).reduce(function (obj, key) {\n",
       "        if (typeof original[key] !== 'object') {\n",
       "            obj[key] = original[key];\n",
       "        }\n",
       "        return obj;\n",
       "    }, {});\n",
       "}\n",
       "\n",
       "mpl.figure.prototype.mouse_event = function (event, name) {\n",
       "    var canvas_pos = mpl.findpos(event);\n",
       "\n",
       "    if (name === 'button_press') {\n",
       "        this.canvas.focus();\n",
       "        this.canvas_div.focus();\n",
       "    }\n",
       "\n",
       "    var x = canvas_pos.x * this.ratio;\n",
       "    var y = canvas_pos.y * this.ratio;\n",
       "\n",
       "    this.send_message(name, {\n",
       "        x: x,\n",
       "        y: y,\n",
       "        button: event.button,\n",
       "        step: event.step,\n",
       "        guiEvent: simpleKeys(event),\n",
       "    });\n",
       "\n",
       "    /* This prevents the web browser from automatically changing to\n",
       "     * the text insertion cursor when the button is pressed.  We want\n",
       "     * to control all of the cursor setting manually through the\n",
       "     * 'cursor' event from matplotlib */\n",
       "    event.preventDefault();\n",
       "    return false;\n",
       "};\n",
       "\n",
       "mpl.figure.prototype._key_event_extra = function (_event, _name) {\n",
       "    // Handle any extra behaviour associated with a key event\n",
       "};\n",
       "\n",
       "mpl.figure.prototype.key_event = function (event, name) {\n",
       "    // Prevent repeat events\n",
       "    if (name === 'key_press') {\n",
       "        if (event.key === this._key) {\n",
       "            return;\n",
       "        } else {\n",
       "            this._key = event.key;\n",
       "        }\n",
       "    }\n",
       "    if (name === 'key_release') {\n",
       "        this._key = null;\n",
       "    }\n",
       "\n",
       "    var value = '';\n",
       "    if (event.ctrlKey && event.key !== 'Control') {\n",
       "        value += 'ctrl+';\n",
       "    }\n",
       "    else if (event.altKey && event.key !== 'Alt') {\n",
       "        value += 'alt+';\n",
       "    }\n",
       "    else if (event.shiftKey && event.key !== 'Shift') {\n",
       "        value += 'shift+';\n",
       "    }\n",
       "\n",
       "    value += 'k' + event.key;\n",
       "\n",
       "    this._key_event_extra(event, name);\n",
       "\n",
       "    this.send_message(name, { key: value, guiEvent: simpleKeys(event) });\n",
       "    return false;\n",
       "};\n",
       "\n",
       "mpl.figure.prototype.toolbar_button_onclick = function (name) {\n",
       "    if (name === 'download') {\n",
       "        this.handle_save(this, null);\n",
       "    } else {\n",
       "        this.send_message('toolbar_button', { name: name });\n",
       "    }\n",
       "};\n",
       "\n",
       "mpl.figure.prototype.toolbar_button_onmouseover = function (tooltip) {\n",
       "    this.message.textContent = tooltip;\n",
       "};\n",
       "\n",
       "///////////////// REMAINING CONTENT GENERATED BY embed_js.py /////////////////\n",
       "// prettier-ignore\n",
       "var _JSXTOOLS_RESIZE_OBSERVER=function(A){var t,i=new WeakMap,n=new WeakMap,a=new WeakMap,r=new WeakMap,o=new Set;function s(e){if(!(this instanceof s))throw new TypeError(\"Constructor requires 'new' operator\");i.set(this,e)}function h(){throw new TypeError(\"Function is not a constructor\")}function c(e,t,i,n){e=0 in arguments?Number(arguments[0]):0,t=1 in arguments?Number(arguments[1]):0,i=2 in arguments?Number(arguments[2]):0,n=3 in arguments?Number(arguments[3]):0,this.right=(this.x=this.left=e)+(this.width=i),this.bottom=(this.y=this.top=t)+(this.height=n),Object.freeze(this)}function d(){t=requestAnimationFrame(d);var s=new WeakMap,p=new Set;o.forEach((function(t){r.get(t).forEach((function(i){var r=t instanceof window.SVGElement,o=a.get(t),d=r?0:parseFloat(o.paddingTop),f=r?0:parseFloat(o.paddingRight),l=r?0:parseFloat(o.paddingBottom),u=r?0:parseFloat(o.paddingLeft),g=r?0:parseFloat(o.borderTopWidth),m=r?0:parseFloat(o.borderRightWidth),w=r?0:parseFloat(o.borderBottomWidth),b=u+f,F=d+l,v=(r?0:parseFloat(o.borderLeftWidth))+m,W=g+w,y=r?0:t.offsetHeight-W-t.clientHeight,E=r?0:t.offsetWidth-v-t.clientWidth,R=b+v,z=F+W,M=r?t.width:parseFloat(o.width)-R-E,O=r?t.height:parseFloat(o.height)-z-y;if(n.has(t)){var k=n.get(t);if(k[0]===M&&k[1]===O)return}n.set(t,[M,O]);var S=Object.create(h.prototype);S.target=t,S.contentRect=new c(u,d,M,O),s.has(i)||(s.set(i,[]),p.add(i)),s.get(i).push(S)}))})),p.forEach((function(e){i.get(e).call(e,s.get(e),e)}))}return s.prototype.observe=function(i){if(i instanceof window.Element){r.has(i)||(r.set(i,new Set),o.add(i),a.set(i,window.getComputedStyle(i)));var n=r.get(i);n.has(this)||n.add(this),cancelAnimationFrame(t),t=requestAnimationFrame(d)}},s.prototype.unobserve=function(i){if(i instanceof window.Element&&r.has(i)){var n=r.get(i);n.has(this)&&(n.delete(this),n.size||(r.delete(i),o.delete(i))),n.size||r.delete(i),o.size||cancelAnimationFrame(t)}},A.DOMRectReadOnly=c,A.ResizeObserver=s,A.ResizeObserverEntry=h,A}; // eslint-disable-line\n",
       "mpl.toolbar_items = [[\"Home\", \"Reset original view\", \"fa fa-home icon-home\", \"home\"], [\"Back\", \"Back to previous view\", \"fa fa-arrow-left icon-arrow-left\", \"back\"], [\"Forward\", \"Forward to next view\", \"fa fa-arrow-right icon-arrow-right\", \"forward\"], [\"\", \"\", \"\", \"\"], [\"Pan\", \"Left button pans, Right button zooms\\nx/y fixes axis, CTRL fixes aspect\", \"fa fa-arrows icon-move\", \"pan\"], [\"Zoom\", \"Zoom to rectangle\\nx/y fixes axis, CTRL fixes aspect\", \"fa fa-square-o icon-check-empty\", \"zoom\"], [\"\", \"\", \"\", \"\"], [\"Download\", \"Download plot\", \"fa fa-floppy-o icon-save\", \"download\"]];\n",
       "\n",
       "mpl.extensions = [\"eps\", \"jpeg\", \"pgf\", \"pdf\", \"png\", \"ps\", \"raw\", \"svg\", \"tif\"];\n",
       "\n",
       "mpl.default_extension = \"png\";/* global mpl */\n",
       "\n",
       "var comm_websocket_adapter = function (comm) {\n",
       "    // Create a \"websocket\"-like object which calls the given IPython comm\n",
       "    // object with the appropriate methods. Currently this is a non binary\n",
       "    // socket, so there is still some room for performance tuning.\n",
       "    var ws = {};\n",
       "\n",
       "    ws.binaryType = comm.kernel.ws.binaryType;\n",
       "    ws.readyState = comm.kernel.ws.readyState;\n",
       "    function updateReadyState(_event) {\n",
       "        if (comm.kernel.ws) {\n",
       "            ws.readyState = comm.kernel.ws.readyState;\n",
       "        } else {\n",
       "            ws.readyState = 3; // Closed state.\n",
       "        }\n",
       "    }\n",
       "    comm.kernel.ws.addEventListener('open', updateReadyState);\n",
       "    comm.kernel.ws.addEventListener('close', updateReadyState);\n",
       "    comm.kernel.ws.addEventListener('error', updateReadyState);\n",
       "\n",
       "    ws.close = function () {\n",
       "        comm.close();\n",
       "    };\n",
       "    ws.send = function (m) {\n",
       "        //console.log('sending', m);\n",
       "        comm.send(m);\n",
       "    };\n",
       "    // Register the callback with on_msg.\n",
       "    comm.on_msg(function (msg) {\n",
       "        //console.log('receiving', msg['content']['data'], msg);\n",
       "        var data = msg['content']['data'];\n",
       "        if (data['blob'] !== undefined) {\n",
       "            data = {\n",
       "                data: new Blob(msg['buffers'], { type: data['blob'] }),\n",
       "            };\n",
       "        }\n",
       "        // Pass the mpl event to the overridden (by mpl) onmessage function.\n",
       "        ws.onmessage(data);\n",
       "    });\n",
       "    return ws;\n",
       "};\n",
       "\n",
       "mpl.mpl_figure_comm = function (comm, msg) {\n",
       "    // This is the function which gets called when the mpl process\n",
       "    // starts-up an IPython Comm through the \"matplotlib\" channel.\n",
       "\n",
       "    var id = msg.content.data.id;\n",
       "    // Get hold of the div created by the display call when the Comm\n",
       "    // socket was opened in Python.\n",
       "    var element = document.getElementById(id);\n",
       "    var ws_proxy = comm_websocket_adapter(comm);\n",
       "\n",
       "    function ondownload(figure, _format) {\n",
       "        window.open(figure.canvas.toDataURL());\n",
       "    }\n",
       "\n",
       "    var fig = new mpl.figure(id, ws_proxy, ondownload, element);\n",
       "\n",
       "    // Call onopen now - mpl needs it, as it is assuming we've passed it a real\n",
       "    // web socket which is closed, not our websocket->open comm proxy.\n",
       "    ws_proxy.onopen();\n",
       "\n",
       "    fig.parent_element = element;\n",
       "    fig.cell_info = mpl.find_output_cell(\"<div id='\" + id + \"'></div>\");\n",
       "    if (!fig.cell_info) {\n",
       "        console.error('Failed to find cell for figure', id, fig);\n",
       "        return;\n",
       "    }\n",
       "    fig.cell_info[0].output_area.element.on(\n",
       "        'cleared',\n",
       "        { fig: fig },\n",
       "        fig._remove_fig_handler\n",
       "    );\n",
       "};\n",
       "\n",
       "mpl.figure.prototype.handle_close = function (fig, msg) {\n",
       "    var width = fig.canvas.width / fig.ratio;\n",
       "    fig.cell_info[0].output_area.element.off(\n",
       "        'cleared',\n",
       "        fig._remove_fig_handler\n",
       "    );\n",
       "    fig.resizeObserverInstance.unobserve(fig.canvas_div);\n",
       "\n",
       "    // Update the output cell to use the data from the current canvas.\n",
       "    fig.push_to_output();\n",
       "    var dataURL = fig.canvas.toDataURL();\n",
       "    // Re-enable the keyboard manager in IPython - without this line, in FF,\n",
       "    // the notebook keyboard shortcuts fail.\n",
       "    IPython.keyboard_manager.enable();\n",
       "    fig.parent_element.innerHTML =\n",
       "        '<img src=\"' + dataURL + '\" width=\"' + width + '\">';\n",
       "    fig.close_ws(fig, msg);\n",
       "};\n",
       "\n",
       "mpl.figure.prototype.close_ws = function (fig, msg) {\n",
       "    fig.send_message('closing', msg);\n",
       "    // fig.ws.close()\n",
       "};\n",
       "\n",
       "mpl.figure.prototype.push_to_output = function (_remove_interactive) {\n",
       "    // Turn the data on the canvas into data in the output cell.\n",
       "    var width = this.canvas.width / this.ratio;\n",
       "    var dataURL = this.canvas.toDataURL();\n",
       "    this.cell_info[1]['text/html'] =\n",
       "        '<img src=\"' + dataURL + '\" width=\"' + width + '\">';\n",
       "};\n",
       "\n",
       "mpl.figure.prototype.updated_canvas_event = function () {\n",
       "    // Tell IPython that the notebook contents must change.\n",
       "    IPython.notebook.set_dirty(true);\n",
       "    this.send_message('ack', {});\n",
       "    var fig = this;\n",
       "    // Wait a second, then push the new image to the DOM so\n",
       "    // that it is saved nicely (might be nice to debounce this).\n",
       "    setTimeout(function () {\n",
       "        fig.push_to_output();\n",
       "    }, 1000);\n",
       "};\n",
       "\n",
       "mpl.figure.prototype._init_toolbar = function () {\n",
       "    var fig = this;\n",
       "\n",
       "    var toolbar = document.createElement('div');\n",
       "    toolbar.classList = 'btn-toolbar';\n",
       "    this.root.appendChild(toolbar);\n",
       "\n",
       "    function on_click_closure(name) {\n",
       "        return function (_event) {\n",
       "            return fig.toolbar_button_onclick(name);\n",
       "        };\n",
       "    }\n",
       "\n",
       "    function on_mouseover_closure(tooltip) {\n",
       "        return function (event) {\n",
       "            if (!event.currentTarget.disabled) {\n",
       "                return fig.toolbar_button_onmouseover(tooltip);\n",
       "            }\n",
       "        };\n",
       "    }\n",
       "\n",
       "    fig.buttons = {};\n",
       "    var buttonGroup = document.createElement('div');\n",
       "    buttonGroup.classList = 'btn-group';\n",
       "    var button;\n",
       "    for (var toolbar_ind in mpl.toolbar_items) {\n",
       "        var name = mpl.toolbar_items[toolbar_ind][0];\n",
       "        var tooltip = mpl.toolbar_items[toolbar_ind][1];\n",
       "        var image = mpl.toolbar_items[toolbar_ind][2];\n",
       "        var method_name = mpl.toolbar_items[toolbar_ind][3];\n",
       "\n",
       "        if (!name) {\n",
       "            /* Instead of a spacer, we start a new button group. */\n",
       "            if (buttonGroup.hasChildNodes()) {\n",
       "                toolbar.appendChild(buttonGroup);\n",
       "            }\n",
       "            buttonGroup = document.createElement('div');\n",
       "            buttonGroup.classList = 'btn-group';\n",
       "            continue;\n",
       "        }\n",
       "\n",
       "        button = fig.buttons[name] = document.createElement('button');\n",
       "        button.classList = 'btn btn-default';\n",
       "        button.href = '#';\n",
       "        button.title = name;\n",
       "        button.innerHTML = '<i class=\"fa ' + image + ' fa-lg\"></i>';\n",
       "        button.addEventListener('click', on_click_closure(method_name));\n",
       "        button.addEventListener('mouseover', on_mouseover_closure(tooltip));\n",
       "        buttonGroup.appendChild(button);\n",
       "    }\n",
       "\n",
       "    if (buttonGroup.hasChildNodes()) {\n",
       "        toolbar.appendChild(buttonGroup);\n",
       "    }\n",
       "\n",
       "    // Add the status bar.\n",
       "    var status_bar = document.createElement('span');\n",
       "    status_bar.classList = 'mpl-message pull-right';\n",
       "    toolbar.appendChild(status_bar);\n",
       "    this.message = status_bar;\n",
       "\n",
       "    // Add the close button to the window.\n",
       "    var buttongrp = document.createElement('div');\n",
       "    buttongrp.classList = 'btn-group inline pull-right';\n",
       "    button = document.createElement('button');\n",
       "    button.classList = 'btn btn-mini btn-primary';\n",
       "    button.href = '#';\n",
       "    button.title = 'Stop Interaction';\n",
       "    button.innerHTML = '<i class=\"fa fa-power-off icon-remove icon-large\"></i>';\n",
       "    button.addEventListener('click', function (_evt) {\n",
       "        fig.handle_close(fig, {});\n",
       "    });\n",
       "    button.addEventListener(\n",
       "        'mouseover',\n",
       "        on_mouseover_closure('Stop Interaction')\n",
       "    );\n",
       "    buttongrp.appendChild(button);\n",
       "    var titlebar = this.root.querySelector('.ui-dialog-titlebar');\n",
       "    titlebar.insertBefore(buttongrp, titlebar.firstChild);\n",
       "};\n",
       "\n",
       "mpl.figure.prototype._remove_fig_handler = function (event) {\n",
       "    var fig = event.data.fig;\n",
       "    if (event.target !== this) {\n",
       "        // Ignore bubbled events from children.\n",
       "        return;\n",
       "    }\n",
       "    fig.close_ws(fig, {});\n",
       "};\n",
       "\n",
       "mpl.figure.prototype._root_extra_style = function (el) {\n",
       "    el.style.boxSizing = 'content-box'; // override notebook setting of border-box.\n",
       "};\n",
       "\n",
       "mpl.figure.prototype._canvas_extra_style = function (el) {\n",
       "    // this is important to make the div 'focusable\n",
       "    el.setAttribute('tabindex', 0);\n",
       "    // reach out to IPython and tell the keyboard manager to turn it's self\n",
       "    // off when our div gets focus\n",
       "\n",
       "    // location in version 3\n",
       "    if (IPython.notebook.keyboard_manager) {\n",
       "        IPython.notebook.keyboard_manager.register_events(el);\n",
       "    } else {\n",
       "        // location in version 2\n",
       "        IPython.keyboard_manager.register_events(el);\n",
       "    }\n",
       "};\n",
       "\n",
       "mpl.figure.prototype._key_event_extra = function (event, _name) {\n",
       "    var manager = IPython.notebook.keyboard_manager;\n",
       "    if (!manager) {\n",
       "        manager = IPython.keyboard_manager;\n",
       "    }\n",
       "\n",
       "    // Check for shift+enter\n",
       "    if (event.shiftKey && event.which === 13) {\n",
       "        this.canvas_div.blur();\n",
       "        // select the cell after this one\n",
       "        var index = IPython.notebook.find_cell_index(this.cell_info[0]);\n",
       "        IPython.notebook.select(index + 1);\n",
       "    }\n",
       "};\n",
       "\n",
       "mpl.figure.prototype.handle_save = function (fig, _msg) {\n",
       "    fig.ondownload(fig, null);\n",
       "};\n",
       "\n",
       "mpl.find_output_cell = function (html_output) {\n",
       "    // Return the cell and output element which can be found *uniquely* in the notebook.\n",
       "    // Note - this is a bit hacky, but it is done because the \"notebook_saving.Notebook\"\n",
       "    // IPython event is triggered only after the cells have been serialised, which for\n",
       "    // our purposes (turning an active figure into a static one), is too late.\n",
       "    var cells = IPython.notebook.get_cells();\n",
       "    var ncells = cells.length;\n",
       "    for (var i = 0; i < ncells; i++) {\n",
       "        var cell = cells[i];\n",
       "        if (cell.cell_type === 'code') {\n",
       "            for (var j = 0; j < cell.output_area.outputs.length; j++) {\n",
       "                var data = cell.output_area.outputs[j];\n",
       "                if (data.data) {\n",
       "                    // IPython >= 3 moved mimebundle to data attribute of output\n",
       "                    data = data.data;\n",
       "                }\n",
       "                if (data['text/html'] === html_output) {\n",
       "                    return [cell, data, j];\n",
       "                }\n",
       "            }\n",
       "        }\n",
       "    }\n",
       "};\n",
       "\n",
       "// Register the function which deals with the matplotlib target/channel.\n",
       "// The kernel may be null if the page has been refreshed.\n",
       "if (IPython.notebook.kernel !== null) {\n",
       "    IPython.notebook.kernel.comm_manager.register_target(\n",
       "        'matplotlib',\n",
       "        mpl.mpl_figure_comm\n",
       "    );\n",
       "}\n"
      ],
      "text/plain": [
       "<IPython.core.display.Javascript object>"
      ]
     },
     "metadata": {},
     "output_type": "display_data"
    },
    {
     "data": {
      "text/html": [
       "<img src=\"data:image/png;base64,iVBORw0KGgoAAAANSUhEUgAAAlgAAAJYCAYAAAC+ZpjcAAAgAElEQVR4nOydeXhURdrFKxASlrDvYkANGAFZBAZwQUBBwQXBjKAigoC7BNERkGUYdVREFAX9XFARxwUdRIwoKkRUENFBBNlkEwRkkSUgkBBC+nx/tGkTUtXpW11365zf89xHSfpWvXW67lsn99atEiCEEEIIIUYRbgdACCGEEBJr0GARQgghhBiGBosQQgghxDA0WIQQQgghhqHBIoQQQggxDA0WIYQQQohhaLAIIYQQQgxDg0UIIYQQYhgaLEIIIYQQw9BgEUIIIYQYhgaLEEIIIcQwNFiEEEIIIYahwSKEEEIIMQwNFiGEEEKIYWiwCCGEEEIMQ4NFCCGEEGIYGixCCCGEEMPQYBFCCCGEGIYGixBCCCHEMDRYhBBCCCGGocEihBBCCDEMDRYhhBBCiGFosAghhBBCDEODRQghhBBiGBosQgghhBDD0GARQgghhBiGBosQQgghxDA0WIQQQgghhqHBIoQQQggxDA0WIYQQQohhaLAIIYQQQgxDg0UIIYQQYhgaLEIIIYQQw9BgEUIIIYQYhgaLEEIIIcQwNFiEEEIIIYahwSKEEEIIMQwNFiGEEEKIYWiwCCGEEEIMQ4NFCCGEEGIYGixCYoTOnTtDCIEJEya4HYoWr732Gjp27IjKlStDCAEhBKZMmeJ2WLYzY8YMCCHQqFEjt0MhhBiEBosQDxEIBPDee++hd+/eaNiwIcqXL49KlSrhrLPOwoUXXogRI0Zgzpw5OHz4cLFz/WywJk+eHDJV8fHxqFOnDurWrYuXX37Z7dC02bp1KyZMmFDi90GDRUhsQoNFiEfIysoKmaTCZqNGjRqIj48v8vMZM2YUO3/AgAFITU3FtGnTnA8+SurWrQshBNLT03HixAm3wzHCokWLQt9XOObMmYPU1FRccsklDkVGCHECGixCPMLVV18NIQTKli2L+++/Hxs3bkR+fj4AIC8vD6tWrcITTzyBVq1aSQ2WX/n9999DRmT16tVuh2OMSA0WISQ24ZVPiAfYuHFjaDB+/PHHS/x8dna2A1E5w7Zt20Jt37p1q9vhGIMGi5DSDa98QjzAe++9FxqM161bp1VGuDlYjRo1Cj1azM3NxaRJk9CyZUtUrFgRVapUQdeuXTF//vwS61iyZAn69++Phg0bIjExEVWqVMHf/vY3TJw4EUeOHLEUb2EDIjsKz0kqHL+KgQMHQgiBgQMH2tb+ZcuWYdCgQUhJSUGFChVQuXJlNG3aFLfccgs+/fTTYvWpjsIxRjIHa/PmzbjjjjvQuHFjlC9fHpUrV8Z5552Hhx56SDofDyhu8DZt2oRbbrkFp59+OhISEtCgQQMMHToUO3fuLLHdhBDr0GAR4gEKG6zPP/9cq4xIDNa0adPQoUMHCCFQrlw5JCUlheqNi4vDq6++Ki07Pz8f6enpRUxCUlISypYtG/p3amoqtm3bFnG833zzDerWrYtatWqFyqhVqxbq1q2LunXrol27dsXij9Zg6bb/5MmTxdpfqVIlVK9eHXFxcRBCoGrVqqHPt2vXDtWrVw99tqBNBUd6enrosyUZrHfffReJiYmhsipXrlzk38nJyVJTXthgffHFF6G2Vq5cucicvtNOO40mixAboMEixANs3bo1NFC3aNECGzZssFxGJAarevXqaNCgAebOnRuaTP7zzz+jY8eOIdN06NChYuePGzcOQgjUqVMHzz//PA4cOAAAOHHiBBYtWoTzzjsPQgi0adMmNG/MSttLekRoymDptn/kyJGhGAcPHlzk+zl06BDmzp2Lfv36FTkn0keE4QzWDz/8gHLlykEIgQsvvBA//fQTgKDhzcjIQP369SGEQEpKSrE7iIXrr169Onr16oX169cDAHJzc/Huu++GlsQYMGBA2BgJIdahwSLEI9x6661F7qacd955uOuuu/Dqq69i9erVCAQCYc+PxGAlJiaGBtnC/P777yhfvjyEEHjzzTeL/G7r1q0oW7YsKlSogJUrV0rr/uOPP3D66adDCIEPPvgg8kbDWYOl0/4NGzagTJkyEEJg5MiREbfLhMHq0aMHhBBo3Lgxjh07Vuz3K1asCN2NevLJJ5X1d+3aVWp8p06dCiEEKlSogLy8vIjbRggpGRosQjxCXl4exo8fj0qVKknn7dSpUwcjRozAnj17pOdHYrD69++vrL9r165SEzFhwgQIIdCnT5+w8d9zzz0QQuCOO+4oubGFcNJg6bR/zJgxEEKgZs2ayMnJiaRJAKI3WFlZWaG7mi+99JLy/L59+4buHqrqX7BggfTcX3/9Neq5f4QQOTRYhHiMQ4cO4T//+Q+GDh2KVq1aISEhoYjRqlWrFr777rti50VisKZOnaqst3///hBCYOjQoUV+3q1bt9Cco1PnEhU+Coxhz549LbXXSYOl0/4uXbpACIHrr78+kuaEiNZgZWZmhs7fsmWL8vzp06dDiOCaaYXXECtc/x9//CE9Ny8vL/SZJUuWRN44QkiJ0GAR4nFycnKwYMGC0DpZQgicfvrpxe6mRPoWoQqVQWnWrJn0jprq6Ny5s6X2OWmwdM4/55xzIITAqFGjSm5MIaI1WO+8807o/OPHjyvPnz9/fuhzhe9uRlp/wWcWLVpUYpsIIZFDg0WIjygwAbK5TnYZrNTUVC2DESleN1hNmzalwSKEWIYGixAf8c0334QGxIkTJxb5nV0Gq6Bcq4/IIiUSg5WSkgIhBF544QVlOb1797bFYBXMzXLzEeHmzZuV50fyiDAcNFiE2AMNFiE+YtWqVaEBccqUKUV+Z5fBKpjkXatWLUuTvCMlEoPVrl07CCEwZswY6e/z8/NDbzGaNlhjx47VmuT+1VdfhdoV7g3QcJPcC95eDDfJvV+/fhBCoG3btkV+ToNFiLvQYBHiAX755ZeI1r667777QgPiV199VeR3dhmszZs3h5YCKGmZgtzcXMsrukdisIYMGQIhBJo2bSo1K6+99lqoDNMGa9OmTaEFVa0s0/Djjz+GYjp48KDyc+GWaejZsyeEUC/TsHLlytB3M3ny5CK/o8EixF1osAjxAB999BHKlCmDK664AjNnzixiNE6cOIEVK1Zg0KBBocGwffv2xdY1sstgAcBDDz0UqnvAgAFFNmXOy8vDjz/+iIceegjJyclYvHixpbZHYrAWLlwY+szQoUOxf/9+AMDhw4fx9NNPIyEhATVq1LDFYAHA6NGjQ/UPGTIEGzduDP3u8OHDmDVrFnr37l3knGPHjoXeAJ00aZLyLlakC41edNFFRRYa/fjjj3HaaadBiJIXGg0HDRYh9kCDRYgH+PTTT0MDXcFRYBoK1kIqONq0aYPffvutWBl2GqxAIIDx48cXiaVChQqoWbNmke1yhLD+un8kBgsABgwYUKSeatWqhR6hDRs2zLZJ7kBwq5y77767SP1JSUnKrXIKKLjzJoRAxYoV0bBhQzRq1Aj3339/6DMlbZUza9asIkt1VKlSJbQoqhCRbZUTDhosQuyBBosQj7Bp0yY8++yzuO6669C0aVNUrlwZZcqUQaVKldCkSRP07dsXs2bNUm5FY6fBKmD16tW466670LRpUyQlJSE+Ph61atXCBRdcgAceeABLly612OrIDVZ+fj6effZZtG7dGhUqVECVKlXQqVMnvPfeeyXGb6r9p252Xa1aNTRv3hxDhgzBwoULi33++PHj+Ne//oUWLVqgYsWK0seYkWz2vGnTJtx+++1ISUlBYmIikpKS0Lp1a0ubPaugwSLEHmiwCCGEEEIMQ4NFCCGEEGIYGixCCCGEEMPQYBFCCCGEGMY1g7V8+XI8/vjj6NOnDxo0aBDRZEwVBRNYVcf69esNR08IIYQQosY1g3XNNddIzZAOBQZr4MCB0mPXrl2GoyeEEEIIUeOawZo4cSLGjx+PjIwM7N69G4mJiVEbLEIIIYQQL+AZV0KDRQghhJBYwTOuhAaLEEIIIbGCZ1yJCYM1adIk3H777UhPT8dLL72E33//3XCUhBBCCCElE1MG69SjYsWKePXVVw1HSgghhBASnpgwWMOGDcOcOXPw66+/Ijs7G2vWrMF9992HsmXLIi4uDnPnzo24rGbNmkmPsmXLIikpSfl7Hjx48ODBg4f8SEpKQt26dbXGeL8SEwZLxcsvvwwhBFJTUyM+R9U5ypQpg/j4eDRq1IiHhSM5ORnJycmux+Gng5pRN6cOakbdnDri4+ORlJRkdIz3OjFtsPLz81GnTh0IIbB169aoymrWrBkaNWpkJK7SRGZmJjIzM90Ow1dQMz2om3WomR7UzTqNGjVCs2bN3A7DUWLaYAHA+eefDyEEli5dGlU5NFh6MBFZh5rpQd2sQ830oG7WocFyEbsM1jnnnAMhBFatWhVVOTRYejARWYea6UHdrEPN9KBu1qHBchE7DNaaNWsQFxeHihUrIjc3N6qyaLD0YCKyDjXTg7pZh5rpQd2sQ4PlIiUZrGnTpiE1NRWjR48u8vOPP/5Y2tFXrVqFpk2bQgiB9PT0qOOjwdKDicg61EwP6mYdaqYHdbMODZaDzJs3Dx06dAgdcXFxEEIU+dm8efNCn58wYUJoQ+fCFPy8UaNG6NWrF66//nq0b98e8fHxEEKgS5cuyM7OjjpeGiw9mIisQ830oG7WoWZ6UDfr0GA5yIwZM6SLgxY+ZsyYEfq8ymAtXboUgwcPRosWLVCzZk3Ex8ejRo0a6NKlC6ZPn46TJ08aiZcGSw8mIutQMz2om3WomR7UzTo0WEQJDZYeTETWoWZ6xKpugUAA+fn5thwFmtlVfqwepVm3QCCg1Y9psIgSGiw9YnXQsxNqpkcs6ZadnY3du3dj48aNWLdunW3HsmXLsGzZMlvriMWjtOu2ceNG7N6929L0GxosooQGS49YGvScgprpESu6HT582LGBcvXq1Vi9erXrA7bfDur213H48OGI+jUNFlFCg6VHrAx6TkLN9IgF3bKzs0MD1/bt23HkyBHk5eXZ9rgnKysLWVlZrj928ttRmnXLy8vDkSNHsH379lBfjeROFg0WUUKDpUcsDHpOQ830iAXddu/eHTJXunNdrHD48OGI70CQv6BuwbmBBSZr9+7dJX6eBosoocHSIxYGPaehZnrEgm4Fc66OHDniSH00CnpQtyBHjhzBunXBOVklQYNFlNBg6RELg57TUDM9/K5bIBAIPXLJy8tzpE4aBT2oW5C8vLxQny3pjisNFlFCg6WH3wc9N6Bmevhdt/z8/NBglZ+f70idNAp6ULcgVvosDRZRQoOlh98HPTegZnr4XTcaLP9A3YLQYIWHBitCaLD08Pug5wbUTA+/60aD5R+oWxAarPDQYEUIDZYefh/03ICa6eF33Wiw/AN1C0KDFR4arAihwdLD74OeG1AzPfyuGw2Wf4hUt4I9dydMmBB1nY0aNYIQ9g/ZAwcOhBACixYtKvGzNFjhocGKEBosPfw+6LkBNdPD77rRYMnZunUrhBDo3LmzK/UvWrQIQggMHDgw9DMarCA0WOGhwYoQGiw9/D7ouQE108PvurlisPbuRfaLLwJpacCllwb/O3MmkJPjSP2RQIMVhAbLf9BgRQgNlh5+H/TcgJrp4XfdHDdYGRnIr1kTEKL4UasWkJFhfwwRQIMVhAbLf9BgRQgNlh5+H/TcgJrp4XfdLBmsrVujO6ZPB8qUkZurgqNMmfAma8eO8HUYYMKECRBCSI/ChgcADhw4gNGjR6Np06YoX748qlSpgq5du+Kjjz6Slr169Wr0798fZ555JhITE1GrVi20atUKw4cPx65duwD8ZTZkx+jRo0uMX2Wwdu3ahSeeeAIXX3wxTjvtNJQrVw5169ZFnz598P3330vLKjBYgUAAzzzzDJo2bYrExEScdtppGDZsGLKysqTnBQIBvP322+jatSuqVauGxMREnHPOOZgwYQKOHTtW7PM0WOagwYoQGiw9/D7ouQE108PvulkyWOGMkcmjVi3148JGjcKfa4APPvgAaWlpEEKgbt26GDhwYOiYPn166HMbNmxAcnIyhBA444wzcM011+CSSy5BxYoVIYTAk08+WaTc5cuXo3z58hBCoGXLlujbty+uuuoqNGvWrIi5mD59Oi6//HIIIZCSkhKq+8Ybb8Rbb71VYvwqg/XCCy9ACIHU1FT06NEDffv2xXnnnQchBMqVK4fPPvusWFkFBuvuu+9GuXLl0L17d/Tt2xd169YNtePUu2r5+fm44YYbIIRAUlISunTpgj59+oS0at++fbGNmmmwzEGDFSE0WHr4fdBzA2qmh99186TBEgJ44w15DA4YLKDkR4QnT55EixYtIITApEmTimi3adMmnHnmmShbtixWr14d+vnNN98MIQQmT55crLz169eH7mAB9jwi/Omnn7BmzZpin//000+RkJCAlJSUYlvPFBisKlWqYPny5aGfHzlyBJdccgmEEBg+fHiRcyZNmgQhBLp06VJkQ+bc3FwMGTIEQgiMGjWqyDk0WOagwYoQGiw9/D7ouQE108PvunnWYKWlyWPwiMH64IMPIIRAmiLOOXPmQAiB9PT00M969uwJIQRWrlxZYv1Oz8Hq378/hBD46aefivy8wGCNGTOm2Dlr165FXFwckpKSkPPnHce8vDzUqlULlSpVwp49e4qdk52djXr16qF69epF+hsNljlosCKEBksPvw96bkDN9PC7bp41WJdeKo/BIwbrzjvvhBBC+chu3759EEKgY8eOoZ+NGzcOQghceOGFWLRoUdjNte0yWMePH8fcuXMxZswY3HrrraHHjy1btoQQAu+//36RzxcYrFONVwGtW7eGEAJLly4FAHz33XcQQqB79+7K+K688koIIfDzzz+HfkaDZQ4arAihwdLD74OeG1AzPfyum2cNlsfvYBXcjSrpaNy4ceicw4cPo0uXLqHfJSUloXv37njmmWdw6NChIuXb9YjwjDPOCBvv66+/XuScAoOlqrd3794QQmD27NkAgHfffTciXYQQWLJkSagcGixz0GBFCA2WHn4f9NyAmunhd908a7A8PgerYBJ6jx49ikyCP/W4//77i5wXCASwePFijBw5Eu3bt0fZsmVRMJl+48aNoc+ZNliBQADnnHMOhBC44447sHLlSvzxxx+hOVcPPvgghBCYMWNGkbKsGqx33nknZCzD6TJw4ECsX78+VA4NljlosCKEBksPvw96bkDN9PC7bo4t0/Dzz0CNGpGZq3BvETqwTEOwqeENVsFk7QJjocvevXtDb9xdd911oZ+bNljr1q2DEALt2rWTntOvX7+wBkv1iLDgLcSCR4SLFy+GEAJXXXVViXEWhgbLHDRYEUKDpYffBz03oGZ6+F03RxcazciIfh0sh/jtt99QMF9KxqxZsyCEQP/+/aOua8OGDRBCoGnTpqGfffPNN8XKj8ZgFZTXu3fvYp8/ePAgatSoEdZgjRs3rth569evD01yL1h24fjx46hatSoqV66MAwcOlBhrATRY5qDBihAaLD38Pui5ATXTw++6cSV3Obm5uShXrhzq1auHkydPFvt9Xl5eaP2qhx9+GMePHy/y+0AggCVLlhSZZ/TCCy/gl19+KVbWlClTIITAZZddFvpZwR20wnecojFYe/fuRZkyZVClSpUijyJzcnLQt2/f0LwolcGqWrUqVqxYEfr5sWPH0K1bNwghMGzYsCLnPProo6G7f1u2bCkW386dO/HGKY+AabDMQYMVITRYevh90HMDaqaH33VzbS/Cl14quhfhG294ai9CALj66qshhEDz5s0xYMAADBkyBK+99lro9xs3bsSZZ54JIQTq1KmDbt264cYbb8Rll12GOnXqQAiBKVOmhD7fqlUrCCHQrFkzpKWloV+/fqGflS9fvogZAxB6s+9vf/sbBg0ahAEDBuCdd94pMW7VJPdbb70VQghUqFABV155Jf7+97+jbt26qFWrFgYNGhTWYBUsNHr55Zejb9++qFevXkibUyfo5+fnY8CAARBCICEhAR06dMD111+Pa6+9Fs2bN0dcXBxatWpV5BwaLHPQYEUIDZYefh/03ICa6eF33VwxWBHeiXGbvXv3YsCAAahXr15oMvqpW+UcOnQI//73v9GmTRskJSWhfPnyOOOMM3D55Zfj+eefx759+0KfzcjIwODBg9G8eXNUq1YNFStWxNlnn42hQ4cWWbKggE2bNqF3796oWbMmypQpAyGi2yrn5MmTeOqpp9CsWTOUL18edevWRf/+/bFt27bQ9kAqg5Wfn4/JkyfjnHPOQWJiIurXr4+7774bBw8eVMbx4Ycf4sorr0SdOnVQrlw51KlTB23btsXIkSPxww8/FPksDZY5aLAihAZLD78Pem5AzfTwu240WP6BugWhwQoPDVaE0GDp4fdBzw2omR5+140Gyz9QtyA0WOGhwYoQGiw9/D7ouQE108PvutFg+QfqFoQGKzw0WBFCg6WH3wc9N6BmevhdNxos/0DdgtBghYcGK0JosPTw+6DnBtRMD7/rRoPlH6hbEBqs8NBgRQgNlh5+H/TcgJrp4XfdaLD8A3ULQoMVHhqsCKHB0sPvg54bUDM9/K4bDZZ/oG5BaLDCQ4MVITRYevh90HMDaqaH33WjwfIP1C0IDVZ4aLAihAZLD78Pem5AzfTwu26BQCA0WJ04ccKROmkU9KBuQU6cOBHqs4FAIOxnabCIEhosPfw+6LkBNdMjFnTbsmUL1q1bh/379ztSH42CHtQtyP79+7Fu3TrpPoenQoNFlNBg6RELg57TUDM9YkG3gwcPhu4I7NmzB8eOHcPJkyeRn59vy5GVlYWsrCzbyo/VozTrdvLkSRw7dgx79uwJ9dVw2/QUQINFlNBg6RELg57TUDM9YkG3/Px87Nq1KzRw2X2sXr0aq1evdqy+WDmo21/Hrl27kJ9f8pxBGiyihAZLj1gY9JyGmukRK7oFAgEcPnwYO3fuxIYNG2wdHJctW4Zly5a5Pkj77Sjtum3YsAE7d+7E4cOHS5x7VQANFlFCg6VHrAx6TkLN9IhV3QKBgG2Pewo0c/uxk9+O0qxbpIbqVGiwiBIaLD1iddCzE2qmB3WzDjXTg7pZhwaLKKHB0oOJyDrUTA/qZh1qpgd1sw4NFlFCg6UHE5F1qJke1M061EwP6mYdGiyihAZLDyYi61AzPaibdaiZHtTNOjRYRAkNlh5MRNahZnpQN+tQMz2om3VosIgSGiw9mIisQ830oG7WoWZ6UDfr0GARJTRYejARWYea6UHdrEPN9KBu1qHBIkposPRgIrIONdODulmHmulB3axDg0WU0GDpwURkHWqmB3WzDjXTg7pZhwaLKKHB0oOJyDrUTA/qZh1qpgd1sw4NFlFCg6UHE5F1qJke1M061EwP6mYdGiyihAZLDyYi61AzPaibdaiZHtTNOjRYRAkNlh5MRNahZnpQN+tQMz2om3VosIgSGiw9mIisQ830oG7WoWZ6UDfr0GARJTRYejARWYea6UHdrEPN9KBu1qHBIkposPRgIrIONdODulmHmulB3axDg0WU0GDpwURkHWqmB3WzDjXTg7pZhwaLKKHB0oOJyDrUTA/qZh1qpgd1sw4NFlFCg6UHE5F1qJke1M061EwP6mYdGiyihAZLDyYi61AzPaibdaiZHtTNOjRYDrJ8+XI8/vjj6NOnDxo0aAAhBITQD+fgwYNIT09Hw4YNkZCQgIYNG2L48OHIysoyEi8Nlh5MRNahZnpQN+tQMz2om3VosBzkmmuuCZmqwocO+/btQ+PGjSGEwFlnnYW+ffuiefPmEELg7LPPxoEDB6KOlwZLDyYi61AzPaibdaiZHtTNOjRYDjJx4kSMHz8eGRkZ2L17NxITE7UNVv/+/SGEwLXXXou8vLzQz4cNGwYhBAYOHBh1vDRYejARWaeIZjk5wMyZQFoacOmlwf/OnBn8OSkC+5p1qJke1M06NFguomuwdu3ahTJlyiAhIQF79uwp8rvjx4+jdu3aKFu2LPbu3RtVfDRYejARWSekWUYGUKsWIETxo1at4O9JCPY16/hOM4/8weE73TwADZaL6Bqs1157DUIIXHrppdLfDx48GEIIzJgxI6r4aLD0YCKyTmZmJlY+8ghQpozcXBUcZcrQZBXCeF/zyGBuJ766Pj30B4evdPMINFguomuwhg8fDiEEHnjgAenvn3vuOQghMGLEiKjio8HSg4nIOovmz0du1arhzVXhgSWGBvxoMNrXPDSY24lvrs+MDE/9weEb3TwEDZaL6BqsPn36QAiBZ599Vvr7uXPnhuZnRQMNlh5MRNZZO2pUZOaq4HjjDbdD9gTG+prHBnM78cX1mZOjNrsu/cHhC908Bg2Wi+garO7du0MIgenTp0t/v2DBAggh0L1794jKa9asmfRITExEcnJy6MLiEdmRkZGBjIwM1+Pw0/HbBRdYMlh7O3VyPWYvHCb6mpW7h/nx8TjYujX2duqEtaNGYdH8+a5r4IZmdh9W/+BYO3o0dfPgkZycTIPlFjRYsXkwEVk/fm/VytKAcqBNG9dj9sJhoq9ZvntY6MitWhUrH3nEdR2c1szuY2+nTp77g8MPunntoMFyET4ijE0KLi4SOVYHFKSluR2yJzDS19LStA2WHx8devb6LPyCQVKSte9A8cKTSTyrm4fhI0IX4ST32ISJyDqbBw2yNqBwDhYAQ33t0kujM1hC+OrFA09en+FeMPDIHxye1M3j0GC5CJdpiE2YiCwSCOBA69YxOZjbjSfuYPnM9Hru+ozkBQMPaO853XwADZaLmFho9NTFRLnQqPswEVlk/vyYfRxlN0b62syZZgyWTx7beur6tPK2oMt/cHhKN59Ag+UiJRmsadOmITU1FaNHjy72u4KtctLS0opslZOeng5uleMuTEQWOHkSaNEi8oGE5qoIRvpaTg4QHx+9wXJgHpAJPHV9mjC3XAfLs9BgOci8efPQoUOH0BEXF6xRjXMAACAASURBVAchRJGfzZs3L/T5CRMmKM3Svn37kJKSAiEEUlJS0K9fP5x77rkQQqBJkybc7NlFmIgioGBCb9u24Q1VwWrib7zBx4ISjPS1nTt5B8stTLxgcPCgI6F6SjefQIPlIDNmzIAQIuxReN5UOIMFAAcOHMCwYcOQnJyMhIQEJCcnIz09HVlZWUbipcHSg4moBCKd0Pv99/Lz9+wB3n/f2Zg9ipG+9tJLZgwW52BZR/cFg6pVgTvvBBYvBvLzHQnVU7r5BBosooQGSw8mojBEOqG3U6fi565aBXTuHDw/Lg644oqY2yfPKkb62tVXy7+DihWBhITIBnwfvXjgqevT6h2slBRHTVVhPKWbT6DBIkposPRgIlJgZUJvjRp/DdhLlwIdOoQf3Evp3Kyo+1p2NlChglzXUaNicgsdT12fVudguXiX0FO6+QQaLKKEBksPJiIFOoPJyZNAnTolf9Zng7wpou5r8+apNV2yJPiZGNsE2lPXZ05O5IuKunyX0FO6+QQaLKKEBksPJiIFVh+HpKUFB5RKlXwxALlB1H3tjjvkWtasGTS3BeTkBA1vWprvXzzw3PXZo4cv/oDwnG4+gAaLKKHB0oOJSIHVCb2XXuqrRyhuEFVfCwSA00+X6zhggNlAPYTnrs82bUr+w8EDdwk9p5sPoMEiSmiw9GAiUqBzB0vnnFJEVH3txx/VOr77bsnn79oVfJtz5EjgxAm9GFzAc9fnnj3ARx8BY8YE14QreLGgbVtP3SX0nG4+gAaLKKHB0oOJSIHO3Sidu16liKj62sMPyzWMjwcOHSr++WPHgGnTgBtvBM44o+g5//tfdA1xEM9fn4EAsGVLyetbFd4cuuCxrY1v1XpeNw9Cg0WU0GDpwUSkwMpbhAXzqXgHKyxR9bX27eUaXnKJ/PMnTqjfOJw6Vb8RDhMT16cLLx7EhG4OQ4NFlNBg6cFEFIaMjJJNUuEJvZyDFRbtvpaVBSQmyjV8+mn1eRdfLD/n+uv1G+Ewvr8+XVo6w/e6uQANFlFCg6UHE1EJNGgQ/s5V4YFB565XKUKrrxU8WurVKzjnp2HDoksFbNqkPnfUKLn2PsoTvr4+XbwefK2bS9BgESU0WHowEYUhO1v51/f23r3lA0IMLnZpCst9LdyjpWrVgJI2iZ87V/0d/PZbVG1xCl9fny7e0fW1bi5Bg0WU0GDpwUQUhv/9TzkYfPv66+rzMjKCq7urBpJJk5xrg4ew1NdMGNW9e9Xnzp5tplE24+vr08U5ib7WzSVosIgSGiw9mIjC8Oqr0oHgZGIiMj//PPy52dnqeUPTpzsTv8eIuK+ZfLSUkiI/7/77zTXMRnx9fbr4Vq2vdXMJGiyihAZLDyaiMGzdCrzyCjBsWHDj5mrVACFwODU1Ms06dpQPJMOH2x25J4m4r5l8tHTTTfJzLrjAXMNsxNfXJ+9g+QoaLKKEBksPJiILBALA9u1Y9vLLkWk2dKjtf6n7iYj7msmB+fnn5eckJgLHj5trnE145vrcsSPY/63AOVi+ggaLKKHB0oOJyDoRa/bMM/KBpG5d+4P0IBHrZvLRUrgV4L/91lzjbMIT1+euXX/126uuCi76On8+sH9/+PP4FqGvoMEiSmiw9GAisk7Emi1cqB5Qfv/d/kA9hit3sPLy1Btwh1tDyyN44vr88EO19iWZLK6D5RtosIgSGiw9mIisE7Fme/aoB5VFi2yP02u4MgcLALp2lZ933XVmGmYjnrg+x42T63fGGZGdX9JbtU88YTxkT+jmM2iwiBIaLD2YiKwTsWaBgPoRybRp9gfqMVx5ixAIbkwsO/f00800zEY8cX1edln0BjXcW7WvvWY8ZE/o5jNosIgSGiw9mIisY0mzzp3lg8rtt9saoxexvA5WXJyZR0vz5qnL2L49ukbZjOvXZyAAVK8u187qem7t2snLGTnSeNiu6+ZDaLCIEhosPZiIrGNJs7vvlg8qF15ob5AexHJf+9vfwt+5inTezv796nLuusvTWxa5fn1u2qTW7ssvrZXVv7+8nGuuMR6267r5EBosooQGSw8mIutY0uyFF+SDStWq1l979zmW+1pqqvrRlFVTdNppZsyaw7h+fb79tlyzuDjgjz+slfXII/KyUlONh+26bj6EBosoocHSg4nIOpY0W7y4+MCUkhL8q/3IEXsD9RiWdMvLA+Lj5QOy1W1uTD5udBjXr89775Xr1by59bLee09eVnw8cOKE0bBd182H0GARJTRYejARSXjzTaBVK2DAAGDyZODzz4NvBP6JJc2ysoLbssyYEdzb8OhRe2L2AZZ0C/do6qefIq/UxbWYTODq9ZmTAzRpItdq0CDr5f30k1r7n382GjrzmnVosIgSGiw9mIgkjBghHwS6dwdAzXSxpNvHH6sH42PHIq/UxdXETeBaX8vICG9M77jDepnZ2eo7iR9+aDR8XqPWocEiSmiw9GAiknDJJfJB4JZbAFAzXSzpNmWK/DtITrZWqYv74ZnAlb5m5+KgZ54pL8/wWli8Rq1Dg0WU0GDpwUR0CoEAULOmfBB45hkA1EwXS7rdeaf8O7C6j6PJbXdcwPG+Zvcj1R495GUNHmy0GbxGrUODRZTQYOnBRHQKBfuuyY4vvgBAzXSxpJvKGN15p7VKeQfLGnY/UlVNmr/gAqPN4DVqHRosooQGSw8molOYP189mPy57xo108OSbg0byr+DKVOsVco5WNaw25Cqli2pWdNoM3iNWocGiyihwdKDiegUnnhCPgA0aBD6CDXTI2LdsrPVA/rHH1urlG8RWsPuR6qLFqnL2rfPWDN4jVqHBosoocHSg4noFG68UZ78e/YMfYSa6RGxbuFe59+0yXrFdk7atpmYu4MV7hH8kiXGmsFr1Do0WEQJDZYeTESncO658uQ/enToI9RMj4h1mz1b/h3ExwcXINUh3LIDXMn9L+x+pBoIAJUrFy+nfv3gnpGG4DVqHRosooQGSw8mokIcOqS+0/H226GPRa3ZiRPA2rXAu++G3kwsDUSs22OPyb+DaLdUyckJGoK0tOCjrbS04L899liwMDH3FiEQ3Nx57Nig9t9/H7zuDMO8Zh0aLKKEBksPJqI/ycgAqlVTDybPPRf6qJZm69YBN9wAtGgBlCtX9K5Mbq7hxniTiHUbNEj+HVx9tf1BegzX1sHy6dZCBTCvWYcGiyihwdKDiQiW5+hoabZmjbrs1attaJT3iFi3Cy6Q63TfffYH6TFcuz4vuyz8nSsPmyuAeU0HGiyihAZLj1KfiDQeiWhplptb9M5V4eOdd+xpm8eIWLfateU6vfii/UF6DNeuz27d5N9Bt26efqRaQKnPaxrQYBElNFh6lPpEpDGpV1sz1QT6sWPNt8uDRKTbwYNq7f9c6LU04dr1mZIi/w6eesr5WDQo9XlNAxosooQGS49Sn4g0XkvX1uz66+VlnneeL+4KREtEun33nVr7nTudCdRDuHJ9BgJAs2byO65z5jgbiyalPq9pQINFlNBg6VHqE5HGworamt10k6/ntURLRLr95z9yfSpWDA780RIIAL/9BixeHLx7+a9/ATffDFx0EbBtW/TlG8bV6zM/H9ixI6jVG28ADz0EbN3qTiwWKfV5TQMaLKKEBkuPUp+InLqDFQNvZkVLRLqNHy/XpnVrM0EcParWf8ECM3UYpNRfn5pQN+vQYBElNFh6lPpE5MQcLJ9v12KKiHTr10+uS9++5gKpW1dex8svm6vDEKX++tSEulmHBosoocHSo9QnIifeIvT5hsOmiEi3Ll3kmowbZy6Qjh3ldRRard8rlJrrMy8vuA3SJ58YeRRcanQzCA0WUUKDpQcTESw/vrOsmd37u/mEiHXbvx/49tugMR03Lnj3yuA2Ksr9Jk3eJTNEzF6fe/cCDz4IXHttcEJ9QsJf38Pvv0ddfMzqZiM0WEQJDZYeTER/cuGF4e9cFZobZVkzjYn0sYhn+tq4cXLd27VzO7JieEYz0+zere7/ixdHXXzM6mYjNFhECQ2WHkxEf9K+vTzZ9+pVbE4U72Dp4Zm+9uqrct1r1nQ7smJ4RjPTBAJA1ary7+GVV6IuPmZ1sxEaLKKEBksPJqI/sTDxmXOw9PBMX1u0SK29DRsPR4NnNLMD1R81//hH1EXHtG42QYNFlNBg6cFE9Cc7dgBLlgBvvQU89hhw++1Ajx7AN98U+yjfItTDM33t11/V+v/4o9vRFcEzmtnBzTfLvwMDm3rHtG42QYNFlNBg6cFEZB3tdbAsbCgdi3imr508qd4X0mMrlTuu2d69wA8/BLcsMrGwazgefVT+HSQlBe/6RvGHhmf6mo+gwSJKaLD0YCKyjrZmGRnBeT4qgzVxovlgPYSn+lrjxvLvYPJktyMrguOaTZ/+lxZVqgCtWgG9ewdXvDfN7Nkl383V/IPDU33NJ9BgESU0WHowEVknKs1ycoDy5eUDyltvmQ3UY3iqr112mfw7uOsutyMrguOajRkj16V9e/N1PfdcyY/MNe/qeqqv+QQaLKKEBksPJiLrRK3ZuefKB5PHHzcXpAfxVF+74w75d9Cjh9uRFcFxzVRrhPXrZ7Yem+cleqqv+QQaLKKEBksPJiLrRK3ZFVfIB5I77zQXpAcJq9vOncDTTwcXnrz00uBSFVHOwwnLE0/Iv4PUVHvq08Tx6/P88+W6jBplth6b36xlXrMODRZRQoOlBxORdaLWTHX35MorzQXpQZS6ZWQAlSrJNalc2Z6J///9r7y+hAQgP998fZo4fn3WqyfX5cUXzdZj89pwzGvWocEiSmiw9GAisk7Umj32mHwQadHCXJAeRKqbW29X/vCDur4dO8zWFQWOXp/Z2WpNPvvMbF02727AvGYdGiyihAZLDyYi60St2VtvyQeRKlXMBelBiunm5vpgWVnqur7+2lw9UeLo9bl+vVqTjRvN1sU7WJ6DBosoocHSo9QnIo21fqLWbPHivwaO2rWBtm2Dc4/uvRfIy9Mv1+MU083tFe6rVZPX8/rrZuuJAkevz08+kesRFwccP262Ls7B8hw0WEQJDZZFcnKAmTOxt1MnHGjTxv5JxV5lyZLgnmgtWgBXXQXcfTcwaRIwa5ZyLk7UyfvYMWDDhuAjmVJEMd3c3qOxTRt5Pf/8p9l6osBRo/D883I9GjQwXxffIvQcNFhECQ2WBTIy1MktisX9fInqcV1SkvLuFpO3HsV0s3keTon8/e/yem66yWw9UeBoX/vHP+R6XHSRPfXZOP+O16h1aLCIEhqsCOGWLUV5/HG5Bs2bK09h8tbDc3ewRo6U13PhhWbriQJH+5rKcA4YYF+dH3yg/r6rVOFK7g5Cg0WU0GBFADcdLo5qyYSePZWnMHnr4bk5WC+8IK+nfn2z9USBo32tbVu5HuPH21tvgwbyeqdO1S6S16h1aLCIEhqsCHB7QPMiPXvK237HHcpTmLz18NRbhEBw6QFVfR6ZH+doX6tRQ67Fa6/ZW69qcdMxY7SL5DVqHRosh8nOzsb48ePRpEkTJCYmon79+rjllluwc+dOS+U0atQIQgjlsX79+qhjpcGKALcfyXiRZs3kbQ+zbQ2Ttx7KdbDi4sL3Q7seWW/ZEnwUfPXVwPDhwDPPBOtZswY4edJ8fRo41tcOH1brv2iRvXX37Suv9+abtYvkNWodGiwHycnJQceOHSGEQP369dG3b1+0b98eQgjUrl0bW7ZsibisAoM1cOBA6bFr166o46XBigC3JxV7jUBAvYL4228rT2Py1kOpm+ptvoI7V6VlPqAEx/raqlXq72DbNnvrvu8+eb1du2oXyWvUOjRYDjJ27FgIIXD++efjyJEjoZ8/9dRTEEKgc+fOEZdVYLDshAYrAngHqygHDqjb/s03ytOYvPVQ6taihfw7uO660jEPMAyO9bW5c+XfQdmy9q/NNmWKvO7GjbWL5DVqHRosh8jNzUXVqlUhhMCKFSuK/b5ly5YQQmD58uURlUeD5RE4B6soK1ao2x5muxQmbz2UulWvLv8O/vMf54P0GI71NZXJOfNM++uePbtoneXLB83VFVdoF8lr1Do0WA7xxRdfQAiBlJQU6e8ffvhhCCEwYcKEiMqjwfIIbk8q9hqqV8Tj48POwTGavI8fBzZvBr74ApgxA3jooeAipDGIVLejR92b++MDHDMKw4fLv4NLLrG/7t27gQ8/DP7Bs2+f1u4Kp0KDZR0aLIeYMmUKhBC47rrrpL+fN28ehBDo06dPROUVGKxJkybh9ttvR3p6Ol566SX8/vvvxmKmwYoQroP1F888o/VXu7HknZoqr/+tt6Iv24NIdfv5Z3U/3LTJnUA9hGNGoVcv+XcweLD9ddsADZZ1aLAcYsSIERBCYMSIEdLfr1y5EkIItGnTJqLyVG8RVqxYEa+++qqRmGmwLKBavVyI4P5spcFcAerJtV26hD3NWPI+91x5/WHeYPQzUt0WLlT3xVi/gxoBjhkF1Ty4Rx6xv24boMGyDg2WQ9x6660QQmDs2LHS32/atAlCCDRp0iSi8oYNG4Y5c+bg119/RXZ2NtasWYP77rsPZcuWRVxcHObOnRtxbM2aNZMeiYmJSE5ODl1YPMIcCxfiZEKCNKGuHjvW/fgcOvZ26iTVYNdll4U9LyMjAxkZGVHXv69DB2n9O3r1cl0bOw6ZbmsVq6nnVq3qaGyL5s/H2lGjQntz7u3UCWtHjcKi+fM9p5nxY+FC5FWoIP0e1jz4oOv9xrO6xdiRnJxMg+UEpg2WipdffhlCCKSmpkZ8Dg2WmeOYYvXkDXfd5XpsTh2HFY/ofrnpprDnmUreO66+Wlr/vg4dXNfGjkOm25ZbbpFq8Efjxo7FtfKRR5BbtarS6K185BFPaWb6+GrOHOVdxP9Nnep6v/GqbrF20GA5hOlHhCry8/NRp04dCCGwdevWqMriI0KLdO0qT6oPPOB2ZM5Ru7Zcg1deCXtaQUKKmscek9ffokX0ZXsQqW633y7X4KqrnAnK43MSjfW1cGzbFlzz7qyzgi94FG77b7/ZW7dNOKJbjMFHhA5hepJ7OM4//3wIIbB06dKoyqHBsshNN8kHkxtucDsyZzh2TD2gLlgQ9lRjyfvNN+X1V60afdkeRKrblVfKNbjzTvsD8sFbtY4bhby8oOH68svgW635+c7VbRAaLOvQYDmE6WUawnHOOedACIFVq1ZFVQ4NlkVGj5YPJJ06uR2ZM4R7e23jxrCnGkveX3+tjuHQoejL9xhS3Vq2lLf/0UftD8gH68LRKOhB3axDg+UQhRca/fHHH4v93upCoyrWrFmDuLg4VKxYEbm5uVGVRYNlkeeekw8iTiws6AXCbfRbwp0KY8l72zZ1DKtXR1++x5DqptpgeOZM+wPywc4GjhiFnJyg3mlpwUeFaWnBf/v4LU4aLOvQYDlIwVY5F1xwAY4ePRr6uWqrnGnTpiE1NRWjR48u8vOPP/5Y2tFXrVqFpk2bQgiB9PT0qOOlwbKIamuMhATfPhawxMsvy9tft26JpxpL3idOqOf/zJsXffkeo5huublA/fryzZ6dGBx9sDen7UYhI0P9mNStfSADAWDvXmD58mCeKrRVW6TQYFmHBstBcnJy0KFDBxTe7Lng37LNnidMmICCDZ1lP2/UqBF69eqF66+/Hu3bt0d8fDyEEOjSpQuys7OjjpcGyyLLl6sHkr173Y7OfsaOlbe9ffsSTzWavJOT5XH83/+ZKd9DKHU7cQL49VdgyRJg1ixg8mRgzx77Ayrtd7C8NMH/jz+C68+lpACJiUVj+N//LBdHg2UdGiyHyc7Oxvjx45GSkoKEhATUq1cPgwYNwg7JPm0qg7V06VIMHjwYLVq0QM2aNREfH48aNWqgS5cumD59Ok6G2ZLECjRYFtmzR51Uf/jB7ejsRzXJX/FiR2GMJu8LL5THccqd4FjAc4NeaZ6D5bUJ/vn5wbvnsvrnzLFcnOf6mg+gwSJKaLAskp8PlCsnT2ilYSX3iy+Wt/0f/yjxVKPJ+4Yb5HHceKOZ8j2E5wY9r5kMCbZp5kVzedZZ8rqffdZyUZ7raz6ABosoocHSoFGjUvN4qhiqZD51aomnGk3eo0bJ47joIjPlewhPDnpeekwmwTbNvPh4VPVHj8bafJ7sax6HBosoocHSQPV4aswYtyOzn7y84Lyfr78Orkf16KPAbbcB335b4qlGk/fzz8u/g4YNzZTvITw76GVkyCfaCwEkJbl6R9c2zbw4wb9/f3nd119vuSjP9jUPQ4NFlNBgadCvnzyh3Xyz25F5GqPJ+6OP5N9B2bJBExhDeHrQU63HZWCtv2goVXewVGvzXXih5aI83dc8Cg0WUUKDpcH998sT2iWXuB2ZpzGavFetUg9q27ebqcMjeHrQc3NF+TCUqjlYBu/merqveRQaLKKEBkuDKVPkCe3ss92OzNMYTd5ZWepBbckSM3V4BE8PerfdJv8OevVyNaxS8xYhEHwUK6s/Ph6w+La5p/uaR6HBIkposDR47z15QqtUKbjYH5FiNHkHAkDlyvLv4e23zdThETw96D30kPw7aNvW1bBsXwerJHPl5AT/FSvUcVjcdNrTfc2j0GARJTRYGixdKk9m1aoFF/4jUown7+bN5d/DxInm6vAARXQ7ejS4H2ShXSJc5ZVX5N9BvXquhmW7UahfP/ydKycn+O/bp45l2TJLRdFgWYcGiyihwdJg/35sHjwYa0eOBBYuDA54GttS+I4o914znrx79pQPKnfdZa4OD1BEt0WL/mpn9epAixZBHW691fLjICPMny//DuLigivNu4StRiEQACpWlLf7nnucX/crEADKl5fH89//WiqKBss6NFhECQ2WHqUuERnYe824ZrffLo/nyivN1eEBiuj2n//I21y9ujvBrV6tvnvi4ssGtl6f4eb/ffONPXWWRJMm8nimTLFUTKnLawagwSJKaLD0KFWJyNCiksY1e+wxeSwtWpirwwMU0e3xx73V5oMH1X0igrXR7MLW63PNGnWbt22zp86S6NpVHs9991kqplTlNUPQYBElNFh6lJpEZPCtKeOavflmsN7atYOTqvv0Ae69F3jhBXN1eIAiut11l1z7nj3dCS4QACpUkMc0e7Y7McHm6/Pzz9XXQG6uPXWWxM03y+OJYI/QwpSavGYQGiyihAZLj1KTiAyu+2Ncs5wcIDvbXHkepYhuvXrJdb/tNvcCbNxYHpPGXnimsPX6nDFD3t46deypLxLGjpXH1LGjpWJKTV4zCA0WUUKDpUepSUQGV662dW2iKCbfe50iurVpI9f94YfdC7BzZ3lMI0e6FpKt1+e//y1vb+vW9tQXCS++KI+pQQNLxZSavGYQGiyihAZLj1KTiAzuvWaLZgYm33udIrrVqSNv62uvuRfgjTfKY+rf37WQbL0+77xT3l43X66YN08eU5kylraOKjV5zSA0WEQJDZYepSYRefkOlqHJ914npNvx4+p2fv65ewE+8IA8pi5dXAvJ1uvTi49pDW0dVWrymkFosIgSGiw9Sk0i8uocLC9uWWITId22bFG3cf169wJ85hl5TE2auBaSrddnu3by9j70kD31RUK4tzktLB1RavKaQWiwiBIaLD2kiejEieBfi7E08dqrbxF6cdNdmwjp9tVX6va5uYPAl18GHxM+8EDQbP33v8HdDmJ1HSzVKu7Tp9tTXyQEAsGtumRxzZoVcTE0WNahwSJKaLD0yFy4ENv79AkuDfC3vwWTblxcMKEtXOh2eGYxtPea0eRt8NGl1wnp9tZb8rZVrep2iJ7DNqOQl6d+LP3JJ+brs0JqqjyuyZMjLoIGyzo0WEQJDZYemZmZyK1WTZ7QXn/d7fDMo9oapODOldMruRucfO91QrpNnChv27nnuh2i57DNKOzYoe5jq1aZr88K3brJ4xo+POIiaLCsQ4NFlNBg6ZGZmYk/VOv/PPqo2+GZ5ehR9aAyZow7exGWxjtY99wjb1uPHm6H6DlsMwrffafuY/v3m6/PCrfc8lcs5csH58BdcgkwbVrERdBgWYcGiyihwdIjMzMT+zp2lCfaO+90OzyzbNyoHlQ2bYq4GM7B0iOkW+/e8rYNHep2iJ7DNqMwZ478O0hMDM6DcpOffwZ+/BHYt087Fhos69BgESU0WHpkZmZix9VXy5Pt1Ve7HZ5ZvvxSbVyOHo24GL5FqEdIN9Xba//6l9sheg7bjMK0afLv4MwzzdflAjRY1qHBIkposPTIzMzE5sGD5cn2vPPcDs8sb78tb6fFydVcB0uPkG5168rb+OqrbofoOWwzCqNHy7+Diy4yX5cL0GBZhwaLKKHB0iMzMxNrR46UJ9vatd0OzyyTJ8vbaTGp2LaSu8pkJSX53lwBQd2++PRTtYn87DO3Q/QcthmFAQPk30G/fubrcgEaLOvQYBElNFh6ZGZmYsWTT6oHvePH3Q7RHCNGyNvYrZulYmxL3uedJ4/vn/80X5cLZGZm4hvVEg1CAGvXuh2i57Ctr6neXh0xwnxdLkCDZR0aLKKEBkuPzMxMfDtjhnrQ++UXt0M0R79+8jbefLOlYmxL3qq5cDHyskFmZiaWq1ZLF8LdRUY9im19bfhwoEMH4PTTgbJl//oOLKw1ZTtRbH5Og2UdGiyihAZLj8zMTHz50UfqQe/rr90O0RydOsnbOHq0pWJsS9633y6Pr1cv83W5QGZmJtaMHStvY5UqbocX5PffgRdeAMaNCy4XcNllQPPmQI0aQG6u4+E4YhROngR27waWLwd27rS3rkiJcvNzGizr0GARJTRYeoQSUdWq8mT29ttuh2iOs86St9HC+jqAjcn7oYfk8bVrZ74uF8jMzMSm224zMg/ONtasUf+xsW2b4+GUSqNg4KWPUqlblNBgESU0WHqEElHz5vJENmmS2yGaIRAILlooa+P771sqyrbkPX26PL7TTjNflwtkZmYGt2WStfGyixLh2wAAIABJREFUy9wOL0hWlnpQt7DZsClKnVEwtGxJqdPNADRYRAkNlh6hRHT55fIklp7udohmOHhQnai//dZSUbYl708+Uf+1fvKk+focJjMzE9uuvz5oGAv2uyw4hgxxO7wggYB6O6X33nM8nFJnFAwtvFvqdDMADRZRQoOlRygRDRkiT2DXXut2iGZYvVqdpLdvt1SUbcl75Up1jLt2ma/PYYroduJEUPelS4PGZelSd4MrTJMm8u9gyhTHQyl1RsHQ1lGlTjcD0GARJTRYeoQS0T//KU9gHTq4HaIZPvtMnaRPnLBUlG3J+/ff1TEuX26+PofJzMzEovnztd8Mc4wuXeTfwT/+4Xgopc4oGNr8vNTpZgAaLKKEBkuPUCJ6+WV5AmvQwO0QzaBaiqJOHctF2Za88/OBcuXkccbAQqMrH3kEuaqXKSJ4M8wx+veXx3jDDY6HUuqMAu9guQYNFlFCg6VHKBGFm/+Tl+d2mNGjWky1dWvLRdmavBs2lMf54ov21OcUGRkI+GU7INXOBhdf7Hgopc4ocA6Wa9BgESU0WHqEEtFPP6mT2I4dbodphuxsYMsWYPFiYNYs4OmngVdesVyMrcm7Y0f5dzB+vD31OYHfNrR+9ll5bCkpjodS6owC3yJ0DRosooQGS49QIjL4ll2sY2vyVj0i8cpbdjoYuivhGLNny+MqXz74lqGD2NLXZs0Kzklcsya4LIXDbSoRroPlCjRYRAkNlh6hRBTu9fR77nH/roKHsDV5Dxsm/w569rSnPicwNK/GMb79Vh3bgQOOhmK8r+XnF90aR4jgdd+kibfe5MzIAOLj5d9BhQpcyd0GaLCIEhosPYokovr1w9+O98L8GA9ga/J+/HG5/q1a2VOfExh6M8wxtm9Xx/bTT46GYryv7d6tbtuKFebqMYHKmN90U4mn0mBZhwaLKKHB0iOUiDIySh74vDIJ2WVsTd6qx2m1a9tTnxP47Q7WiRPFF0ItOObPdzQU431t+XK17nv3mqvHBPfeK48zglX/abCsQ4NFlNBg6RFam8hPk5BdxtbkvWCBWnsXNhs2gt/mYAFAvXry2DReiogG433tww/l7SpXLvj40EtMmiSP9dxzSzyVBss6NFhECQ2WHpmZmVg7apT/BkAXsTV5r12r1v3XX+2p02789hYhALRtK4/voYccDcN4X3vhBXm7GjY0V4cp3nxTHmuNGiWeSoNlHRosooQGS4/MzEzs7dTJX49wXMbW5H3okFp3P7/N+eGHCJTUr7z0CLpXL3mMt93maBjG+9q4cfJ2nX++uTpM8cUX6r5SggmnwbIODRZRQoOlR2ZmJg60aWPNYLk9CdllbE3e4d7mnD3bnjqdIJxxLLhz5RVzBQB33imP88orHQ3DeF+75RZ5u/7+d3N1mOLnn9X95Zdfwp5Kg2UdGiyihAZLj1JxB+vwYeD4cWPF2Z68mzYFkpOD+0Bee21wmYzHHgPWrbOvTrtZt07dn55+2huPBQvz73/LY9VY+T8ajPe1yy+Xtys93VwdpvjjD3WfWbIk7Kk0WNahwSJKaLD0KBVzsIYO/esuScuWQI8ewYU733lHqzjbk7fXFn40wcKF6v5k0PwaQ7V3pcNvcxrva+eeK2/XE0+Yq8MkSUnyeN97L+xpNFjWocEiSmiw9CgVbxFecYW8Lffco1Uck7cGb7yh7k9e5PPPPWEIjfe16tXlbXrzTXN1mOTss+XxPvNM2NN4jVqHBosoocHSo8g6WH7ZjNcqrVrJ2/P441rFMXlrMHGi/Dto2dLtyOSEe5tz61bHwjDa17Kz1W1atMhMHabp0kUe78iRYU/jNWodGiyihAZLjyKJKCNDfSfLa5OQrVC7trxNM2dqFcfkrUF6uvw76NHD7cjkhJuUX8L8H5MY7WubN6vbtGGDmTpMc+ON8nhLWM2d16h1aLCIEhosPYolopyc4OOctLTg24JpacF/++2xYAG5uepBZcECrSKZvDX4+9/l38HgwW5HJicQACpVksf87ruOhWG0r331lfpaOHrUTB2m+cc/5PFecknY03iNWocGiyihwdKjxESUlwfs3Als2uRcUCbZtk09qKxdq1Ukk7cGF1wg/w7GjXM7MjX/+AcwahQwdSrw/vvAsmXAjh3Ba8IhjPa1t9+WfwdVq5op3w6efloec9OmYU/jNWodGiyihAZLj2KJKCMjuNZPmzbB7UIK9mRr3969IKNh6VK1wTp0SKtIJm8NzjhD/h08/7zbkYUnJyf4KLnwHd2ZMx27o2u0rz35pPw78PKgOmuWlinkNWodGiyihAZLj2KJ6OWX5Qnt9NPdCzIaZs+Wt6diRe3lEJi8LRIIAAkJ8u/hgw/cjk6NB+YkGu1rI0bI29Ktm5ny7eDrr7Uea/IatQ4NFlFCg6VHsUQ0b548mZUt673NYCNh6lR5exo31i6Sydsi+/erB8nvvnM7OjkeeavWaF/r21fejoEDzZRvB4Un5lesCDRpAnTuDNxwQ7BfKeA1ah0aLKKEBkuPYoloxQr1gLJnj3uB6qJaRPXii7WLdCR5Z2UBa9YAn30WXPTy0UeBu+8GPvzQ3nrt4Kef1H1qxw63oyuOhzanNtrXLrxQ3oYxY8yUbwcnTgDr1wd3Y7Bwx5kGyzo0WEQJDZYexRLRnj3qwWTFCvcC1WXAAHlbbrhBu0hHkvell8rjvv9+e+u1g08/lbclLi44gHqNmTMjM1cFh407Gxjta36dB6cBDZZ1aLCIEhosPYolovz84ONAWSKeN8+9QHWxwag4krxvvtm4MXSN116Tt6VuXbcjk5OWZs1g2bg3p7G+FggA5crJ43dw2QmnoMGyDg0WUUKDpYc0EZ1+ujwRv/yyO0FGwznnyNvy1FPaRTqSvEePNv5o0zVUGyefd57bkclRmXLVcemltoVirK+9+aY6/mrV/LuIsAIaLOvQYBElNFh6SBNR+/byRPyvf7kTZDRUqSJvi+ZGz4BDyduGyfmucddd8rZceaXbkcmJtTtYHpmw7yQ0WNahwSJKaLD0kCai3r3lSfi229wJUpcjR9QDytdfaxfrSPK2YXkJ11D1p1tvdTsyObE0B8tDE/adhAbLOjRYRAkNlh7SRKS643DVVe4EqcuGDerBZPNm7WIdSd42LJDqGqo7ohMmuB2ZHA+Zkqj7mofMopPQYFmHBsthsrOzMX78eDRp0gSJiYmoX78+brnlFuzcudNyWQcPHkR6ejoaNmyIhIQENGzYEMOHD0dWVpaRWGmw9JAmItWcmTZt3AlSl0WL1APJsWPaxTqSvMNt8bNunb11myY5Wd6Ol15yOzI1HnmsFnVf89DjTiehwbIODZaD5OTkoGPHjhBCoH79+ujbty/at28PIQRq166NLVu2RFzWvn370LhxYwghcNZZZ6Fv375o3rw5hBA4++yzceDAgajjpcHSQ5qIVG991avnTpC6vPWWvB3VqkVVrCPJ+/hx9SC4cKG9dZskPx+Ij5e346OP3I4uPBkZQPny8tgTEvyxkruHJuw7CQ2WdWiwHGTs2LEQQuD888/HkSNHQj9/6qmnIIRA586dIy6rf//+EELg2muvRV6hjVKHDRsGIQQGGlhJmAZLD2kiCrdukYMb3UaNau+15s2jKtax5K16TDVzpv11m+LwYaBtW6B+fQQK9rUsOH74we3oSmbcOPl30LatI9XzDlYhTp4Edu0Cli8PmtsXX1QufkyDZR0aLIfIzc1F1apVIYTACsniki1btoQQAsuXLy+xrF27dqFMmTJISEjAnlMuhuPHj6N27dooW7Ys9u7dG1XMNFh6SBNRuJW3NR4Pu8a998rb0L17VMU6lrxbtZLH//jj9tdtA198/jkWz5oFfP89MHdu8CUErzN9uvw7aNDAkeo5BwvBP+pOO03+yFZxN5cGyzo0WA7xxRdfQAiBlJQU6e8ffvhhCCEwIYJJqq+99hqEELhUcet58ODBEEJgxowZUURMg6WLNBGF2zvu++/dCVQHm/Zecyx59+wpj3/YMPvrtgFfDnoffyz/DsqWDd5RsRm+RfgnNWtaMoS+7GsuQ4PlEFOmTIEQAtddd5309/PmzYMQAn369CmxrOHDh0MIgQceeED6++eeew5CCIwYMSKqmGmw9JAmokAgOMdEltDmznUnUB0uukjehgcfjKpYx5L3kCH+e4wTBl8Oej/+qDYku3fbXj3XwfqTFi3kcU+cKP24L/uay9BgOcSIESPCmp6VK1dCCIE2EbxV1qdPHwgh8Oyzz0p/P3fuXBTMz4oGGiw9lIlItW/Z//2f80Hq0ratvA3PPRdVsY4l7/Hj5fGff779dduALwe9vXvVpiSCKRLRYkyzjAz1naxatbxtrgDg8svlsaenSz/uy77mMjRYDnHrrbdCCIGxY8dKf79p0yYIIdCkSZMSy+revTuEEJg+fbr09wsWLIAQAt0jnBfTrFkz6ZGYmIjk5OTQhcUjsiMjIwMZGRnFfp7VvLk0of1y002ux2zl+GL+fHzz1lv439Sp+Omf/8SGu+7CsunTbdHM9LFeMYcsu25d13X1sm5GjwULkK94C3LlI4/4SrNF8+dj7ejR2NupEw60aYO9nTph7ejRWDR/vvs6l3D81qOH9DvY07mz7bqVliM5OZkGywlosErPoUpEey++WJrQfuvRw/WY3T6cSt6rHnlE+h3kx8cjc8EC13Xwqm6mj5w6daTfw/p77/WFZt/OmIF1DzyAHydOxLJXXsFXH3yAzIULXdfVyrG1f3/pd5B17rm26VbaDhosh+AjwtJDwcVVjPR0+S35Hj2cD1KHnJzgG1RpacG1fdLSgv82MIlXqZlp/vc/9eOp33+3v37DOKabaTp2lH8H//yn7VUb0WzatOKxly8PdOliJkgneP55+Xdw5pnSj/u2r7kIHxE6BCe5lx6UiWjiRHlCa9nS+SCtYvN8E8eS92+/qQ3WypX2128Y3w56114r/w6GDrW9aiOaPfigPP6LLjITpBN88IG8DYmJ0r05fdvXXIQGyyG4TEPpQZmI3nhDbVC8jANvTDmWvE+eVLflk0/sr98wvh307rlH/h1ccYXtVRvR7Oab5fH37WsmSCf47jv19SzZCcS3fc1FaLAcovBCoz/++GOx3+suNHrqYqJcaNR9lIlo4cLiiaxqVaBZM++u5u7Qmj+OJu/TTpPH/8orztQfDUePAl98Afz8M/DHH/4d9B57TP4dtGple9VGNOvWTR5/lE8NHGXHDvW1vHp1sY/7tq+5CA2WgxRslXPBBRfg6NGjoZ+rtsqZNm0aUlNTMXr06GJlFWyVk5aWVmSrnPT0dHCrHHdRJqJ9+4BZs4CvvwY2b45qc2THcGjVakeTd7t28tgfftiZ+qPhlDlkeRUq4Ojppwfn/vhhFfcCXn9d/h3Urm171Ub6WrNm8viffNJMkE5w4kRwqy5ZOz77rNjHabCsQ4PlIDk5OejQoQMKb/Zc8G/ZZs8TJkxQmqV9+/YhJSUl9NixX79+OPfcc1HwJiI3e3aPmEpEDu275qhmvXrJY+/a1burbhfw4Yfy2MuVA/Lz3Y4ucj7/XN2HcnNtrdpIX6tWTR77W2+ZCdIp6taVt0MyvSSm8ppD0GA5THZ2NsaPH4+UlBQkJCSgXr16GDRoEHbs2FHss+EMFgAcOHAAw4YNQ3JyMhISEpCcnIz09HRkZWUZiZUGS4+YSkSXXmrNYCnmBZaEo5op1v8JPeb08gKRL7wgj7thQ7cjs8baterv4Ndfba066r527Jg69i+/NBeoE5x3nrwdjz5a7KMxldccggaLKKHB0iOmElGs3cHKyFA/Fik4vLzFyT//KY+5Y0e3I7NGVpZa/2+/tbXqqPvapk3q2DduNBeoE1x5pbwdd99d7KMxldccggaLKKHB0iOmElEszcGKhU16hw6VxxvlmneOEwgAFSrI2/L++7ZWHXVf++ordb/x0zw4QN2fJMsFxVRecwgaLKKEBkuPmEpEsfQWoUNm0VauuEIe6z33uB2ZdVJS5G2ZOtXWaqPua2+/LY+7ShVzQTqF6o5ohw7FPhpTec0haLCIEhosPWIuEcXKOlgOPe60ldat5bE+9pjbkVmnUyd5WyRvTZsk6r42ebI87qZNzQXpFC++KG9LcnKxj8ZcXnMAGiyihAZLj5hMRKqVqwvuXPlhJXeHJuzbimIPP7z+utuRWadfP3lbbr7Z1mqj7mv33eef/lISGRnytsTHF3srNSbzms3QYBElNFh6xGQiku29FuVjwcLwDlYEnDihjvXzz92OzjojRsjb0q2brdVG3ddUxnDAAHNBOsXy5eo+dcpC1TGZ12yGBosoocHSw1IiOnEC2L4dWLYs+P9eZfRoeRI2tPca52BFwPbt6ljXrHE7OuvMnw+MHRvcdPiDD4Dvvwd27rR9V4Oo+5pLjzZtYdcudZ86ZccRGizr0GARJTRYeoRNRHv3Aj17BrcEOfVxz+bNzgZqBdXea/36GSmebxFGwLJl6ngPHnQ7Ot8QdV9zaXK+LYTbm/Pjj4t8lAbLOjRYRAkNlh5hE9Eff6gHycWLnQ3UCqr5S4b2XnN0HSybJ+zbxpw50nhPJiQElz0gERFVXwu3vMTs2WYDdQrV3pzTpxf5GA2WdWiwiBIaLD1KTESVK8sT2rvvOhekVc45Rx7z5MlGinc0eWdkqO9keXkl9+eek8acXb++25H5iqj62sGDamNu8wKptlGwN2flykBqanDLqJtuAhYsKPIxGizr0GARJTRYepSYiFJT5Ql6yhTngrSKyhS+846R4h1P3gcOBJc2uOii4Ov1zZoFB5ahQ52LwSpjxki/g6xzz3U7Ml8RVV9bs0ZtsGze4sc2fvsteGe9BGiwrEODRZTQYOlRYiLq2lWeoB94wLkgrRDusebXXxupwvHkPWuWvD2VKzsXg1UGDZLGvKdLF7cj8xVR9TUXN6l2Gxos69BgESU0WHqUmIj695cn6P79nQvSCj//rB5UtmwxUoXjyXvxYnWbIvhr3hUuu0wa73a/bZPjMlH1tRkz5H2mdm2jMTpOTk7wLdu0tOB8y7S04L8LvehBg2UdGiyihAZLjxIT0QMPyJN0167OBWmFzEy1GcnONlSFw8n7l1/UbVq/3rk4rHDuudJ4N916q9uR+Yqo+tqjj8r7TOvWZoN0kgjnJNJgWYcGiyihwdKjxEQ0ZYo8maWmOhekFd54Qx5vjRrGqnA8eR8/rjZYCxc6F4cVatSQxrvGj+svuUhUfe3uu+V95oorzAbpFBbeqqXBsg4NFlFCg6VHiYno3Xf9Nf9n4kR5vC1aGKvCleSt+qt95kxn44iEnBzlALjC0JucnuL4cduKjqqvvfoqcN11wIUXAmecASQkBL8HL78cocLiunCL5s+nwbIIDRZRQoOlR4kJ3G/zf4YNk8fao4exKlwxWK1aydvlxY2TwzzS/HbGDLej0+fHH4GRI4PLAlxySXA5kMqVgcaNbavSaF8LBID9+4ttK+MLLO5ssHb0aBosi9BgESU0WHqUmMC3bFEnsg0bnAs0Uq69Vh7r4MHGqnDFYF1xhbxdd93lbByREGYe3JdeXbcrEv77X3m7Kla0bfFUPur6E4t7c+7t1Im6WYQGiyihwdKjxASena1OZIsWORZnxHToII91/HhjVbgy6N16q7xd11zjbBwlkZGhXIcsIARWPvKI2xHq88036mvh0CFbqqTB+hPV7gyK40CbNtTNIjRYRAkNlh4RJfDq1eWJ7K23nAnSCsnJ8lhffNFYFa4Mev/6l7xd7do5G0c4IpiEHPDq1j6RsHWrum3r1tlSJQ3Wn/AOlu3QYBElNFh6RJTAmzeXJ7Inn3QmyEjJzwfi4+WxfvSRsWpcGfSmT5e3yytbz/h9c+pIcOFtThqsP+EcLNuhwSJKaLD0iCiBd+8uT2SGNk82xu7d6qS7YoWxalwZ9D75RN6uMmWAvDxnY5FhcQDEG2+4HbEeKhNpU3tosP6EbxHaDg0WUUKDpUdECXzgQHki69fPkRgjZvlyddLds8dYNa4MeqtWqdu2Y4ezsciw+AgHaWluR6xHy5by9kycaEt1NFiF4DpYtkKDRZTQYOkRUSJ68EF5Mjv7bG896vnyS6BuXSAurmic5coFHx8awpXkvX+/elBZtszZWGRYnISMSy91O2I9evSQtyc93ZbqaBROIcxLFBAC+PBDANRNBxosooQGS4+IEtFtt4W9He+5ScsnTgC//gp8+y0wezbwyitGi3cleQcCQGKi/Dt4/31nY5FRWu5gDR7saHtoFCQsWqTuVwcPAqBuOtBgESU0WHqUmIgyMorfEVLcli8tuJa8zzpLrv/Uqc7HciqlZQ7WuHHy9px/vi3Vafe1t98O/mHxySfAypXAvn22rdXlONu3q/vVTz8BoMHSgQaLKKHB0iNsIioNb4Zp4Fry7tRJrv2oUc7Hciqlpa/83//J22RT7tHua61bF48xIQGYNs18kE5z4oT6j7758wHQYOlAg0WU0GDpETYRlZa7EhZxLXlff71c95tucj4WGbG+DhYQnOMja1u5crbcIdLua3XqyON8/XXjMbpC/fry9k2fDoAGSwcaLKKEBkuPsImotMyrsYhryfv+++W6d+3qfCwqMjKUd7Jyq1b190ruAPC//6n7/759xqvT6mu5ueoYFywwHqMr/O1v8vZNmACABksHGiyihAZLj7CJqLS8GWYR15L300/LdT/7bOdjUbF8efAuz2OPAb16BftEWhrwxhuxsTbRb7+p+/+qVcar0+prv/6qjnHtWuMxukKfPvL2DRkCgAZLBxosooQGSw/ewbKOa8n73Xfluleq5J0JzLfcUjS2pCTgnHOAhx6KjUEvL0/9GPTP+T8m0dLs22/V12hWlvEYXWHYMHn7Lr8cAA2WDjRYRAkNlh6cg2Ud15L3kiVq7W3abNgyqlX/09NjZ9BTzf959VXjVWlpNnu2PL4KFbxjxKPliSfkbWzeHAANlg40WEQJDZYefIvQOq4l73CbDXvl0U/TpvL4nnwydga9tm3lbXz4YeNVaWk2dao8vsaNjcfnGm+9JW9jtWoAaLB0oMEiSmiw9IhoHawIt6dwlb17gQ0bgKNHba/KteSdmwuccQZwwQXAddcB994b3HD77bdDCyy6jmqV7XfeiZ1Br1cveRvvuMN4VVqajR4tj+/ii43H5xpffqnOR0eOxE5fcxAaLKKEBkuPiBJRmDfDPLOS+5NP/hVT1apAs2bBx1XjxhmvislbwaFD6kFv8eLY0e2OO+Rt7NXLeFVamg0YII/v+uuNx+camzer+9rPP8dOX3MQGiyihAZLj4gTUU5OcI5VWlqRN8M881hwxAh5su3WzXhVTN4K1qxRD3rbtsWObg8/LG9ju3bGq9LSTPX27/33G4/PNXJy1H1t4cLY6WsOQoNFlNBg6REziahvX3myHTjQeFUxo5lpPv1U/h3ExQG5ubGj2yuvqOf/GP6DQ0sz1Ty4p54yGpvrqO6qv/567PQ1B6HBIkposPSImUR04YXyZDtmjPGqYkYz06iMR716AGJItwkT1HdPDD8y19KsalXlPLiYQrYdkBDAv/8dO33NQWiwiBIaLD1iJhGdcYY82T73nPGqYkYz06iMx5+PzmJCN4df+rCs2dGj6ri++spITJ7hqqvk7bzjjtjoaw5Dg0WU0GDpoZ2IcnKATZuAL74AVq40H5gVAoHgRrayZPvBB8arY/JWMGSI/Dvo0wdADOjmwrIlljXbuFEd0+bNUcfjKW6/Xd7Oq6/2f19zARosooQGSw9LiWjiRKBNG6B27aIJ7ZZb7A2yJPbtUw8q339vvDombwWXXy7/DoYNAxADurmw8K5lzcItX3DsWNTxeIpHHpG387zz/N/XXIAGiyihwdLDUiIaPvz/27vz8CiqRG3gJ4tZ2BJAlGUCKptXUZQtSgYjXJFlUMJFFhcEhwuIMjouiI4SuUTBFVDQYfQ6GUHUGWHUFhTxInwMi3hVFpeRRRlBHFC5EIiEJJD3+6MnkZBzuvucPtVV1f3+nqf/MKGrTr9dnnrTXYt8Quvb19lBhrN5s3qnsnev9dVx8lY4/3z5e/DoowDiIDcXbh2lnVlxsXwsWVlRj8VzVK+1WTP/b2suYMEiJRYsM1oT0cnXmjr5ce65zg4ynGXL1MfCVFZaXx0nb4VGjeTvw6JFAOIgNxdufq6VWSAQvC+lbCwpKd64Xp1N770XfG2NGgXPnOzbN/hpemEhVv7rUg0UORYsUmLBMqM1gb/6qnzydvtmw889Jx9Xy5aOrM71ovDZZ8DbbwPPPw9MmwaMGwcMHBjc4bilpERdNNasAeCB3KLl5U+w/HLHBZuOHQtudxK+39ZcwIJFSixYZrQmonXr1JO3m7dqmTZNPqbu3R1ZneuTd7t28tc7Z457Y/riC/W28fXXADyQW7S8egwW7xlah++3NRewYJESC5YZrYnom2/UE/fWrc4ONJRx4+RjKihwZHWuT975+fLXO3mye2NasUK9bRw7BsADuUXLq2cRulD8vM7325oLWLBIiQXLjNZEVFmp/hpi2TJnBxrKwIHyMd1yiyOrc33yvu46+eu97jr3xvTCC/IxnXlmzT9xPTcbvHgdLBe+uvS6uNjWYowFi5RYsMxoT0StWskn7fnznRtkOJ07y8f08MOOrM71yXvyZPnrzc93b0z/9V/yMXXtWvNPXM/Nlhje/DyizFw4+N7r4mZbiyEWLFJiwTKjPRFdcol80n7gAecGGU6Ie5I5wfXJe84c+ett1869Mam+ph08uOafuJ6bTbKbn//pT8A//gEcOWJtNfwEy0xcbWsxwoJFSixYZrQnomuukU/aDtxUOSLHjql3JCtWOLJK1yfv116Tv97MTPfO5hwwQD6mW2+t+Seu52bbo48CY8YAffoEy216evA1/+uyFDbwGCwzcbetxQCddC0tAAAgAElEQVQLFimxYJnRnojuuEM+affp49wgQ9m1S70j+fxzR1bp+uS9fr36Nbt1NucFF8jH88gjNf/E9dxs69RJ/ppnzrS2Cp5FaCbutrUYYMEiJRYsM9oT0axZ8om7fXvnBhnK2rXqncmhQ46s0vXJO9TZnJ9+6s6YsrPl43nppZp/4nputqlOrpg40doqeB0sM3G3rcUACxYpsWCZ0Z6I/vIXb3099ec/y8fj4MVPXZ+8KyqApCT5616+PPbjqawERo4E8vKANm2A1NSfx7N6dc0/cz03226+Wf4e/OpX1lahfSX3GB187ymVlcCePcAHHwCLFwNz5uAfw4djzZIlbo/MV1iwSIkFy4z2Tm/DBvVfyD/+6NxAVR57TD6Wtm0dW6UnisKZZ8pf9wsvuDsuADhxAvjuu+CNtg8frvmxJ3KzacYM+XtwwQXWVqGdmezg+wUL4vdrwYMHlZ/c/e/cuW6PzldYsEiJBcuM9gT+7bfqgrVpk3MDlQkEgp+cycZy2mmO/cXuiaLQpYv8dU+f7u64QvBEbja99JL8PbB4Y+W4y8y2qirlHLC1sNDt0fkKCxYpsWCZ0Z7Ajx8P3jhWtmN56y3nBnoqF4858cRO76qr5K95wgR3xxWCJ3Kzac0a9bZn6fi/uMvMCe3bS9+DbQ5daDhesWCREguWGaMJPCdHvlN59llnBnkql8+a8sROT3X8z6BB7o4rBE/kZlMMbh0Vd5k5oXdv6XvwzbBhbo/MV1iwSIkFy4zRBN6zp3ynct99zgzyVC5f98cTO72iIvlrvfhid8cVgidysynUraOWLrWyirjLzAmjRknfg32XX+72yHyFBYuUWLDMGE3gI0bIdyo33ODMIE/l8pWrPbHT++Mf5a+1YUPPHtDsidxsc/jT3Igz+9//Be6+G5g7N/i1+JYtjl2mxHPuu0/6Hhzs1MntkfkKCxYpsWCZMdrp3X23fKcSq78YXb73mieKguref9Vfi3rwlHxP5GZbXp78Pbj3XiuLjzizp5+Wj8PiGY2eNW+e9LUfbd7c7ZH5CgsWKbFgmTHa6anuhefgpRFqSfRPsHx6UUnXc3PCtdfK87/uOiuLjzizu+6Sj8PNG4DHyhtvSF/7idTU4CVDKCIsWDG0du1aDBgwAI0bN0b9+vXRvXt3vPjii9rLKS4uhhBC+RgxYoSV8bJgmTHa6S1ZIp/M09Njc7HRRD4Gy8e3RYnLgjVlijz7X/7SyuIjzkx1j9Abb7QyDk/76CP1/wP79rk9Ot9gwYqRxYsXIyUlBUlJScjPz8fQoUORnZ0NIQTuuusurWVVF6zOnTtj9OjRdR7PWjpWgQXLjNFO78MPa09iZ5wBdO0KFBQAP/3kzEBPlshnEXrtxr7ffw889xzw9tvBM+f+7/+UJTsuC9Yzz8hzb93ayuIjzqxHD/k4HnjAyjg8bd8+9fb/0Uduj843WLBi4MCBA2jUqBGEEFhy0q0G9u3bh3bt2kEIgVWrVkW8vOqC9eCDD9of7ElYsMwY7fRKS4O3QPnqK+DYMWcGFk6iXgfL5a9H61i5su4669cHOnYM3tKn1j+Nw4L11lvy3FNSgmcZRinizFRX9n/++ajH4HknTgQvLCx7/W+84fbofIMFKwYeffRRCCEwePDgOr/761//CiEEBmlca4cFy9t8vdNz6d5rrmbm8gH+dag+UTv99Dr/1NfbmsqWLersd++OevERZVZWph7DihVRj8EXzjpL/vrnzXN7ZL7BghUDl112GYQQWLhwYZ3flZeXIyMjAxkZGSiL8GsXFixv8/1Oz4V7r/ETrJM89JB8vRddVOef+n5bkzl4UJ392rVRLz6izLZtU49h27aox+ALqrM5Y3VtvjjAghUDWVlZEELg888/l/6+W7duEEJgy5YtES2vumANGjQId999N8aPH4/CwkKsXr3a5rBZsAz5dqd34kTwYPtPPgke9xNDPAbrJBpXlPftthZKVVXw2mOyDBYtinrxEWW2YoX6/T96NOox+ILq2nyjRrk9Mt9gwXJYSUkJqs/uKykpkf6bgoICCCEQiPDrl1BnEebn52OfpbM8WLDM+Hand+pNp7OygM6dgwfaf/uto6vmWYQnGTRIvu6bb67zT327rYXTqZM8g5kzo150RJk9/7x8/WecEfX6fUN1mYrevd0emW+wYDls7969NeWnUnGA5vXXXw8hBBZF+NfZ8uXLMW3aNGzatAklJSXYt28fAoEAzj33XAgh0K1bNxw/fjziMZ533nnSR3p6OnJycmomJD4iewQCAQQCAdfHofv46KmnlMXi/73+elxntrmoCFVhDvCvSk7G5qIix8dyuF076fp3/vrXnsvNqccPubnSDPZcfXVMtrWvb7hBuv6Sjh1dzyZWj2233CLN4KdWrVwfm18eOTk5LFjhFBQUoGPHjlqPjRs3AnCmYKkcOXIEHTp0gBACL7/8csTPY8Gy+/DrTu+ze++VTqiV9etj5f/8T9xntrmoCOVZWdIMyrOyYlKuVq5cifJGjaRj+HzKFE/m5sRjz1VXSTP4ITc3Jtvad337Ste//7LLXM8mVo+thYXSDI6npzs+H8TLgwUrAp07d1Z+Jad6VF92wYmvCEOZN28ehBAYPXp01MviV4Rmqv/n8p3p0+Wf3lx4oeOr9kxmLhzgX8vRo+pP0ST5eCY322bMkGdg4TY1EWWWny9fv+Y1C31twwb1tvjMM5664K5X8SvCGLB9kHso7777LoQQuPLKK6NeFguWGd/u9G66ST6ZSi4vYptvM7Ntxw71Tk1y9lrc5vbSS3Vff716wYt/RimizFSXKHj66ajX7xt79oT8ytyr9+f0EhasGAh1mYaKigrtyzSE8uqrr0IIgSFDhkS9LBYsM1Z2ekePAtu3Bz+1ePFFxw8yBxA8eFU2kf72t46vOm6Lgq7331fv0CRX9I/b3HbuDJaZN94IntX644/WbhkVNrPjx4HUVPl7kEgX2Xz99dAFSwhP3p/TS1iwYsD2hUZDGTZsGIQQKCoqinpZLFhmotrp9ewpP6PtpDsAOEb1V/ucOY6vOm6Lgq4FC+TvQZMm0n/O3PSFzWz3bnWh2LQpdgN1k9fOrPUpFqwYUN0qZ//+/SFvlVN9wPy3p3x6MWPGDPzwww+1flZRUYFp06ZBCIHMzMw6zzHBgmUmqp1e27bulJzKyuCtSGTrfvNNZ9cNFoUaqmOPFMfBMTd9YTNbu1ZdJmJ8fTjXeO3acD7FghUjixcvRnJyMpKSktC7d29cc801NTd7vvPOO6XPqT44fteuXXV+np6ejry8PIwcORIDBw5Ey5YtIYRARkZGrRIXDRYsM1Ht9C6/XD6BOX1w7ddfqyfPrVudXTdYFGqMHy9/D/r3l/5z5qYvbGaLFsnfg4YNrX1N6Xleu7uBT7FgxdDatWvRv39/ZGdno169eujWrRv+9Kc/Kf+9qmAVFhaib9++aN26NTIzM5GRkYF27dphwoQJ+PLLL62NlwXLTFQ7vVGj5BPYiBF2B3mqUMf+HD7s7LrhsaJQURH8FGPBAmDaNGD0aKBXL+AXvwgeG+SUQABIS5O/BxkZ0mNdPJWbT4TNTPUpYqdOsRuk27x2f06fYsEiJRYsM1Ht9O67Tz6B9expd5CneuEF+XqbNnV2vf/iqaLw00/qHYlTN/oNBIIHDIfaiUkOKPZUbj4RNrMJE+T5DxwYu0G6jZ9gWcGCRUosWGai2uk9+6x8AsvJsTvIUz3wgHy93bo5u95/8VxRaN5cnsf8+fbXFcUBxZ7LzQfCZta/vzz7iRNjN0i38RgsK1iwSIkFy0xUO7233pJPYElJQGmp3YGe7Prr5esdNsy5dZ7Ec0WhZ095HlOm2F9XFDszz+XmA2Ez+7d/k+f+yCOxG6TbeBahFSxYpMSCZSaqnV6I+wGiSRPnrjmTlydf5z33OLO+U3iuKMSycEbxdYzncvOBkJlVVQUvaCrL/ZVXYjtQtxl+bU0/Y8EiJRYsM8Y7PTcntJYt5et79ln765LwXFGYOlWeR9eu9tcVxQHFnsvNSVVVwL59wIcfRvVpbsjMjh8Hnn8++JX5jTcGb5lz1lnBC4+uX2+8Tt8KBNSfZPFK7mGxYJESC5YZo52emx/Jl5Wp1/XOO/bWE4LnikJxsfpTRNv4CZZceTkwZgzQpw/Qrh2Qnv5zBmvXGi/WKLPjx4OPRPSv+3Pu79ULB7p0if39OX2MBYuUWLDMGE3gbh5U+uWX6vVYvOxHKJ4rCqtXqzM5eNDuungMllxVVfDaU7IMXn7ZeLFxnZmDmJs+FixSYsEyYzQRuXla9PLl6vXE6K9Uz03eoW6X8skndtfFswjVzj9fnkMUB5zHfWYOYW76WLBIiQXLjNFE5OaF/X7/e/k6WrSwt44wPDd5Hz+uvujn4sX21xcIBM8UDfWeJ+J1sAYMkGdxyy3Gi4z7zBzC3PSxYJESC5YZ332Cdc898nU4fXHTk3hy8u7QQZ7L4487sz6DA4o9mZtNqot+/upXxouM+8wcwtz0sWCREguWGd8dgzV8uHwd119vbx1heHLy7tdPnouTF5z81wHFGDo0+CllmAOKPZmbTarb1lxwgfEi4z4zhzA3fSxYpMSCZcZ3ZxF27y5fzwMP2FtHGJ6cvCdOlOfSr5/bI6vhydxseukl+XuQlWW8yLjPzCHMTR8LFimxYJlx9DpYSUn2rz1z553BU+HPPhtISfl5Xf/933bXE4InJ+/HH5e/B+3buz2yGp7MzaY1a9T/L/z+90Z/aMR9Zg5hbvpYsEiJBctMVBNRqONwhABGjbI72FNVVgK7dgGrVgF79zq7rpN4cvJevFj+HqSleeaaSJ7MzaZ//CP8p7maf3DEfWYOYW76WLBIiQXLTNQTUVkZcNFF8h3K6NHWxuklnpy8P/lEvWPfvdvt0QHwaG42/fWv4b8y17y7gTKzDz4IHo84eTIwb15wmVu2AIcOWXxB/hX325oDWLBIiQXLjJWJ6K675DuTSy6xM0iP8eTkfeiQeqe+erXbowPg0dxscei4RGVmzz0nX3bz5pZfmD/F9bbmEBYsUmLBMmNlInr+eflkn50dvMJ1nPHs5N2kifx9KC52e2QAPJybDQ6dWavM7P775cvNzbX8wvwprrc1h7BgkRILlhkrE1Gog3v377czUA/x7OTdtav8PZg61e2RAfBwbjY4dG04ZWbXXhvVcuNdXG9rDmHBIiUWLDNWJqL9+3+e4Js0CV7086abgEcfBX780c5APcSzk/ewYfKdrs1rhC1fDvznfwKPPQa88QbwxRfAsWMRPdWzudng0N0NpJkFAkBqqny5mZn2z9z1obje1hzCgkVKLFhmrExEVVXA2rXADz/YGZTHeXbynjJFvtO99FJ76/jd7+QHbl91VdinejY3G2L1CVYkl0fRPJA+HsX1tuYQFixSYsEyw4lIn2czmz/f+QOfr7lGvo6RI8M+1bO52RCLY7DcvMCvz8T1tuYQFixSYsEyw4lIn2czW7FCvcP96Sc767jwQvnyCwvDPtWzudkQi7MI3bxFlc/E9bbmEBYsUmLBMuObieibb4DZs4HXXwc2bwZKSlwbimcz++YbYNAg4De/CWb15pvAp58CR47YWf6JE8FjfGQ785deCvt0z+ZmiwNf39XKzM2brPtM3G9rDmDBIiUWLDO+mYiWLKm7A2nSJHh8UYwvBeGbzGzbs0e9M//ww7BPT4jcAoHg1fNlGaWnR3cld4cOpI9HCbGtWcaCRUosWGZ8MxE98YR8J9KuXcyH4pvMbFu5Ur0zP3gwgqcnSG733CPPyGDnxU+wzCTMtmYRCxYpsWCZ8c1EdOut8p1I374xH4pvMrPt97+XvwfNmkX09ITJ7eWX5TmlpgLl5VqL4jFYZhJmW7OIBYuUWLDM+GYi6tdPvhP59a9jPhTfZGbbHXfI34O8vIienjC5bd2qLj2ffaa1KJ5FaCZhtjWLWLBIiQXLjC8mokAASEmR70jq14/5NX98kZkTfvUr+Xtw000RPT1hcisvr30h0OxsoFcvYOJEYMcOrUXVyWzu3PDlitfBSpxtzSIWLFJiwTJjfSKqqgJ27w5eMmDu3OBXe5MmmS/PgxdWTNjJu317ef4zZ0b09ITK7YUXgHffBfbujeokjDqZLVoU/pOrBC9XQIJta5awYJESC5YZqxPRkiVAvXp1J/2sLLOdjEe/EvHF5F1WFjxmZ+jQ4NlkQ4cG/9s0o4oK9aeIS5ZEtAhf5OYxdTJTHUDfqFHwmKsE/lrwZNzW9LFgkRILlhmrE9Hf/qYuQPv26S/Powf1en7yDgTUxdT0E47t29W5f/ppRIvwfG4eVCez/v3l74HN+03GAW5r+liwSIkFy4zVieiHH9Q74dWr9Zfn0dPSPT15O/WV6tKl8mUlJQFHj0a0CE/n5lF1MmvZUv4+PPaYe4P0IG5r+liwSIkFy4z1iahJE/kO4A9/0F+WRy+s6NnJ28mvVGfNki+ndeuIF+HZ3DysVmah/oBZvtzdgXoMtzV9LFikxIJlxvpE1LOnfAdwxx36y+InWHqc/Er15pvly7jiiogX4dncPKxWZqEu9Prdd+4O1GO4reljwSIlFiwz1ieim26S7wAGDtRfFo/B0uNkIe3TR76MW26JeBGezc3DamWm+hSxWbOY3y7K67it6WPBIiUWLDPWJ6JHH5XvBM45R39ZZWXBawg58ZVXFDw7eTv5leovfiFfxpw5ES/Cs7l5WK3MxoyJ/n1MENzW9LFgkRILlhnrE9Ebb8h3AsnJZgVI9dXUqcvmdbCc+wTrp5/Uy3j77YiH59ncPKxWZja/fo9z3Nb0sWCREguWGesT0d//rt4ZR3g6fy2jR4f/5IpXcg9y6ivVLVvUy9i5M+LheTY3p1VVBY+RWrEi+DXf2LHAoUMRPbVWZidOBK8Ev3gxUFgIFBQAZ58dfN+ploTd1qLAgkVKLFhmrE9EFRW1bxNy8mPxYv3lnXeefFnt2rl2YUXPTt5OnUX42mvyZZx2GlBZGfHwPJubU0pKgMsuk59Zu25dRIuIKDMef1VHwm1rFrBgkRILlhlHJqIOHeQ75Ice0lvO4cPB6yzJlvXKK3bHrMHTk7cT18F6+GH5cjp21Bqap3NzQlVV8ArrsuwivGxJwmVmCXPTx4JFSixYZhyZiK6+Wr5TGTVKbzmrVln5aso2z0/egQDQsKE6u0WL9JZ3ww3y5WieGer53JygOm7qN7+J6OkJmZkFzE0fCxYpsWCZcWQimjxZvlPp3l1vOY89Jl9Okyaufi3ii8l72zZ1wVq2LPLlBAJA48by5WRman0S5ovcbBs/Xp5d794RPT0hM7OAueljwSIlFiwzjkxEL7wg36k0aqRXjK65Rr6cfv3sjleTLybvqiqgVSt5fvffH9kyLH/d6IvcbHv6aXluzZpF9PSEzMwC5qaPBYuUWLDMODIRrV2r3iE/9VTkB1e3aSNfxgMP2B2vJt9M3qqC2qdP+Oc6cMC8b3Kz6f331bnt3x/26QmZmQXMTR8LFimxYJlxZCL68cfwO+Rwn3rs369+fowvy3Aq30zeTz4pz69BA+D48dDPdeCSD77Jzabvv1dnFkEWCZmZBcxNHwsWKbFgmXFkIgoEwu+Qw321VFUFfP018OqrwF13Ab16AfXqBZ/7z3/aHa8m30zeGzao89+8OfRzHbhoqW9ys+2MM9Sf5oaRsJlFibnpY8EiJRYsM9YnIqeuxQQEr7n02Wf2xmrIN5P3sWNAWpo8+2efDf1cB26745vcbFPdx3HcuLBPXblyJda/+CJw8GAMBho/EnZbiwILFimxYJmxPhF59AbNNvlq8r70Unnu4S6ZwU+w7LntNnlml14a9qkrV65ESceOwX/fujVw1VXBkxT+/Ofg1eFJKmG3tSiwYJESC5YZ6xORU/fD8xBfTd533inPvV270M/jMVj2PPecPLOGDcOeVfv+ihU4rvoUsrg4NuP3oYTd1qLAgkVKLFhmrE9EDny15DW+mrwXL1ZnH+osNp5FaM/69ersZs0Kmd2G4mL1cz/+OHavwWcSdluLAgsWKbFgmeEnWPp8NXnv3avO/s03Qz/35pt5HSwbSkrCF1RFhp9OnSp/TkqKK/fh9IuE3daiwIJFSixYZngMlj7fTd6tW8uzv/de9XNOvhK8qmRFcrmNk/guN1uiOKv2HyNGyP/9uee68EL8I2G3tSiwYJESC5YZX51F6BG+m7xHjpTnn5+vfo7qGlopKcDgwcFirPne+S43G6L5/yEQwInUVPm/TU93/XpwXpaQ21qUWLBIiQXLjGPXwbL41ZLX+G7yfuop+XuQmQlUVMifc/nl8ufk5hoPw3e52WD6iW6c/z/ktITc1qLEgkVKLFhmHJuIAgH1X+6hvlo6fDh4JXgP893k/eGHtXfKF10ETJwILFwYvFbWqQ4eDH5SJXvvioqMh+G73GwwOSYxAT4FdlpCbmtRYsEiJRYsM45ORGVlwb/Ihw4Nni04dGj4r5b++MfgjuOcc4ARI4JfVa1ZA5SWOjNGA76bvCsqgIcfDt4X78iR8P/+1VfVO/RwV4APwXe52WByVm0CHMfotITc1qLEgkVKLFhmPDURlZUBvXvLdyLdurk9uhqeyswJ118vfw9+8Yuw120KJe5zkzH5BCsBzsR1WkJua1FiwSIlFiwznpmIQn2lKATQv7/bI6zhmcycUFkJNGkifw9uvjmqRcd1biomn0YlwLXknJaQ21qUWLBIiQXLjCcmokgO6E1K8swBvZ7IzFRZWXCnf/LXti+++PPXtmvWqN+DZcuiWrWvczNlcjwVP8GKWkJua1FiwSIlFiwzrk9ER4/67oBe1zMzFcmJB/fcI/99ZmbwvYqCb3OLlu4ZgY8/rv+pF9WSsNtaFFiwSIkFy4wrE9GxY8GdyahRQE6O73Ymvpy8I93Jq96Pq6+Oegi+zM0WnbNqr7km8v8fPPJHh9ck9LZmiAUrBkpLS7FgwQJMmjQJPXr0QFpaGoQQePDBB6NabiAQwGWXXYaGDRuiYcOGyM/Px9KlS+0MGixYpmI2EZWX/1yqGjXSK1Ue+zrEd5O3ztdUqsdzz0U9DN/lZlv1WbV5ecGLvMrOqt24MfL3hNfBUkr4bc0AC1YMbNq0CUKIOo9oCtbs2bMhhEBqair69++PwYMHIzMzE0IIzJ0718q4WbDMxGwiOnAAUF2VWufhgQN6fTd56x5oLXvs3Rv1MHyXW6xVVQG9ekX+yRXLlRK3NX0sWDGwc+dOjB07FvPnz8fHH3+M6dOnR1WwvvzyS6SkpCA9PR3r16+v+fm2bdvQtGlTpKamYseOHVGPmwXLTEwnogEDot/R8xMsfboHTcseFnbmvsstVqpPPLj0UnX+jRoBffpEdi054rZmgAXLBTNnzoyqYE2cOBFCCNx+++11fjdr1iwIITBp0qQoR8mCZSqmE9Ftt0W/o+cxWPp0T/tXfWIS5U7dd7nFQrjLk1Q/li93e6S+wm1NHwuWC6ItWK1bt4YQAn/729/q/G737t0QQlgpRixYZmI2EZWVAU2bur6Tt8F3k7eNT7AslFvf5ea0SE48EAKH27Z1e6S+w21NHwuWC6IpWAcPHkT1MVyliludnH766RBCoKSkJKpxsmCZidlEFO1xQB46oNd3k7eNY7CEiPrrWd/l5iSNEw8qGjTwxB8WfsJtTR8LlguiKVhbtmyBEAKNGzdW/puLLroIQghs3bo1ilGyYJmK2UQUzacoHjug13eTt42zCIWI+gQD3+XmJN5v0FHc1vSxYLkgmoK1bt06CCHQqlUr5b/Jy8uDEALr1q2LaJnnnXee9JGeno6cnJya/7H4iOwRCAQQCAQcX8+BLl20digVDRtif69e+Pzee7HqnXdcz8mNzGw+NhcVoSqCr6NCPfb36pVwuTn12B/p2YKWsk+0B7c1/UdOTg4LVjgFBQXo2LGj1mPjxo3K5bFgxfcjVhNRPO1Q/Dp5by4qQnlWlnHB+vzeexMyNyceun9wHOjSxfUx++nBbU3/wYIVgc6dO0N2HatQj1WrVimXx68I41v1/1yOi6OvRGKWmROqL3Y5dChw+eVAWlrkX9PyLEJ7eL9BR3Fb08evCF3Ag9zjW8wmIpOb3npUXE3euvfJi0Jc5RatOPqDw4u4reljwXIBL9MQ32I6EcVwZ+6kuJu8de6TF4W4yy0aGn9wlGdlefoPDi/itqaPBcsFvNBofIv5RBSjnbmT4nLyPvmrw3//d0euGB6XuUUjgj84qpKTsbmoyO2R+g63NX0sWC6ItGBVHzD/7bff1vr5ybfK2bBhQ83Pt2/fzlvleIArE1EMduZO4uRthrlJhPmDY3NRETMzwG1NHwtWjBQUFCA3Nxe5ubnIyclB9ZmA1T8rKCio85zqY6127dpV53fVn1SlpqZiwIABtW72/PTTT1sZMwuWGU5E+piZGeamEOIPDmZmhrnpY8GKkTZt2oQ861BWZEIVLAAIBALo1asXGjRogAYNGqBXr1546623rI2ZBcsMJyJ9zMwMc9PHzMwwN30sWKTEgmWGE5E+ZmaGueljZmaYmz4WLFJiwTLDiUgfMzPD3PQxMzPMTR8LFimxYJnhRKSPmZlhbvqYmRnmpo8Fi5RYsMxwItLHzMwwN33MzAxz08eCRUosWGY4EeljZmaYmz5mZoa56WPBIiUWLDOciPQxMzPMTR8zM8Pc9LFgkRILlhlORPqYmRnmpo+ZmWFu+liwSIkFywwnIn3MzAxz08fMzDA3fSxYpMSCZYYTkT5mZoa56WNmZpibPhYsUmLBMsOJSB8zM8Pc9DEzM8xNHwsWKbFgmeFEpI+ZmWFu+piZGeamjwWLlFiwzHAi0sfMzDA3fczMDHPTx4JFSixYZjgR6WNmZpibPmZmhrnpY8EiJRYsM5yI9DEzM8xNHzMzw9z0sWCREguWGWuFLFEAABL5SURBVE5E+piZGeamj5mZYW76WLBIiQXLDCcifczMDHPTx8zMMDd9LFikxIJlhhORPmZmhrnpY2ZmmJs+FixSYsEyw4lIHzMzw9z0MTMzzE0fCxYpsWCZ4USkj5mZYW76mJkZ5qaPBYuUWLDMcCLSx8zMMDd9zMwMc9PHgkVKLFhmOBHpY2ZmmJs+ZmaGueljwSIlFiwznIj0MTMzzE0fMzPD3PSxYJESC5YZTkT6mJkZ5qaPmZlhbvpYsEiJBcsMJyJ9zMwMc9PHzMwwN30sWKTEgmWGE5E+ZmaGueljZmaYmz4WLFJiwTLDiUgfMzPD3PQxMzPMTR8LFimxYJnhRKSPmZlhbvqYmRnmpo8Fi5RYsMxwItLHzMwwN33MzAxz08eCRUosWGY4EeljZmaYmz5mZoa56WPBIiUWLDOciPQxMzPMTR8zM8Pc9LFgkRILlhlORPqYmRnmpo+ZmWFu+liwSIkFywwnIn3MzAxz08fMzDA3fSxYpMSCZYYTkT5mZoa56WNmZpibPhYsUmLBMsOJSB8zM8Pc9DEzM8xNHwsWKbFgmeFEpI+ZmWFu+piZGeamjwWLlFiwzHAi0sfMzDA3fczMDHPTx4JFSixYZjgR6WNmZpibPmZmhrnpY8EiJRYsM5yI9DEzM8xNHzMzw9z0sWCREguWGU5E+piZGeamj5mZYW76WLBIiQXLDCcifczMDHPTx8zMMDd9LFikxIJlhhORPmZmhrnpY2ZmmJs+FixSYsEyw4lIHzMzw9z0MTMzzE0fCxYpsWCZ4USkj5mZYW76mJkZ5qaPBYuUWLDMcCLSx8zMMDd9zMwMc9PHgkVKLFhmOBHpY2ZmmJs+ZmaGueljwSIlFiwznIj0MTMzzE0fMzPD3PSxYJESC5YZTkT6mJkZ5qaPmZlhbvpYsEiJBcsMJyJ9zMwMc9PHzMwwN30sWKTEgmWGE5E+ZmaGueljZmaYmz4WLFJiwTLDiUgfMzPD3PQxMzPMTR8LFimxYJnhRKSPmZlhbvqYmRnmpo8Fi5RYsMxwItLHzMwwN33MzAxz08eCRUosWGY4EeljZmaYmz5mZoa56WPBIiUWLDOciPQxMzPMTR8zM8Pc9LFgkRILlhlORPqYmRnmpo+ZmWFu+liwSIkFywwnIn3MzAxz08fMzDA3fSxYpMSCZYYTkT5mZoa56WNmZpibPhYsUmLBMsOJSB8zM8Pc9DEzM8xNHwsWKbFgmeFEpI+ZmWFu+piZGeamjwWLlFiwzHAi0sfMzDA3fczMDHPTx4JFSixYZjgR6WNmZpibPmZmhrnpY8GKgdLSUixYsACTJk1Cjx49kJaWBiEEHnzwQaPlFRcXQwihfIwYMcLKuFmwzHAi0sfMzDA3fczMDHPTx4IVA5s2bZIWoWgLVufOnTF69Og6j2effdbKuFmwzHAi0sfMzDA3fczMDHPTx4IVAzt37sTYsWMxf/58fPzxx5g+fbqVgmX6/EixYJnhRKSPmZlhbvqYmRnmpo8FywUzZ85kwYpjnIj0MTMzzE0fMzPD3PSxYLmABSu+cSLSx8zMMDd9zMwMc9PHguUCWwVr0KBBuPvuuzF+/HgUFhZi9erVVsfJgmWGE5E+ZmaGueljZmaYmz4WLBfYKliyR35+Pvbt22dlnCxYZjgR6WNmZpibPmZmhrnpY8FyQbQFa/ny5Zg2bRo2bdqEkpIS7Nu3D4FAAOeeey6EEOjWrRuOHz8e8fLOO+886SM5ORmpqalo06YNHxqPnJwc5OTkuD4OPz2YGXOL1YOZMbdYPVJTU9GgQQOj/bxfaResgoICdOzYUeuxceNG5fKiLVgqR44cQYcOHSCEwMsvvxzx81QFSwiB5ORk5e/5kD/S09ORnp7u+jj89GBmzI2ZefvB3PQfycnJSElJsbqf9zrtgtW5c+eQF/aUPVatWqVcnlMFCwDmzZsHIQRGjx4d9bKqNxLSw9z0MTMzzE0fMzPD3PQlYma+/4owlHfffRdCCFx55ZVRLysRNw4bmJs+ZmaGueljZmaYm75EzCyuC9arr74KIQSGDBkS9bISceOwgbnpY2ZmmJs+ZmaGuelLxMziumANGzYMQggUFRVFvaxE3DhsYG76mJkZ5qaPmZlhbvoSMTPfFKzqA+a//fbbWj+fMWMGfvjhh1o/q6iowLRp0yCEQGZmZp3nmEjEjcMG5qaPmZlhbvqYmRnmpi8RM3OlYBUUFCA3Nxe5ubnIycmBEAKtWrWq+VlBQUGd51QfML9r1646P09PT0deXh5GjhyJgQMHomXLlhBCICMjA0uWLLEy5kTcOGxgbvqYmRnmpo+ZmWFu+hIxM1cKVps2bUKeddimTZs6z1EVrMLCQvTt2xetW7dGZmYmMjIy0K5dO0yYMAFffvllbF4QERER0Ulc/4qQiIiIKN6wYBERERFZxoJFREREZBkLFhEREZFlLFhERERElrFgEREREVnGgkVERERkGQtWCKWlpViwYAEmTZqEHj16IC0tLaKrzoe6xpcQAmVlZbF5AS4xzQ0A9uzZgzFjxqBFixZIT09H+/btUVhYGPeZhbJq1aqQ21Nubq7bQ3TN0aNHMXXqVLRv3x7p6elo0aIFbrrpJit3b4hX+fn5Ibend955x+0huuajjz7CzJkzMWTIELRq1aomk3CKi4vRvXt31K9fH40bN8aAAQOwbt26GIzYfbqZPfjggyG3vylTpsRw9M5iwQph06ZN0g0gkoJVv359jB49WvqoqKiIzQtwiWluO3bswOmnnw4hBDp16oThw4fjnHPOgRACeXl5OHbsWGxegMdUF6y2bdtKt6fp06e7PURXlJWV4ZJLLoEQAi1atMDw4cPRo0cPCCHQrFkzfPXVV24P0ZOqC9bQoUOl29PWrVvdHqJrBg8eLJ27Qrn99ttrbss2ePBg9OvXD6mpqUhJScHrr78eo5G7Rzez6oKVl5cn3f7+8pe/xHD0zmLBCmHnzp0YO3Ys5s+fj48//hjTp0+PuGDJrkafKExzy8vLgxACt912W83PKisrMWTIEMduCO4H1QVr9OjRbg/FU+6//34IIXDppZfiyJEjNT9/8sknIYRAfn6+e4PzsOqCdepdMQh45JFHMHXqVAQCAfzzn/9Eenp6yLLw3nvvQQiBpk2bYvv27TU/X79+PdLS0pCdnY2DBw/GYuiu0c2sumAVFxfHbpAuYcHSEOmNqRO9YJ0qktw2btwIIQTOOOOMOp9U7du3D6eddhoaN26MyspKh0frPSxYdZWXlyMrKwtCCHzyySd1fn/hhRdCCIGPPvrIhdF5GwtW5MKVhQEDBkAIgdmzZ9f53W233QYhBJ544gknh+g5LFg/Y8HSwIJlJpLcCgsLIYTA2LFjpb/v06cPhBBYtWqVM4P0MBasut5///2ar01lIv3UNBGxYEUuVFk4evRoze/37NlT5/dr1qxJyE9SWbB+xoKlQadgnX766XjooYcwfvx4/Pa3v8WLL75Y62uMRBJJbtXf4z/zzDPS3999990QQuCpp55yaJTeVV2wevbsiXvvvRfjxo3Dfffdh2XLluHEiRNuD88Vs2fPhhACw4YNk/5+6dKlEEJgyJAhMR6Z91UXrAceeAATJ07ErbfeiqeeegrffPON20PznFBlofpY02bNmkl/X1paCiEEGjdu7OQQPSfSgjVq1CjcfvvtmDBhAoqKiuLy02YWLA06BUv2aNq0KZYuXRqbwXpIJLldfPHFEELgzTfflP5+zpw5EELgzjvvdGiU3hXqLMILLrig1rEfieKOO+6AEAJ33HGH9PebN2+GEAJdunSJ8ci8T3UW4WmnnZawJ0yohCoLb775JoQQuPjii5XPz87OhhAChw8fdmqInhNpwZI9hg4dGlcfRLBgaYi0YN14441Yvnw59u7di9LSUmzatAmjRo2CEAJpaWn48MMPYzNgj4gkt/bt20MIgffee0/6++effx5CCIwbN86hUXrXJ598gsmTJ+ODDz7AgQMHcODAAaxcubLmDLqzzjoLhw4dcnuYMTVu3DgIIXD//fdLf79jxw4IIdC+ffsYj8z7pk6dioULF+Krr77C0aNHsW3bNjz88MPIzMyEEAJz5sxxe4ieEaosLFq0qOZsOJXqyxbs3bvXqSF6TriCtXDhQjzxxBP4/PPPUVpaij179mDRokU1WRUUFMRwtM6K64JVUFCAjh07aj02btyoXF6kBUvld7/7HYQQuPLKKw1fUWy4kVs8FyzbeVY7fvw4evXqBSEEZsyYEYNX4h0sWPa9++67EEIgOzsbR48edXs4nsCCpS9cwVL57rvv0LRpUwghsGHDBgdGFntxXbA6d+6s/ChS9Qh1EHW0BevQoUNISUlBWloaysvLzV5UDLiRWzx/RWg7z5NVH2uUaAfS8itCZ3Tr1i1hTyaR4VeE+kwLFvDzsbbxcnJKXBcs26ItWADQokULCCHw3Xff2RuYx/Egd+ds27YNQgh06NDB7aHEFA9yd8a1114LIQRefvllt4fiCTzIXV80BesPf/gDhBAYP3685VG5gwVLQ7QF68SJE6hfvz6EECgpKbE7OA/jZRqc88EHH4T9Kzoe8TINzujfv3/IT5ITTaSXaZDdmomXadD3yCOPhPxk2m9YsDREW7CWLVsWcqcQr2xeaDTebzOka/LkySGLabw6+UKjmzZtqvN7XmhU3/fff1/zB6Dsuk6JiBca1WdasKqqqpCbmwshBBYuXOjAyGKPBUtDJEXhlVdekZ4luHr1arRs2RJCCMyaNcvBUXpPpMW0+lY5t99+e83PKisr8R//8R8J/WnE7NmzsXv37lo/q6qqwvz585GamoqkpKSELBLVt8rp2bMnSktLa37OW+WorVu3Dq+//jqOHz9e6+e7du2q+f/v6quvdml03hPNrXLS09MT4lY5pwqV2ffff4958+bVOSbtyJEjmDBhAoQQaN68OX766adYDNVxLFhhFBQUIDc3F7m5ucjJyYEQAq1atar52amnlI4ePbrmmJghQ4Zg+PDhuOiii2oOXh45cmRCXBxSNzcA2L59e81ZJBdccAFGjBhRc7Pnnj17JuzNntu0aYOUlBR0794dw4cPx9VXX42zzz4bQggkJydj7ty5bg/RFWVlZTV/8Vbf7Ln6v3mzZ7ni4uKandjAgQNx3XXXIS8vDxkZGRBC4Pzzz8f+/fvdHqZrli5dWjNH5ebmIikpCUKIWj879VqG1Td7rlevHgYPHowBAwYk1M2edTLbtWsXhBBo0KABevfujeuuuw59+/atmfezs7Oxdu1al1+RPSxYYbRp0ybk2V6n3hLn7bffxvXXX49zzz0X2dnZSE1NxRlnnIEBAwbgtddec+dFuEA3t2q7d+/GmDFj0Lx5c6SlpaFdu3aYOnUqysrKYvsCPOTpp5/GoEGDcPbZZ6N+/fpIS0tDmzZtcMMNNyTcNdVOdfToUUydOhVt27ZFWloamjdvjjFjxvArLoUvvvgCEydORJcuXdCsWTOkpqYiKysLl1xyCZ588smEvzxDdQEN9ZDd4qW4uBhdu3ZFvXr1kJ2djf79+2PdunWxfwEu0Mns8OHDmDJlCvLz89GqVSukp6ejXr16OP/883HXXXdJj2XzMxYsIiIiIstYsIiIiIgsY8EiIiIisowFi4iIiMgyFiwiIiIiy1iwiIiIiCxjwSIiIiKyjAWLiIiIyDIWLCIiIiLLWLCIiIiILGPBIiIiIrKMBYuIiIjIMhYsIiIiIstYsIiIiIgsY8EiIiIisowFi4iIiMgyFiwi8rW3334bffv2RaNGjdC4cWMMHDgQO3bsAADMmjULQghs2LDB5VESUaJhwSIiX6qqqsKtt94KIQTOPPNMDBs2DJ06dYIQAl26dEFZWRlatmyJfv36uT1UIkpALFhE5EtFRUUQQuCXv/wlDh8+DACorKxE165dIYTAtGnTIITA+vXrXR4pESUiFiwi8p39+/cjIyMD6enp2LlzZ63f3X///RBCICMjA1deeaVLIySiRMeCRUS+8+STT0IIgQkTJtT53eOPPw4hBIQQWLdunQujIyJiwSIiH+rXrx+EEFi+fHmd31UXrCuuuMKFkRERBbFgEZHvNGvWDEKImmOvTjZ16lQIIfDee++5MDIioiAWLCLylfLycggh0KBBgzq/O3jwIJo2bQohBP7+97+7MDoioiAWLCLylYqKCiQlJSElJQVlZWW1fjdp0qSa46+2b9/u0giJiFiwiMiH2rZtCyEE5s6dW/Oz1157DcnJyUhLS4MQAu+8846LIySiRMeCRUS+M3v2bAghkJycjH79+uGKK65AUlISOnTogLlz50IIgZYtW+K2225ze6hElKBYsIjId6qqqjBr1ix07NgRaWlpyMrKwpAhQ/D999+jvLwcY8aMQUZGBvLz890eKhElKBYsIiIiIstYsIiIiIgsY8EiIiIisowFi4iIiMgyFiwiIiIiy1iwiIiIiCxjwSIiIiKy7P8DH0FL3VBEp1EAAAAASUVORK5CYII=\" width=\"600\">"
      ],
      "text/plain": [
       "<IPython.core.display.HTML object>"
      ]
     },
     "metadata": {},
     "output_type": "display_data"
    },
    {
     "data": {
      "text/plain": [
       "<matplotlib.legend.Legend at 0x7f6fc41c87f0>"
      ]
     },
     "execution_count": 6,
     "metadata": {},
     "output_type": "execute_result"
    }
   ],
   "source": [
    "fig = plt.figure(figsize = (4,4), dpi = 150)\n",
    "ax = fig.add_subplot(1,1,1)\n",
    "\n",
    "ax.set_title(\"Sine function\")\n",
    "\n",
    "a = np.linspace(-10, 10, 50)\n",
    "ax.plot(a, np.sin(a), color = 'red', linestyle = '--', linewidth = 3, marker = 'o', markersize = 5, label = 'test label')\n",
    "\n",
    "ax.set_xlabel(r\"$\\alpha$\")\n",
    "ax.set_ylabel(r\"$sin(\\alpha)$\")\n",
    "\n",
    "ax.set_xlim(-15, 15)\n",
    "ax.set_ylim(-1.5, 1.5)\n",
    "\n",
    "plt.grid()\n",
    "plt.legend()"
   ]
  },
  {
   "cell_type": "markdown",
   "metadata": {},
   "source": [
    "* Also, matplotlib supports in-line mode in notebook.\n",
    "```python\n",
    "%matplotlib inline\n",
    "```\n",
    "\n",
    "\n",
    "* There are other backends, such as tk, qt5, nbagg, and notebook.\n",
    "    * We will frequently use inline and notebook in this course."
   ]
  }
 ],
 "metadata": {
  "kernelspec": {
   "display_name": "Python 3 (ipykernel)",
   "language": "python",
   "name": "python3"
  },
  "language_info": {
   "codemirror_mode": {
    "name": "ipython",
    "version": 3
   },
   "file_extension": ".py",
   "mimetype": "text/x-python",
   "name": "python",
   "nbconvert_exporter": "python",
   "pygments_lexer": "ipython3",
   "version": "3.9.2"
  }
 },
 "nbformat": 4,
 "nbformat_minor": 1
}
